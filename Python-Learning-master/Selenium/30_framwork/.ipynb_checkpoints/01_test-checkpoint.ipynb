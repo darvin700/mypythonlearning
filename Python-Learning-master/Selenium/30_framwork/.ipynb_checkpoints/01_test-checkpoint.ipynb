{
 "cells": [
  {
   "cell_type": "code",
   "execution_count": 9,
   "metadata": {},
   "outputs": [
    {
     "name": "stdout",
     "output_type": "stream",
     "text": [
      "baseurl\n",
      "in side website\n",
      "Login Successful\n"
     ]
    }
   ],
   "source": [
    "from selenium import webdriver\n",
    "from selenium.webdriver.common.by import By\n",
    "\n",
    "class LoginTests():\n",
    "\n",
    "    def test_validLogin(self):\n",
    "        baseURL = \"https://letskodeit.teachable.com/\"\n",
    "        driver = webdriver.Chrome()\n",
    "        driver.maximize_window()\n",
    "        driver.implicitly_wait(3)\n",
    "        driver.get(baseURL)\n",
    "        print(\"baseurl\")\n",
    "\n",
    "        loginLink = driver.find_element(By.LINK_TEXT, \"Login\")\n",
    "        loginLink.click()\n",
    "\n",
    "        emailField = driver.find_element(By.ID, \"user_email\")\n",
    "        emailField.send_keys(\"test@email.com\")\n",
    "\n",
    "        passwordField = driver.find_element(By.ID, \"user_password\")\n",
    "        passwordField.send_keys(\"abcabc\")\n",
    "\n",
    "        loginButton = driver.find_element(By.NAME, \"commit\")\n",
    "        loginButton.click()\n",
    "        print(\"in side website\")\n",
    "        userIcon = driver.find_element(By.XPATH, '//img[@class=\"gravatar\"]')\n",
    "        if userIcon is not None:\n",
    "            print(\"Login Successful\")\n",
    "        else:\n",
    "            print(\"Login Failed\")\n",
    "\n",
    "ff = LoginTests()\n",
    "ff.test_validLogin()"
   ]
  },
  {
   "cell_type": "code",
   "execution_count": null,
   "metadata": {},
   "outputs": [],
   "source": []
  }
 ],
 "metadata": {
  "kernelspec": {
   "display_name": "Python 3",
   "language": "python",
   "name": "python3"
  },
  "language_info": {
   "codemirror_mode": {
    "name": "ipython",
    "version": 3
   },
   "file_extension": ".py",
   "mimetype": "text/x-python",
   "name": "python",
   "nbconvert_exporter": "python",
   "pygments_lexer": "ipython3",
   "version": "3.6.4"
  }
 },
 "nbformat": 4,
 "nbformat_minor": 2
}
