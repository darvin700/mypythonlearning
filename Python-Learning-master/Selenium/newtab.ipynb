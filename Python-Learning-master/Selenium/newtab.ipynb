{
 "cells": [
  {
   "cell_type": "code",
   "execution_count": 1,
   "metadata": {},
   "outputs": [],
   "source": [
    "from selenium import webdriver\n",
    "import time\n",
    " \n",
    "driver = webdriver.Chrome()\n",
    "driver.get('https://google.com')\n",
    "# Open a new window\n",
    "# This does not change focus to the new window for the driver.\n",
    "driver.execute_script(\"window.open('');\")\n",
    "time.sleep(3)\n",
    "# Switch to the new window\n",
    "s=\n",
    "driver.switch_to.window(.driverwindow_handles[1])\n",
    "driver.get(\"http://stackoverflow.com\")\n",
    "time.sleep(3)\n",
    "# close the active tab\n",
    "driver.close()\n",
    "time.sleep(3)\n",
    "# Switch back to the first tab\n",
    "driver.switch_to.window(driver.window_handles[0])\n",
    "driver.get(\"http://google.se\")\n",
    "time.sleep(3)\n",
    "# Close the only tab, will also close the browser.\n",
    "driver.close()"
   ]
  },
  {
   "cell_type": "code",
   "execution_count": null,
   "metadata": {},
   "outputs": [],
   "source": []
  }
 ],
 "metadata": {
  "kernelspec": {
   "display_name": "Python 3",
   "language": "python",
   "name": "python3"
  },
  "language_info": {
   "codemirror_mode": {
    "name": "ipython",
    "version": 3
   },
   "file_extension": ".py",
   "mimetype": "text/x-python",
   "name": "python",
   "nbconvert_exporter": "python",
   "pygments_lexer": "ipython3",
   "version": "3.7.3"
  }
 },
 "nbformat": 4,
 "nbformat_minor": 2
}
