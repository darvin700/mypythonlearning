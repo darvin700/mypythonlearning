{
 "cells": [
  {
   "cell_type": "code",
   "execution_count": 2,
   "metadata": {},
   "outputs": [
    {
     "name": "stdout",
     "output_type": "stream",
     "text": [
      "{'__name__': '__main__', '__doc__': 'Automatically created module for IPython interactive environment', '__package__': None, '__loader__': None, '__spec__': None, '__builtin__': <module 'builtins' (built-in)>, '__builtins__': <module 'builtins' (built-in)>, '_ih': ['', 'locals()', 'num1 = 100\\nnum2 = 200\\nname = \"TutorialsTeacher\"\\ndef add(x, y):\\n    z = x + y\\n    return z\\n\\nprint(globals())'], '_oh': {1: {...}}, '_dh': [WindowsPath('d:/Study/Python/Python_Training'), WindowsPath('d:/Study/Python/Python_Training')], 'In': ['', 'locals()', 'num1 = 100\\nnum2 = 200\\nname = \"TutorialsTeacher\"\\ndef add(x, y):\\n    z = x + y\\n    return z\\n\\nprint(globals())'], 'Out': {1: {...}}, 'get_ipython': <bound method InteractiveShell.get_ipython of <ipykernel.zmqshell.ZMQInteractiveShell object at 0x000001E9EC6249D0>>, 'exit': <IPython.core.autocall.ZMQExitAutocall object at 0x000001E9EC6357C0>, 'quit': <IPython.core.autocall.ZMQExitAutocall object at 0x000001E9EC6357C0>, 'open': <function open at 0x000001E9EAFB9B80>, '_': {...}, '__': '', '___': '', '__vsc_ipynb_file__': 'd:\\\\Study\\\\Python\\\\Python_Training\\\\11_localsglobals.ipynb', '_i': ' locals()', '_ii': '', '_iii': '', '_i1': ' locals()', '_1': {...}, '_i2': 'num1 = 100\\nnum2 = 200\\nname = \"TutorialsTeacher\"\\ndef add(x, y):\\n    z = x + y\\n    return z\\n\\nprint(globals())', 'num1': 100, 'num2': 200, 'name': 'TutorialsTeacher', 'add': <function add at 0x000001E9EC6C71F0>}\n"
     ]
    }
   ],
   "source": [
    "num1 = 100\n",
    "num2 = 200\n",
    "name = \"TutorialsTeacher\"\n",
    "def add(x, y):\n",
    "    z = x + y\n",
    "    return z\n",
    "\n",
    "print(globals())"
   ]
  },
  {
   "cell_type": "code",
   "execution_count": 3,
   "metadata": {},
   "outputs": [
    {
     "data": {
      "text/plain": [
       "{'__name__': '__main__',\n",
       " '__doc__': 'Automatically created module for IPython interactive environment',\n",
       " '__package__': None,\n",
       " '__loader__': None,\n",
       " '__spec__': None,\n",
       " '__builtin__': <module 'builtins' (built-in)>,\n",
       " '__builtins__': <module 'builtins' (built-in)>,\n",
       " '_ih': ['',\n",
       "  'locals()',\n",
       "  'num1 = 100\\nnum2 = 200\\nname = \"TutorialsTeacher\"\\ndef add(x, y):\\n    z = x + y\\n    return z\\n\\nprint(globals())',\n",
       "  'locals()'],\n",
       " '_oh': {1: {...}},\n",
       " '_dh': [WindowsPath('d:/Study/Python/Python_Training'),\n",
       "  WindowsPath('d:/Study/Python/Python_Training')],\n",
       " 'In': ['',\n",
       "  'locals()',\n",
       "  'num1 = 100\\nnum2 = 200\\nname = \"TutorialsTeacher\"\\ndef add(x, y):\\n    z = x + y\\n    return z\\n\\nprint(globals())',\n",
       "  'locals()'],\n",
       " 'Out': {1: {...}},\n",
       " 'get_ipython': <bound method InteractiveShell.get_ipython of <ipykernel.zmqshell.ZMQInteractiveShell object at 0x000001E9EC6249D0>>,\n",
       " 'exit': <IPython.core.autocall.ZMQExitAutocall at 0x1e9ec6357c0>,\n",
       " 'quit': <IPython.core.autocall.ZMQExitAutocall at 0x1e9ec6357c0>,\n",
       " 'open': <function io.open(file, mode='r', buffering=-1, encoding=None, errors=None, newline=None, closefd=True, opener=None)>,\n",
       " '_': {...},\n",
       " '__': '',\n",
       " '___': '',\n",
       " '__vsc_ipynb_file__': 'd:\\\\Study\\\\Python\\\\Python_Training\\\\11_localsglobals.ipynb',\n",
       " '_i': 'num1 = 100\\nnum2 = 200\\nname = \"TutorialsTeacher\"\\ndef add(x, y):\\n    z = x + y\\n    return z\\n\\nprint(globals())',\n",
       " '_ii': ' locals()',\n",
       " '_iii': '',\n",
       " '_i1': ' locals()',\n",
       " '_1': {...},\n",
       " '_i2': 'num1 = 100\\nnum2 = 200\\nname = \"TutorialsTeacher\"\\ndef add(x, y):\\n    z = x + y\\n    return z\\n\\nprint(globals())',\n",
       " 'num1': 100,\n",
       " 'num2': 200,\n",
       " 'name': 'TutorialsTeacher',\n",
       " 'add': <function __main__.add(x, y)>,\n",
       " '_i3': 'locals()'}"
      ]
     },
     "execution_count": 3,
     "metadata": {},
     "output_type": "execute_result"
    }
   ],
   "source": [
    "locals()"
   ]
  },
  {
   "cell_type": "code",
   "execution_count": 4,
   "metadata": {},
   "outputs": [
    {
     "name": "stdout",
     "output_type": "stream",
     "text": [
      "global symbol table: {'__name__': '__main__', '__doc__': 'Automatically created module for IPython interactive environment', '__package__': None, '__loader__': None, '__spec__': None, '__builtin__': <module 'builtins' (built-in)>, '__builtins__': <module 'builtins' (built-in)>, '_ih': ['', 'locals()', 'num1 = 100\\nnum2 = 200\\nname = \"TutorialsTeacher\"\\ndef add(x, y):\\n    z = x + y\\n    return z\\n\\nprint(globals())', 'locals()', \"def add(x,y):\\n        z=x+y\\n        print ('global symbol table:', globals())\\n        print ('local symbol table:', locals())\\n        return z\\n\\nadd(num1, num2)  \"], '_oh': {1: {...}, 3: {...}}, '_dh': [WindowsPath('d:/Study/Python/Python_Training'), WindowsPath('d:/Study/Python/Python_Training')], 'In': ['', 'locals()', 'num1 = 100\\nnum2 = 200\\nname = \"TutorialsTeacher\"\\ndef add(x, y):\\n    z = x + y\\n    return z\\n\\nprint(globals())', 'locals()', \"def add(x,y):\\n        z=x+y\\n        print ('global symbol table:', globals())\\n        print ('local symbol table:', locals())\\n        return z\\n\\nadd(num1, num2)  \"], 'Out': {1: {...}, 3: {...}}, 'get_ipython': <bound method InteractiveShell.get_ipython of <ipykernel.zmqshell.ZMQInteractiveShell object at 0x000001E9EC6249D0>>, 'exit': <IPython.core.autocall.ZMQExitAutocall object at 0x000001E9EC6357C0>, 'quit': <IPython.core.autocall.ZMQExitAutocall object at 0x000001E9EC6357C0>, 'open': <function open at 0x000001E9EAFB9B80>, '_': {...}, '__': {...}, '___': '', '__vsc_ipynb_file__': 'd:\\\\Study\\\\Python\\\\Python_Training\\\\11_localsglobals.ipynb', '_i': 'locals()', '_ii': 'num1 = 100\\nnum2 = 200\\nname = \"TutorialsTeacher\"\\ndef add(x, y):\\n    z = x + y\\n    return z\\n\\nprint(globals())', '_iii': ' locals()', '_i1': ' locals()', '_1': {...}, '_i2': 'num1 = 100\\nnum2 = 200\\nname = \"TutorialsTeacher\"\\ndef add(x, y):\\n    z = x + y\\n    return z\\n\\nprint(globals())', 'num1': 100, 'num2': 200, 'name': 'TutorialsTeacher', 'add': <function add at 0x000001E9EC60B8B0>, '_i3': 'locals()', '_3': {...}, '_i4': \"def add(x,y):\\n        z=x+y\\n        print ('global symbol table:', globals())\\n        print ('local symbol table:', locals())\\n        return z\\n\\nadd(num1, num2)  \"}\n",
      "local symbol table: {'x': 100, 'y': 200, 'z': 300}\n"
     ]
    },
    {
     "data": {
      "text/plain": [
       "300"
      ]
     },
     "execution_count": 4,
     "metadata": {},
     "output_type": "execute_result"
    }
   ],
   "source": [
    "def add(x,y):\n",
    "        z=x+y\n",
    "        print ('global symbol table:', globals())\n",
    "        print ('local symbol table:', locals())\n",
    "        return z\n",
    "\n",
    "add(num1, num2)  "
   ]
  },
  {
   "cell_type": "code",
   "execution_count": null,
   "metadata": {},
   "outputs": [],
   "source": [
    "x=10\n",
    "def myfunction():\n",
    "    x=10\n",
    "    x=x*2\n",
    "    print ('x inside function: ', x)\n",
    "myfunction()\n",
    "print ('x in global scope: ',x)"
   ]
  },
  {
   "cell_type": "code",
   "execution_count": null,
   "metadata": {},
   "outputs": [],
   "source": [
    "x=10\n",
    "def myfunction():\n",
    "    x=globals()['x']\n",
    "    x=x*2\n",
    "    globals()['x']=x                  \n",
    "    print ('global variable x inside function: ',x)\n",
    "    return\n",
    "myfunction()\n",
    "print ('global variable x in global scope: ',x)"
   ]
  },
  {
   "cell_type": "code",
   "execution_count": null,
   "metadata": {},
   "outputs": [],
   "source": [
    "x=10\n",
    "def myfunction():\n",
    "    global x\n",
    "    x=x*2                  \n",
    "    print ('global variable x inside function: ',x)\n",
    "    return\n",
    "myfunction()\n",
    "print ('global variable x in global scope: ',x)"
   ]
  }
 ],
 "metadata": {
  "kernelspec": {
   "display_name": "Python 3",
   "language": "python",
   "name": "python3"
  },
  "language_info": {
   "codemirror_mode": {
    "name": "ipython",
    "version": 3
   },
   "file_extension": ".py",
   "mimetype": "text/x-python",
   "name": "python",
   "nbconvert_exporter": "python",
   "pygments_lexer": "ipython3",
   "version": "3.9.0"
  }
 },
 "nbformat": 4,
 "nbformat_minor": 4
}
