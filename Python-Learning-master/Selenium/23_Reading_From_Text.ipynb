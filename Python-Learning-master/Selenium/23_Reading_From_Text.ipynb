{
 "cells": [
  {
   "cell_type": "code",
   "execution_count": 1,
   "metadata": {},
   "outputs": [
    {
     "name": "stdout",
     "output_type": "stream",
     "text": [
      "Test pass for   python\n",
      "\n",
      "Test pass for   java\n",
      "\n",
      "Test pass for   c\n",
      "\n",
      "Test pass for   oracle\n"
     ]
    }
   ],
   "source": [
    "from selenium import webdriver\n",
    "from time import sleep\n",
    "from selenium.webdriver.common.keys import Keys\n",
    "\n",
    "from selenium.webdriver.support.ui import WebDriverWait\n",
    "from selenium.webdriver.support.ui import Select\n",
    "from selenium.webdriver.support import expected_conditions as EC\n",
    "\n",
    "source = open(\"input.txt\", \"r\")\n",
    "values = source.readlines()\n",
    "source.close()\n",
    "# Execute For loop for each String in the values array\n",
    "# driver = webdriver.Firefox()\n",
    "driver=webdriver.Chrome()\n",
    "\n",
    "for search in values:\n",
    "    # driver = webdriver.Firefox()\n",
    "    # driver=webdriver.Chrome()\n",
    "    driver.get('http://www.google.com')\n",
    "    # element=driver.find_element_by_name(\"q\").send_keys(search)\n",
    "    # element.send_keys(Keys.RETURN)\n",
    "    # # element1.click()\n",
    "    # sleep(5)\n",
    "    # #element = WebDriverWait(driver, 5).until(EC.presence_of_element_located((By.XPATH, \"//*[contains(., 'Results')]\"))\n",
    "    # #assert search in element.text\n",
    "    # assert \"No Result found.\" not in driver.page_source\n",
    "    elem = driver.find_element_by_name(\"q\")\n",
    "    elem.clear()\n",
    "    elem.send_keys(search)\n",
    "    sleep(2)\n",
    "    # elem.send_keys(Keys.RETURN)\n",
    "    # sleep(2)\n",
    "    assert \"No Result found.\" not in driver.page_source\n",
    "    print(\"Test pass for  \",search)\n",
    "driver.close()"
   ]
  },
  {
   "cell_type": "code",
   "execution_count": null,
   "metadata": {},
   "outputs": [],
   "source": []
  },
  {
   "cell_type": "code",
   "execution_count": null,
   "metadata": {},
   "outputs": [],
   "source": []
  }
 ],
 "metadata": {
  "kernelspec": {
   "display_name": "Python 3",
   "language": "python",
   "name": "python3"
  },
  "language_info": {
   "codemirror_mode": {
    "name": "ipython",
    "version": 3
   },
   "file_extension": ".py",
   "mimetype": "text/x-python",
   "name": "python",
   "nbconvert_exporter": "python",
   "pygments_lexer": "ipython3",
   "version": "3.6.4"
  }
 },
 "nbformat": 4,
 "nbformat_minor": 2
}
