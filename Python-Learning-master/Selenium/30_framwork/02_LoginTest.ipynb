{
 "cells": [
  {
   "cell_type": "code",
   "execution_count": 1,
   "metadata": {},
   "outputs": [
    {
     "name": "stdout",
     "output_type": "stream",
     "text": [
      "Login Successful\n"
     ]
    }
   ],
   "source": [
    "from selenium import webdriver\n",
    "from selenium.webdriver.common.by import By\n",
    "# from login_page import LoginPage\n",
    "from login_page_enhanced import LoginPage\n",
    "\n",
    "import unittest\n",
    "\n",
    "class LoginTests(unittest.TestCase):\n",
    "\n",
    "    def test_validLogin(self):\n",
    "        baseURL = \"https://letskodeit.teachable.com/\"\n",
    "        driver = webdriver.Chrome()\n",
    "        driver.maximize_window()\n",
    "        driver.implicitly_wait(3)\n",
    "        driver.get(baseURL)\n",
    "\n",
    "        lp = LoginPage(driver)\n",
    "        lp.login(\"test@email.com\", \"abcabc\")\n",
    "#         lp.signup(\"user1\",\"user@gmail.com\",\"password1\")\n",
    "        userIcon = driver.find_element(By.XPATH, '//img[@class=\"gravatar\"]')\n",
    "        if userIcon is not None:\n",
    "            print(\"Login Successful\")\n",
    "        else:\n",
    "            print(\"Login Failed\")\n",
    "ff = LoginTests()\n",
    "ff.test_validLogin()"
   ]
  },
  {
   "cell_type": "code",
   "execution_count": null,
   "metadata": {},
   "outputs": [],
   "source": []
  }
 ],
 "metadata": {
  "kernelspec": {
   "display_name": "Python 3",
   "language": "python",
   "name": "python3"
  },
  "language_info": {
   "codemirror_mode": {
    "name": "ipython",
    "version": 3
   },
   "file_extension": ".py",
   "mimetype": "text/x-python",
   "name": "python",
   "nbconvert_exporter": "python",
   "pygments_lexer": "ipython3",
   "version": "3.7.3"
  }
 },
 "nbformat": 4,
 "nbformat_minor": 2
}
