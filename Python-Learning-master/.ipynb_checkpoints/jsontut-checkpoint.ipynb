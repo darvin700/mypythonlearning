{
 "cells": [
  {
   "cell_type": "markdown",
   "metadata": {},
   "source": [
    "### Python JSON to dict"
   ]
  },
  {
   "cell_type": "code",
   "execution_count": 1,
   "metadata": {},
   "outputs": [
    {
     "name": "stdout",
     "output_type": "stream",
     "text": [
      "{'name': 'Bob', 'languages': ['English', 'Fench']}\n",
      "['English', 'Fench']\n"
     ]
    }
   ],
   "source": [
    "import json\n",
    "\n",
    "person = '{\"name\": \"Bob\", \"languages\": [\"English\", \"Fench\"]}'\n",
    "person_dict = json.loads(person)\n",
    "\n",
    "# Output: {'name': 'Bob', 'languages': ['English', 'Fench']}\n",
    "print( person_dict)\n",
    "\n",
    "# Output: ['English', 'French']\n",
    "print(person_dict['languages'])"
   ]
  },
  {
   "cell_type": "markdown",
   "metadata": {},
   "source": [
    " ### Python read JSON file\n",
    "You can use json.load() method to read a file containing JSON object.\n",
    "\n",
    "Suppose, you have a file named person.json which contains a JSON object."
   ]
  },
  {
   "cell_type": "code",
   "execution_count": 2,
   "metadata": {},
   "outputs": [
    {
     "name": "stdout",
     "output_type": "stream",
     "text": [
      "{'president': {'name': 'Zaphod Beeblebrox', 'species': 'Betelgeusian'}}\n"
     ]
    }
   ],
   "source": [
    "\n",
    "import json\n",
    "\n",
    "with open('data_file.json') as f:\n",
    "  data = json.load(f)\n",
    "\n",
    "# Output: {'name': 'Bob', 'languages': ['English', 'Fench']}\n",
    "print(data)"
   ]
  },
  {
   "cell_type": "markdown",
   "metadata": {},
   "source": [
    " Convert dict to JSON"
   ]
  },
  {
   "cell_type": "code",
   "execution_count": 5,
   "metadata": {},
   "outputs": [
    {
     "name": "stdout",
     "output_type": "stream",
     "text": [
      "{\"name\": \"Bob\", \"age\": 12, \"children\": null}\n",
      "<class 'str'>\n"
     ]
    }
   ],
   "source": [
    "\n",
    "import json\n",
    "\n",
    "person_dict = {'name': 'Bob',\n",
    "'age': 12,\n",
    "'children': None\n",
    "}\n",
    "person_json = json.dumps(person_dict)\n",
    "\n",
    "# Output: {\"name\": \"Bob\", \"age\": 12, \"children\": null}\n",
    "print(person_json)\n",
    "print(type(person_json))\n",
    "\n"
   ]
  },
  {
   "cell_type": "code",
   "execution_count": 6,
   "metadata": {},
   "outputs": [
    {
     "name": "stdout",
     "output_type": "stream",
     "text": [
      "Convert Python dictionary into JSON formatted String\n",
      "{\"name\": \"Jane Doe\", \"salary\": 9000, \"skills\": [\"Python\", \"Machine Learning\", \"Web Development\"], \"email\": \"jane.doe@pynative.com\"}\n"
     ]
    }
   ],
   "source": [
    "import json\n",
    "\n",
    "def SendJsonResponse(resultDict):\n",
    "    print(\"Convert Python dictionary into JSON formatted String\")\n",
    "    developer_str = json.dumps(resultDict)\n",
    "    print(developer_str)\n",
    "\n",
    "# sample developer dict\n",
    "developer_Dict = {\n",
    "    \"name\": \"Jane Doe\",\n",
    "    \"salary\": 9000,\n",
    "    \"skills\": [\"Python\", \"Machine Learning\", \"Web Development\"],\n",
    "    \"email\": \"jane.doe@pynative.com\"\n",
    "}\n",
    "SendJsonResponse(developer_Dict)\n"
   ]
  },
  {
   "cell_type": "code",
   "execution_count": 7,
   "metadata": {},
   "outputs": [
    {
     "name": "stdout",
     "output_type": "stream",
     "text": [
      "Converting Python primitive types into JSON\n",
      "Done converting Python primitive types into JSON\n",
      "{\"colorList\": [\"Red\", \"Green\", \"Blue\"], \"carTuple\": [\"BMW\", \"Audi\", \"range rover\"], \"sampleString\": \"pynative.com\", \"sampleInteger\": 457, \"sampleFloat\": 225.48, \"booleantrue\": true, \"booleanfalse\": false, \"nonevalue\": null}\n"
     ]
    }
   ],
   "source": [
    "import json\n",
    "\n",
    "sampleDict = {\n",
    "    \"colorList\": [\"Red\", \"Green\", \"Blue\"],\n",
    "    \"carTuple\": (\"BMW\", \"Audi\", \"range rover\"),\n",
    "    \"sampleString\": \"pynative.com\",\n",
    "    \"sampleInteger\": 457,\n",
    "    \"sampleFloat\": 225.48,\n",
    "    \"booleantrue\": True,\n",
    "    \"booleanfalse\": False,\n",
    "    \"nonevalue\": None\n",
    "}\n",
    "print(\"Converting Python primitive types into JSON\")\n",
    "resultJSON = json.dumps(sampleDict)\n",
    "print(\"Done converting Python primitive types into JSON\")\n",
    "print(resultJSON)"
   ]
  },
  {
   "cell_type": "code",
   "execution_count": 8,
   "metadata": {},
   "outputs": [
    {
     "name": "stdout",
     "output_type": "stream",
     "text": [
      "Started writing JSON data into a file\n",
      "Done writing JSON data into .json file\n"
     ]
    }
   ],
   "source": [
    "import json\n",
    "\n",
    "# assume you have the following dictionary\n",
    "developer = {\n",
    "    \"name\": \"jane doe\",\n",
    "    \"salary\": 9000,\n",
    "    \"email\": \"JaneDoe@pynative.com\"\n",
    "}\n",
    "print(\"Started writing JSON data into a file\")\n",
    "with open(\"developer.json\", \"w\") as write_file:\n",
    "    json.dump(developer, write_file) # encode dict into JSON\n",
    "print(\"Done writing JSON data into .json file\")"
   ]
  },
  {
   "cell_type": "code",
   "execution_count": null,
   "metadata": {},
   "outputs": [],
   "source": [
    "import json\n",
    "\n",
    "developer = {\n",
    "    \"name\": \"jane doe\",\n",
    "    \"salary\": 9000,\n",
    "    \"skills\": [\"Raspberry pi\", \"Machine Learning\", \"Web Development\"],\n",
    "    \"email\": \"JaneDoe@pynative.com\"\n",
    "}\n",
    "\n",
    "with open(\"developerPrettyPrint.json\", \"w\") as write_file:\n",
    "    json.dump(developer, write_file, indent=4, separators=(\", \", \": \"), sort_keys=True)\n",
    "print(\"Done writing pretty printed JSON data into a file\")"
   ]
  }
 ],
 "metadata": {
  "kernelspec": {
   "display_name": "Python 3",
   "language": "python",
   "name": "python3"
  },
  "language_info": {
   "codemirror_mode": {
    "name": "ipython",
    "version": 3
   },
   "file_extension": ".py",
   "mimetype": "text/x-python",
   "name": "python",
   "nbconvert_exporter": "python",
   "pygments_lexer": "ipython3",
   "version": "3.8.3"
  }
 },
 "nbformat": 4,
 "nbformat_minor": 2
}
