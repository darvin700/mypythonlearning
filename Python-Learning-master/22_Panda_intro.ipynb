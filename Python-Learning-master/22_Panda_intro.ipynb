{
 "cells": [
  {
   "cell_type": "markdown",
   "metadata": {},
   "source": [
    "### What is Python Pandas?"
   ]
  },
  {
   "cell_type": "markdown",
   "metadata": {},
   "source": [
    "What is Python Pandas?\n",
    "Pandas is used for data manipulation, analysis and cleaning. Python pandas is well suited for different kinds of data, such as: \n",
    "\n",
    "Tabular data with heterogeneously-typed columns\n",
    "Ordered and unordered time series data\n",
    "Arbitrary matrix data with row & column labels\n",
    "Unlabelled data\n",
    "Any other form of observational or statistical data sets"
   ]
  },
  {
   "cell_type": "code",
   "execution_count": null,
   "metadata": {},
   "outputs": [],
   "source": [
    "pip install pandas"
   ]
  },
  {
   "cell_type": "code",
   "execution_count": null,
   "metadata": {},
   "outputs": [],
   "source": [
    "panda --version"
   ]
  },
  {
   "cell_type": "code",
   "execution_count": 1,
   "metadata": {},
   "outputs": [
    {
     "name": "stdout",
     "output_type": "stream",
     "text": [
      "   Day  Visitors  Bounce_Rate\n",
      "0    1      1000           20\n",
      "1    2       700           20\n",
      "2    3      6000           23\n",
      "3    4      1000           15\n",
      "4    5       400           10\n",
      "5    6       350           34\n"
     ]
    },
    {
     "name": "stderr",
     "output_type": "stream",
     "text": [
      "C:\\Users\\91973\\AppData\\Local\\Temp\\ipykernel_1604\\2488232689.py:1: DeprecationWarning: \n",
      "Pyarrow will become a required dependency of pandas in the next major release of pandas (pandas 3.0),\n",
      "(to allow more performant data types, such as the Arrow string type, and better interoperability with other libraries)\n",
      "but was not found to be installed on your system.\n",
      "If this would cause problems for you,\n",
      "please provide us feedback at https://github.com/pandas-dev/pandas/issues/54466\n",
      "        \n",
      "  import pandas as pd\n"
     ]
    }
   ],
   "source": [
    "import pandas as pd\n",
    " \n",
    "XYZ_web= {'Day':[1,2,3,4,5,6], \"Visitors\":[1000, 700,6000,1000,400,350], \"Bounce_Rate\":[20,20, 23,15,10,34]}\n",
    " \n",
    "df= pd.DataFrame(XYZ_web)\n",
    " \n",
    "print(df)"
   ]
  },
  {
   "cell_type": "code",
   "execution_count": 2,
   "metadata": {},
   "outputs": [
    {
     "name": "stdout",
     "output_type": "stream",
     "text": [
      "   Visitors  Day  Bounce_Rate\n",
      "0      1000    1           20\n",
      "1       700    2           20\n",
      "2      6000    3           23\n",
      "3      1000    4           15\n",
      "4       400    5           10\n",
      "5       350    6           34\n"
     ]
    }
   ],
   "source": [
    "XYZ_web= { \"Visitors\":[1000, 700,6000,1000,400,350], 'Day':[1,2,3,4,5,6],\"Bounce_Rate\":[20,20, 23,15,10,34]}\n",
    " \n",
    "df= pd.DataFrame(XYZ_web)\n",
    " \n",
    "print(df)"
   ]
  },
  {
   "cell_type": "code",
   "execution_count": 3,
   "metadata": {},
   "outputs": [
    {
     "name": "stdout",
     "output_type": "stream",
     "text": [
      "   Visitors  Day  Bounce_Rate\n",
      "0      1000    1           20\n",
      "1       700    2           20\n"
     ]
    }
   ],
   "source": [
    "print(df.head(2))"
   ]
  },
  {
   "cell_type": "code",
   "execution_count": 4,
   "metadata": {},
   "outputs": [
    {
     "name": "stdout",
     "output_type": "stream",
     "text": [
      "   Visitors  Day  Bounce_Rate\n",
      "4       400    5           10\n",
      "5       350    6           34\n"
     ]
    }
   ],
   "source": [
    "print(df.tail(2))"
   ]
  },
  {
   "cell_type": "markdown",
   "metadata": {},
   "source": [
    "### Merging & Joining\n",
    "In merging, you can merge two data frames to form a single data frame. You can also decide which columns you want to make common. Let me implement that practically, first I will create three data frames, which has some key-value pairs and then merge the data frames together. Refer the code below:"
   ]
  },
  {
   "cell_type": "code",
   "execution_count": 5,
   "metadata": {},
   "outputs": [
    {
     "name": "stdout",
     "output_type": "stream",
     "text": [
      "   id  Name_x subject_id_x Name_y subject_id_y\n",
      "0   1    Alex         sub1  Billy         sub2\n",
      "1   2     Amy         sub2  Brian         sub4\n",
      "2   3   Allen         sub4   Bran         sub3\n",
      "3   4   Alice         sub6  Bryce         sub6\n",
      "4   5  Ayoung         sub5  Betty         sub5\n"
     ]
    }
   ],
   "source": [
    "import pandas as pd\n",
    "left = pd.DataFrame({\n",
    "   'id':[1,2,3,4,5],\n",
    "   'Name': ['Alex', 'Amy', 'Allen', 'Alice', 'Ayoung'],\n",
    "   'subject_id':['sub1','sub2','sub4','sub6','sub5']})\n",
    "right = pd.DataFrame({\n",
    "\t'id':[1,2,3,4,5],\n",
    "   'Name': ['Billy', 'Brian', 'Bran', 'Bryce', 'Betty'],\n",
    "   'subject_id':['sub2','sub4','sub3','sub6','sub5']})\n",
    "print (pd.merge(left,right,on='id'))"
   ]
  },
  {
   "cell_type": "markdown",
   "metadata": {},
   "source": [
    "As you can see above, the two data frames has merged into a single data frame. Now, you can also specify the column which you want to make common. For example, I want the “HPI” column to be common and for everything else, I want separate columns. So, let me implement that practically:"
   ]
  },
  {
   "cell_type": "code",
   "execution_count": 6,
   "metadata": {},
   "outputs": [
    {
     "name": "stdout",
     "output_type": "stream",
     "text": [
      "   HPI  Int_Rate_x  IND_GDP_x  Int_Rate_y  IND_GDP_y\n",
      "0   80           2         50           2         50\n",
      "1   90           1         45           1         45\n",
      "2   70           2         45           2         45\n",
      "3   60          30         67           3         67\n"
     ]
    }
   ],
   "source": [
    "df1 = pd.DataFrame({\"HPI\":[80,90,70,60],\"Int_Rate\":[2,1,2,30], \"IND_GDP\":[50,45,45,67]}, index=[2001, 2002,2003,2004])\n",
    " \n",
    "df2 = pd.DataFrame({\"HPI\":[80,90,70,60],\"Int_Rate\":[2,1,2,3],\"IND_GDP\":[50,45,45,67]}, index=[2001, 2002,2003,2004])\n",
    " \n",
    "merged= pd.merge(df1,df2,on =\"HPI\")\n",
    " \n",
    "print(merged)"
   ]
  },
  {
   "cell_type": "markdown",
   "metadata": {},
   "source": [
    "### Joining\n",
    " It is yet another convenient method to combine two differently indexed dataframes into a single result dataframe. This is quite similar to the “merge” operation, except the joining operation will be on the “index” instead of  the “columns”. Let us implement it practically."
   ]
  },
  {
   "cell_type": "code",
   "execution_count": 7,
   "metadata": {},
   "outputs": [
    {
     "name": "stdout",
     "output_type": "stream",
     "text": [
      "      Int_Rate  IND_GDP  Low_Tier_HPI  Unemployment\n",
      "2001         2       50            50             1\n",
      "2002         1       45            45             3\n",
      "2003         2       45            67             5\n",
      "2004         3       67            34             6\n"
     ]
    }
   ],
   "source": [
    "df1 = pd.DataFrame({\"Int_Rate\":[2,1,2,3], \"IND_GDP\":[50,45,45,67]}, index=[2001, 2002,2003,2004])\n",
    " \n",
    "df2 = pd.DataFrame({\"Low_Tier_HPI\":[50,45,67,34],\"Unemployment\":[1,3,5,6]}, index=[2001, 2002,2003,2004])\n",
    " \n",
    "joined= df1.join(df2)\n",
    "print(joined)"
   ]
  },
  {
   "cell_type": "markdown",
   "metadata": {},
   "source": [
    "As you can notice in the above output, in year 2002(index), there is no value attached to columns “low_tier_HPI” and “unemployment”, therefore it has printed NaN (Not a Number). Later in 2004, both the values are available, therefore it has printed the respective values."
   ]
  },
  {
   "cell_type": "markdown",
   "metadata": {},
   "source": [
    "### Concatenation \n",
    "Concatenation basically glues the dataframes together. You can select the dimension on which you want to concatenate. For that, just use “pd.concat” and pass in the list of dataframes to concatenate together. Consider the below example.\n",
    "\n"
   ]
  },
  {
   "cell_type": "code",
   "execution_count": 8,
   "metadata": {},
   "outputs": [
    {
     "name": "stdout",
     "output_type": "stream",
     "text": [
      "      HPI  Int_Rate  IND_GDP\n",
      "2001   80         2       50\n",
      "2002   90         1       45\n",
      "2003   70         2       45\n",
      "2004   60         3       67\n",
      "2005   80         2       50\n",
      "2006   90         1       45\n",
      "2007   70         2       45\n",
      "2008   60         3       67\n"
     ]
    }
   ],
   "source": [
    "df1 = pd.DataFrame({\"HPI\":[80,90,70,60],\"Int_Rate\":[2,1,2,3], \"IND_GDP\":[50,45,45,67]}, index=[2001, 2002,2003,2004])\n",
    " \n",
    "df2 = pd.DataFrame({\"HPI\":[80,90,70,60],\"Int_Rate\":[2,1,2,3],\"IND_GDP\":[50,45,45,67]}, index=[2005, 2006,2007,2008])\n",
    " \n",
    "concat= pd.concat([df1,df2])\n",
    " \n",
    "print(concat)"
   ]
  },
  {
   "cell_type": "markdown",
   "metadata": {},
   "source": [
    "As you can see above, the two dataframes are glued together in a single dataframe, where the index starts from 2001 all the way upto 2008. Next, you can also specify axis=1 in order to join, merge or cancatenate along the columns. Refer the code below:"
   ]
  },
  {
   "cell_type": "code",
   "execution_count": 9,
   "metadata": {},
   "outputs": [
    {
     "name": "stdout",
     "output_type": "stream",
     "text": [
      "       HPI  Int_Rate  IND_GDP   HPI  Int_Rate  IND_GDP\n",
      "2001  80.0       2.0     50.0   NaN       NaN      NaN\n",
      "2002  90.0       1.0     45.0   NaN       NaN      NaN\n",
      "2003  70.0       2.0     45.0   NaN       NaN      NaN\n",
      "2004  60.0       3.0     67.0   NaN       NaN      NaN\n",
      "2005   NaN       NaN      NaN  80.0       2.0     50.0\n",
      "2006   NaN       NaN      NaN  90.0       1.0     45.0\n",
      "2007   NaN       NaN      NaN  70.0       2.0     45.0\n",
      "2008   NaN       NaN      NaN  60.0       3.0     67.0\n"
     ]
    }
   ],
   "source": [
    "df1 = pd.DataFrame({\"HPI\":[80,90,70,60],\"Int_Rate\":[2,1,2,3], \"IND_GDP\":[50,45,45,67]}, index=[2001, 2002,2003,2004])\n",
    " \n",
    "df2 = pd.DataFrame({\"HPI\":[80,90,70,60],\"Int_Rate\":[2,1,2,3],\"IND_GDP\":[50,45,45,67]}, index=[2005, 2006,2007,2008])\n",
    " \n",
    "concat= pd.concat([df1,df2],axis=1)\n",
    " \n",
    "print(concat)"
   ]
  },
  {
   "cell_type": "markdown",
   "metadata": {},
   "source": [
    "### Change the index\n",
    "Next in python pandas tutorial, we’ll understand how to change the index values in a dataframe. For example, let us create a dataframe with some key value pairs in a dictionary and change the index values. Consider the example below: \n",
    "\n",
    "Let us see how it actually happens:"
   ]
  },
  {
   "cell_type": "code",
   "execution_count": 10,
   "metadata": {},
   "outputs": [
    {
     "name": "stdout",
     "output_type": "stream",
     "text": [
      "     Visitors  Bounce_Rate\n",
      "Day                       \n",
      "1         200           20\n",
      "2         100           45\n",
      "3         230           60\n",
      "4         300           10\n"
     ]
    }
   ],
   "source": [
    "import pandas as pd\n",
    " \n",
    "df= pd.DataFrame({\"Day\":[1,2,3,4], \"Visitors\":[200, 100,230,300], \"Bounce_Rate\":[20,45,60,10]}) \n",
    " \n",
    "df.set_index(\"Day\", inplace= True)\n",
    " \n",
    "print(df)"
   ]
  },
  {
   "cell_type": "markdown",
   "metadata": {},
   "source": [
    "### Change the Column Headers\n",
    "Let us now change the headers of column in this python pandas tutorial. Let us take the same example, where I will change the column header from “Visitors” to “Users”. So, let me implement it practically"
   ]
  },
  {
   "cell_type": "code",
   "execution_count": 11,
   "metadata": {},
   "outputs": [
    {
     "name": "stdout",
     "output_type": "stream",
     "text": [
      "   Day  Users  Bounce_Rate\n",
      "0    1    200           20\n",
      "1    2    100           45\n",
      "2    3    230           60\n",
      "3    4    300           10\n"
     ]
    }
   ],
   "source": [
    "import pandas as pd\n",
    " \n",
    "df = pd.DataFrame({\"Day\":[1,2,3,4], \"Visitors\":[200, 100,230,300], \"Bounce_Rate\":[20,45,60,10]})\n",
    " \n",
    "df = df.rename(columns={\"Visitors\":\"Users\"})\n",
    " \n",
    "print(df)"
   ]
  },
  {
   "cell_type": "code",
   "execution_count": 13,
   "metadata": {},
   "outputs": [
    {
     "name": "stdout",
     "output_type": "stream",
     "text": [
      "                     Country Code       2010       2011       2012       2013  \\\n",
      "Country Name                                                                    \n",
      "Afghanistan                   AFG  20.600000  20.900000  19.700001  21.100000   \n",
      "Angola                        AGO  10.800000  10.700000  10.700000  10.600000   \n",
      "Albania                       ALB  25.799999  27.000000  28.299999  28.700001   \n",
      "Arab World                    ARB  25.022214  28.117516  29.113212  29.335306   \n",
      "United Arab Emirates          ARE   9.800000   9.800000   9.800000   9.900000   \n",
      "...                           ...        ...        ...        ...        ...   \n",
      "Yemen, Rep.                   YEM  30.299999  30.000000  30.200001  30.200001   \n",
      "South Africa                  ZAF  50.799999  50.099998  52.200001  51.400002   \n",
      "Congo, Dem. Rep.              COD  12.300000  12.300000  12.300000  12.200000   \n",
      "Zambia                        ZMB  26.400000  26.600000  26.600000  25.500000   \n",
      "Zimbabwe                      ZWE   9.600000   8.300000   8.300000   8.900000   \n",
      "\n",
      "                           2014  \n",
      "Country Name                     \n",
      "Afghanistan           20.799999  \n",
      "Angola                10.500000  \n",
      "Albania               29.200001  \n",
      "Arab World            29.704569  \n",
      "United Arab Emirates  10.000000  \n",
      "...                         ...  \n",
      "Yemen, Rep.           29.900000  \n",
      "South Africa          52.599998  \n",
      "Congo, Dem. Rep.      11.900000  \n",
      "Zambia                25.100000  \n",
      "Zimbabwe               9.400000  \n",
      "\n",
      "[219 rows x 6 columns]\n"
     ]
    }
   ],
   "source": [
    "import pandas as pd\n",
    " \n",
    "country= pd.read_csv(\"22_API_ILO_country_YU.csv\",index_col=0)\n",
    "print(country)\n",
    " \n",
    "country.to_html('22_edu.html')"
   ]
  },
  {
   "cell_type": "code",
   "execution_count": 15,
   "metadata": {},
   "outputs": [
    {
     "data": {
      "image/png": "[encoded data removed]",
      "text/plain": [
       "<Figure size 640x480 with 1 Axes>"
      ]
     },
     "metadata": {},
     "output_type": "display_data"
    }
   ],
   "source": [
    "import pandas as pd\n",
    " \n",
    "import matplotlib.pyplot as plt\n",
    " \n",
    "from matplotlib import style\n",
    " \n",
    "style.use('fivethirtyeight')\n",
    " \n",
    "country= pd.read_csv(\"22_API_ILO_country_YU.csv\",index_col=0)\n",
    " \n",
    "df= country.head(5)\n",
    " \n",
    "fd= df.set_index([\"Country Code\"])\n",
    " \n",
    "sd = fd.reindex(columns=['2010','2011'])\n",
    " \n",
    "db= sd.diff(axis=1)\n",
    " \n",
    "db.plot(kind=\"bar\")\n",
    " \n",
    "plt.show()"
   ]
  },
  {
   "cell_type": "code",
   "execution_count": null,
   "metadata": {},
   "outputs": [],
   "source": [
    "9+4-5"
   ]
  },
  {
   "cell_type": "code",
   "execution_count": null,
   "metadata": {},
   "outputs": [],
   "source": [
    "9*2+4"
   ]
  },
  {
   "cell_type": "code",
   "execution_count": null,
   "metadata": {},
   "outputs": [],
   "source": [
    ".01+.02==.03"
   ]
  },
  {
   "cell_type": "code",
   "execution_count": null,
   "metadata": {},
   "outputs": [],
   "source": []
  }
 ],
 "metadata": {
  "kernelspec": {
   "display_name": "Python 3",
   "language": "python",
   "name": "python3"
  },
  "language_info": {
   "codemirror_mode": {
    "name": "ipython",
    "version": 3
   },
   "file_extension": ".py",
   "mimetype": "text/x-python",
   "name": "python",
   "nbconvert_exporter": "python",
   "pygments_lexer": "ipython3",
   "version": "3.9.0"
  }
 },
 "nbformat": 4,
 "nbformat_minor": 2
}
