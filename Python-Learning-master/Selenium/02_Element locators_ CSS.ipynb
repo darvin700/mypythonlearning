{
 "cells": [
  {
   "cell_type": "markdown",
   "metadata": {},
   "source": [
    "### What is CSS?\n",
    "* CSS stands for Cascading Style Sheets\n",
    "* CSS describes how HTML elements are to be displayed on screen, paper, or in other media\n",
    "* CSS saves a lot of work. It can control the layout of multiple web pages all at once\n",
    "* External stylesheets are stored in CSS files"
   ]
  },
  {
   "cell_type": "markdown",
   "metadata": {},
   "source": [
    "Every element does not have an id -­‐> static id, unique name, unique link text.\n",
    "For\n",
    "those\n",
    "elements\n",
    "we\n",
    "need\n",
    "to\n",
    "build\n",
    "xpath\n",
    "to\n",
    "find\n",
    "and\n",
    "then\n",
    "perform\n",
    "actions\n",
    "on\n",
    "them.\n",
    "Whatever\n",
    "we\n",
    "use\n",
    "to\n",
    "find\n",
    "an\n",
    "element,\n",
    "id,\n",
    "name,\n",
    "xpath,\n",
    "css\n",
    "-­‐>\n",
    "It\n",
    "should\n",
    "always\n",
    "be\n",
    "unique.\n",
    "It\n",
    "should\n",
    "only\n",
    "find\n",
    "one\n",
    "matching\n",
    "node\n",
    "unless\n",
    "we\n",
    "want\n",
    "to\n",
    "capture\n",
    "a\n",
    "list\n",
    "of\n",
    "elements"
   ]
  },
  {
   "cell_type": "markdown",
   "metadata": {},
   "source": [
    "Syntax:\n",
    "tag[attribute='value']<br>\n",
    "“#”\n",
    "-­‐>\n",
    "Id<br>\n",
    "“.”\n",
    "-­‐>\n",
    "Class<br>\n",
    "it is only for id and class"
   ]
  },
  {
   "cell_type": "markdown",
   "metadata": {},
   "source": [
    "#### ID\n",
    "* input[id=displayed-text]<br>\n",
    "* #displayed-text<br>\n",
    "If we have multiple element than we can use tag namr<br>\n",
    "* input#displayed-text<br>"
   ]
  },
  {
   "cell_type": "markdown",
   "metadata": {},
   "source": [
    "#### class\n",
    "* input[class=displayed-class]\n",
    "* .displayed-class\n",
    "* input.displayed-class\n"
   ]
  },
  {
   "cell_type": "markdown",
   "metadata": {},
   "source": [
    "#### Appending Classes\n",
    ".class1.class2.class3\n",
    "Until we find a unique element"
   ]
  },
  {
   "cell_type": "markdown",
   "metadata": {},
   "source": [
    "#### Using wildcards in CSS Selectors:\n",
    "* “^” -­‐> Represents the starting text\n",
    "* “$” -­‐> Represents  the ending text\n",
    "* “*” -­‐> Represents the text contained\n",
    "\n",
    "#### Syntax:\n",
    "tag[attribute<special character>=’value’]\n",
    "Examples:\n",
    "* input[class='inputs'] -­‐> Only 1 matching node\n",
    "* input[class^='inputs'] -­‐> Two matching nodes\n",
    "* input[class='displayed-­‐class'] -­‐No matching nodes\n",
    "* input[class$='class'] -­‐> One matching node\n",
    "* input[class*='displayed-­‐class'] -­‐> One matching node\n",
    "* input[placeolder='Enter'] --> no element \n",
    "* input[placeolder*='Enter'] \n",
    "* input[placeolder*='Example']"
   ]
  },
  {
   "cell_type": "markdown",
   "metadata": {},
   "source": [
    "Finding Children\n",
    "* fieldset-­‐>10 matching nodes\n",
    "* Fieldset>table\n",
    "* fieldset>#product one mathing noed\n",
    "* fieldset>button one matching node\n",
    "\n",
    "One\n",
    "matching\n",
    "node\n",
    "Fieldset>a<br>\n",
    "fieldset>input#name"
   ]
  },
  {
   "cell_type": "code",
   "execution_count": null,
   "metadata": {},
   "outputs": [],
   "source": []
  }
 ],
 "metadata": {
  "kernelspec": {
   "display_name": "Python 3",
   "language": "python",
   "name": "python3"
  },
  "language_info": {
   "codemirror_mode": {
    "name": "ipython",
    "version": 3
   },
   "file_extension": ".py",
   "mimetype": "text/x-python",
   "name": "python",
   "nbconvert_exporter": "python",
   "pygments_lexer": "ipython3",
   "version": "3.6.4"
  }
 },
 "nbformat": 4,
 "nbformat_minor": 2
}
