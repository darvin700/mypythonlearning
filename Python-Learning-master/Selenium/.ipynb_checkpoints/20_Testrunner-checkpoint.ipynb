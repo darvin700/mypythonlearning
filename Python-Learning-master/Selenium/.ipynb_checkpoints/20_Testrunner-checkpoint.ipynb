{
 "cells": [
  {
   "cell_type": "code",
   "execution_count": 2,
   "metadata": {},
   "outputs": [
    {
     "name": "stderr",
     "output_type": "stream",
     "text": [
      "test_01_search_in_python_org (aTest_Suite.PythonOrgSearch) ... ok\n",
      "test_02_search_by_name (aTest_Suite.PythonOrgSearch) ... FAIL\n",
      "ERROR\n",
      "\n",
      "======================================================================\n",
      "ERROR: setUpClass (bTest_Suite1.SearchText)\n",
      "----------------------------------------------------------------------\n",
      "TypeError: setUpClass() missing 1 required positional argument: 'self'\n",
      "\n",
      "======================================================================\n",
      "FAIL: test_02_search_by_name (aTest_Suite.PythonOrgSearch)\n",
      "----------------------------------------------------------------------\n",
      "Traceback (most recent call last):\n",
      "  File \"C:\\Users\\assharma\\Selenium\\aTest_Suite.py\", line 28, in test_02_search_by_name\n",
      "    assert \"No results found.\" not in driver.page_source\n",
      "AssertionError\n",
      "\n",
      "----------------------------------------------------------------------\n",
      "Ran 2 tests in 22.158s\n",
      "\n",
      "FAILED (failures=1, errors=1)\n"
     ]
    },
    {
     "data": {
      "text/plain": [
       "<unittest.runner.TextTestResult run=2 errors=1 failures=1>"
      ]
     },
     "execution_count": 2,
     "metadata": {},
     "output_type": "execute_result"
    }
   ],
   "source": [
    "import unittest\n",
    "from aTest_Suite import PythonOrgSearch\n",
    "# from bTest_Suite2 import PythonOrgSearch1\n",
    "from bTest_Suite1 import SearchText\n",
    "# get all tests from SearchText and HomePageTest class\n",
    "sanityTest = unittest.TestLoader().loadTestsFromTestCase(PythonOrgSearch)\n",
    "# loadTest = unittest.TestLoader().loadTestsFromTestCase(PythonOrgSearch1)\n",
    "loadTest = unittest.TestLoader().loadTestsFromTestCase(SearchText)\n",
    "\n",
    "print (\"Sanity test cases are \" +sanityTest)\n",
    "print (\"Load test cases are \" + loadTest)\n",
    "print (\"type of loadTest is \"+ type(loadTest))\n",
    "# create a test suite combining search_text and home_page_test\n",
    "test_suite = unittest.TestSuite([sanityTest, loadTest])\n",
    "# print (test_suite)\n",
    "\n",
    "# # run the suite\n",
    "unittest.TextTestRunner(verbosity=2).run(test_suite)"
   ]
  },
  {
   "cell_type": "code",
   "execution_count": null,
   "metadata": {},
   "outputs": [],
   "source": []
  }
 ],
 "metadata": {
  "kernelspec": {
   "display_name": "Python 3",
   "language": "python",
   "name": "python3"
  },
  "language_info": {
   "codemirror_mode": {
    "name": "ipython",
    "version": 3
   },
   "file_extension": ".py",
   "mimetype": "text/x-python",
   "name": "python",
   "nbconvert_exporter": "python",
   "pygments_lexer": "ipython3",
   "version": "3.6.4"
  }
 },
 "nbformat": 4,
 "nbformat_minor": 2
}
