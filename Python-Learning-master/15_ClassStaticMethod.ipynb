{
 "cells": [
  {
   "cell_type": "code",
   "execution_count": 8,
   "metadata": {},
   "outputs": [
    {
     "name": "stdout",
     "output_type": "stream",
     "text": [
      "The value is: 10\n"
     ]
    }
   ],
   "source": [
    "class MyClass:\n",
    "    def __init__(self, value):\n",
    "        self.value = value\n",
    "\n",
    "    def show_value(self):\n",
    "        print(f\"The value is: {self.value}\")\n",
    "\n",
    "\n",
    "# Creating an instance of MyClass\n",
    "obj = MyClass(10)\n",
    "obj.show_value()  # Output: The value is: 10"
   ]
  },
  {
   "cell_type": "markdown",
   "metadata": {},
   "source": [
    "### Static Methods\n",
    "A staticmethod is a method that does not take self (instance) or cls (class) as its first parameter. It behaves like a regular function, but it is still part of the class's namespace. Static methods do not require access to instance or class-specific data."
   ]
  },
  {
   "cell_type": "code",
   "execution_count": 1,
   "metadata": {},
   "outputs": [
    {
     "name": "stdout",
     "output_type": "stream",
     "text": [
      "Hello, Alice!\n",
      "Hello, hello!\n"
     ]
    }
   ],
   "source": [
    "class MyClass:\n",
    "    @staticmethod\n",
    "    def greet(name):\n",
    "        print(f\"Hello, {name}!\")\n",
    "\n",
    "\n",
    "# Calling a static method\n",
    "MyClass.greet(\"Alice\")  # Output: Hello, Alice!\n",
    "obj= MyClass()\n",
    "obj.greet(\"hello\")"
   ]
  },
  {
   "cell_type": "markdown",
   "metadata": {},
   "source": [
    "A classmethod is a method that takes cls as its first parameter. cls refers to the class itself, not the instance. It can be called on the class itself, and it can access or modify class-level data (i.e., class variables)."
   ]
  },
  {
   "cell_type": "code",
   "execution_count": 11,
   "metadata": {},
   "outputs": [
    {
     "name": "stdout",
     "output_type": "stream",
     "text": [
      "Class variable: I am a class variable\n",
      "Class variable: I am a class variable\n"
     ]
    }
   ],
   "source": [
    "class MyClass:\n",
    "    class_variable = \"I am a class variable\"\n",
    "\n",
    "    @classmethod\n",
    "    def print_class_variable(cls):\n",
    "        print(f\"Class variable: {cls.class_variable}\")\n",
    "\n",
    "\n",
    "# Calling a class method\n",
    "MyClass.print_class_variable()  # Output: Class variable: I am a class variable\n",
    "obj = MyClass()\n",
    "obj.print_class_variable()"
   ]
  },
  {
   "cell_type": "code",
   "execution_count": 12,
   "metadata": {},
   "outputs": [
    {
     "name": "stdout",
     "output_type": "stream",
     "text": [
      "Toyota Corolla with 4 wheels\n",
      "This is a vehicle\n",
      "Toyota Corolla with 6 wheels\n"
     ]
    }
   ],
   "source": [
    "class Vehicle:\n",
    "    # Class variable\n",
    "    wheels = 4\n",
    "\n",
    "    def __init__(self, make, model):\n",
    "        self.make = make\n",
    "        self.model = model\n",
    "\n",
    "    # Normal Method\n",
    "    def display_info(self):\n",
    "        print(f\"{self.make} {self.model} with {self.wheels} wheels\")\n",
    "\n",
    "    # Static Method\n",
    "    @staticmethod\n",
    "    def vehicle_type():\n",
    "        print(\"This is a vehicle\")\n",
    "\n",
    "    # Class Method\n",
    "    @classmethod\n",
    "    def update_wheels(cls, new_wheel_count):\n",
    "        cls.wheels = new_wheel_count\n",
    "\n",
    "\n",
    "# Creating an instance of Vehicle\n",
    "vehicle1 = Vehicle(\"Toyota\", \"Corolla\")\n",
    "\n",
    "# Calling normal method\n",
    "vehicle1.display_info()  # Output: Toyota Corolla with 4 wheels\n",
    "\n",
    "# Calling static method\n",
    "Vehicle.vehicle_type()  # Output: This is a vehicle\n",
    "\n",
    "# Calling class method to modify the class variable\n",
    "Vehicle.update_wheels(6)\n",
    "\n",
    "# Calling the normal method again after class method changed the class variable\n",
    "vehicle1.display_info()  # Output: Toyota Corolla with 6 wheels"
   ]
  },
  {
   "cell_type": "markdown",
   "metadata": {},
   "source": [
    "Static method Cannot access instance or class data"
   ]
  },
  {
   "cell_type": "code",
   "execution_count": null,
   "metadata": {},
   "outputs": [
    {
     "name": "stdout",
     "output_type": "stream",
     "text": [
      "Error: name 'make' is not defined\n",
      "Accessing class data: 4\n"
     ]
    }
   ],
   "source": [
    "class Car:\n",
    "    wheels = 4  # Class data\n",
    "\n",
    "    def __init__(self, make, model, year):\n",
    "        self.make = make    # Instance data\n",
    "        self.model = model  # Instance data\n",
    "        self.year = year    # Instance data\n",
    "\n",
    "    # Static Method\n",
    "    @staticmethod\n",
    "    def show_message():\n",
    "        # Attempting to access instance data (which will raise an error)\n",
    "        try:\n",
    "            # This will raise an error\n",
    "            print(f\"Accessing instance data: {self.make}\")\n",
    "        except Exception as e:\n",
    "            # Simulating error when trying to access instance data\n",
    "            print(f\"Error: {e}\")\n",
    "\n",
    "        # Attempting to access class data (which will raise an error)\n",
    "        try:\n",
    "            print(f\"Accessing class data: {Car.wheels}\")  # This will work\n",
    "        except Exception as e:\n",
    "            print(f\"Error: {e}\")\n",
    "\n",
    "\n",
    "# Creating an instance of Car\n",
    "car = Car(\"Honda\", \"Civic\", 2021)\n",
    "\n",
    "# Calling static method\n",
    "car.show_message()  # Output: Simulating the error"
   ]
  },
  {
   "cell_type": "code",
   "execution_count": 16,
   "metadata": {},
   "outputs": [
    {
     "name": "stdout",
     "output_type": "stream",
     "text": [
      "Accessing class data: 4\n",
      "Error: name 'self' is not defined\n"
     ]
    }
   ],
   "source": [
    "class Car:\n",
    "    wheels = 4  # Class data\n",
    "\n",
    "    def __init__(self, make, model, year):\n",
    "        self.make = make    # Instance data\n",
    "        self.model = model  # Instance data\n",
    "        self.year = year    # Instance data\n",
    "\n",
    "    # Static Method\n",
    "    @staticmethod\n",
    "    def show_message():\n",
    "        try:\n",
    "            print(f\"Accessing class data: {Car.wheels}\")  # This works\n",
    "        except Exception as e:\n",
    "            print(f\"Error: {e}\")\n",
    "\n",
    "        try:\n",
    "            # Trying to access class data via instance will raise an error\n",
    "            # This will raise an error\n",
    "            print(f\"Accessing class data through instance: {self.wheels}\")\n",
    "        except Exception as e:\n",
    "            print(f\"Error: {e}\")\n",
    "\n",
    "\n",
    "# Creating an instance of Car\n",
    "car = Car(\"Honda\", \"Civic\", 2021)\n",
    "\n",
    "# Calling static method\n",
    "car.show_message()"
   ]
  },
  {
   "cell_type": "markdown",
   "metadata": {},
   "source": [
    "### Normal Method:\n",
    "A normal method has access to instance data (self), class data (cls), class methods, and static methods."
   ]
  },
  {
   "cell_type": "code",
   "execution_count": 17,
   "metadata": {},
   "outputs": [
    {
     "name": "stdout",
     "output_type": "stream",
     "text": [
      "Instance Variable: 50\n",
      "Class Variable: 100\n",
      "Accessing class method. Class Variable: 100\n",
      "This is a static method.\n"
     ]
    }
   ],
   "source": [
    "class MyClass:\n",
    "    class_variable = 100\n",
    "\n",
    "    def __init__(self, instance_variable):\n",
    "        self.instance_variable = instance_variable\n",
    "\n",
    "    def normal_method(self):\n",
    "        print(f\"Instance Variable: {self.instance_variable}\")\n",
    "        print(f\"Class Variable: {MyClass.class_variable}\")\n",
    "        self.class_method()\n",
    "        self.static_method()\n",
    "\n",
    "    @classmethod\n",
    "    def class_method(cls):\n",
    "        print(f\"Accessing class method. Class Variable: {cls.class_variable}\")\n",
    "\n",
    "    @staticmethod\n",
    "    def static_method():\n",
    "        print(\"This is a static method.\")\n",
    "\n",
    "\n",
    "obj = MyClass(50)\n",
    "obj.normal_method()"
   ]
  },
  {
   "cell_type": "markdown",
   "metadata": {},
   "source": [
    "A static method cannot access instance data (self), but it can access class data (via class name).\n"
   ]
  },
  {
   "cell_type": "code",
   "execution_count": 18,
   "metadata": {},
   "outputs": [
    {
     "name": "stdout",
     "output_type": "stream",
     "text": [
      "Error when accessing instance data: name 'self' is not defined\n",
      "Accessing class data (via class name): 4\n"
     ]
    }
   ],
   "source": [
    "class Car:\n",
    "    wheels = 4  # Class-level data\n",
    "\n",
    "    def __init__(self, make, model):\n",
    "        self.make = make    # Instance-level data\n",
    "        self.model = model  # Instance-level data\n",
    "\n",
    "    # Static Method\n",
    "    @staticmethod\n",
    "    def show_message():\n",
    "        try:\n",
    "            # This will raise an error\n",
    "            print(f\"Accessing instance data (self.make): {self.make}\")\n",
    "        except Exception as e:\n",
    "            print(f\"Error when accessing instance data: {e}\")\n",
    "\n",
    "        try:\n",
    "            # This will work\n",
    "            print(f\"Accessing class data (via class name): {Car.wheels}\")\n",
    "        except Exception as e:\n",
    "            print(f\"Error when accessing class data: {e}\")\n",
    "\n",
    "\n",
    "# Creating an instance of Car\n",
    "car1 = Car(\"Toyota\", \"Corolla\")\n",
    "\n",
    "# Calling the static method\n",
    "car1.show_message()"
   ]
  },
  {
   "cell_type": "markdown",
   "metadata": {},
   "source": [
    "A class method can access class data (cls) and call other class methods or static methods, but cannot access instance data (self)."
   ]
  },
  {
   "cell_type": "code",
   "execution_count": 20,
   "metadata": {},
   "outputs": [
    {
     "name": "stdout",
     "output_type": "stream",
     "text": [
      "Accessing class data (cls.wheels): 4\n",
      "Error when accessing instance data: name 'self' is not defined\n",
      "This is a static method called from a class method!\n"
     ]
    }
   ],
   "source": [
    "class Car:\n",
    "    wheels = 4  # Class-level data\n",
    "\n",
    "    def __init__(self, make, model):\n",
    "        self.make = make    # Instance-level data\n",
    "        self.model = model  # Instance-level data\n",
    "\n",
    "    # Class Method\n",
    "    @classmethod\n",
    "    def show_class_data(cls):\n",
    "        try:\n",
    "            # This works fine\n",
    "            print(f\"Accessing class data (cls.wheels): {cls.wheels}\")\n",
    "        except Exception as e:\n",
    "            print(f\"Error when accessing class data: {e}\")\n",
    "\n",
    "        try:\n",
    "            # Attempting to access instance data via class method\n",
    "            # This will raise an error\n",
    "            print(f\"Accessing instance data (self.make): {self.make}\")\n",
    "        except Exception as e:\n",
    "            print(f\"Error when accessing instance data: {e}\")\n",
    "\n",
    "        # Calling another class method from within this class method\n",
    "        cls.show_static_data()\n",
    "\n",
    "    # Static Method\n",
    "    @staticmethod\n",
    "    def show_static_data():\n",
    "        print(\"This is a static method called from a class method!\")\n",
    "\n",
    "\n",
    "# Creating an instance of Car\n",
    "car1 = Car(\"Toyota\", \"Corolla\")\n",
    "\n",
    "# Calling the class method\n",
    "car1.show_class_data()"
   ]
  },
  {
   "cell_type": "markdown",
   "metadata": {},
   "source": [
    "## 1. Normal (Instance) Method\n",
    "\n",
    "An **instance method** is a method that is bound to an instance of the class. It has access to instance variables (attributes) and can modify the state of the object.\n",
    "\n",
    "### When to use:\n",
    "- When the method needs to interact with the instance of the class (i.e., it needs access to instance attributes or other instance methods).\n",
    "- When the method's behavior depends on the state of the object (for example, manipulating or using instance variables).\n",
    "- When you need to access `self` (the instance) in the method to modify the object or call other instance methods.\n",
    "\n",
    "---\n",
    "\n",
    "## 2. Static Method\n",
    "\n",
    "A **static method** is a method that does not require access to the instance (`self`) or the class (`cls`). It doesn't have access to the object's state or instance variables. It is defined using the `@staticmethod` decorator.\n",
    "\n",
    "### When to use:\n",
    "- When the method doesn't need access to the instance (`self`) or the class (`cls`).\n",
    "- When the method's behavior is independent of the object state, but still belongs logically to the class.\n",
    "- When the method is utility-like or performs some operation that logically fits with the class, but does not need to interact with any instance attributes.\n",
    "\n",
    "---\n",
    "\n",
    "## 3. Class Method\n",
    "\n",
    "The `@classmethod` decorator in Python is used to define a method that is bound to the class, rather than an instance of the class. A class method takes `cls` as the first parameter, which refers to the class itself (not the instance). This means that class methods can modify or interact with class-level attributes and methods, but not instance-level attributes or methods.\n",
    "\n",
    "### When to Use `@classmethod`:\n",
    "- **Accessing or modifying class-level data**: If the method needs to operate on the class-level attributes (i.e., attributes shared across all instances of the class).\n",
    "- **Factory methods**: Methods that are responsible for creating instances of the class in a certain way (often called \"factory methods\").\n",
    "- **Alternative constructors**: If you want to create alternate ways to instantiate the class (e.g., with a different set of parameters)."
   ]
  },
  {
   "cell_type": "markdown",
   "metadata": {},
   "source": []
  }
 ],
 "metadata": {
  "kernelspec": {
   "display_name": "Python 3",
   "language": "python",
   "name": "python3"
  },
  "language_info": {
   "codemirror_mode": {
    "name": "ipython",
    "version": 3
   },
   "file_extension": ".py",
   "mimetype": "text/x-python",
   "name": "python",
   "nbconvert_exporter": "python",
   "pygments_lexer": "ipython3",
   "version": "3.9.0"
  }
 },
 "nbformat": 4,
 "nbformat_minor": 2
}
