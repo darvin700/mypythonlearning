{
 "cells": [
  {
   "cell_type": "code",
   "execution_count": 3,
   "metadata": {},
   "outputs": [
    {
     "name": "stdout",
     "output_type": "stream",
     "text": [
      "['e', 'a', 's', 'y', 'r', 'a', 'c', 'e', 'b', 'i', 'k', 'e', 's']\n"
     ]
    }
   ],
   "source": [
    "wordlist=list(\"easyracecars\")\n",
    "wordlist[8:]=list(\"bikes\")\n",
    "print(wordlist)"
   ]
  },
  {
   "cell_type": "code",
   "execution_count": 5,
   "metadata": {},
   "outputs": [
    {
     "data": {
      "text/plain": [
       "['e', 'a', 's', 'y', 'r', 'a', 'c', 'e', 'bikes']"
      ]
     },
     "execution_count": 5,
     "metadata": {},
     "output_type": "execute_result"
    }
   ],
   "source": [
    "wordlist=list(\"easyracecars\")\n",
    "del wordlist[8:]\n",
    "wordlist.append(\"bikes\")\n",
    "wordlist"
   ]
  },
  {
   "cell_type": "code",
   "execution_count": 6,
   "metadata": {},
   "outputs": [
    {
     "name": "stdout",
     "output_type": "stream",
     "text": [
      "['e', 'a', 's', 'y', 'r', 'a', 'c', 'b', 'i', 'k', 'e', 's']\n"
     ]
    }
   ],
   "source": [
    "wordlist=list(\"easyracecars\")\n",
    "wordlist[7:]=list(\"bikes\")\n",
    "print(wordlist)"
   ]
  },
  {
   "cell_type": "code",
   "execution_count": 7,
   "metadata": {},
   "outputs": [
    {
     "name": "stdout",
     "output_type": "stream",
     "text": [
      "['e', 'a', 's', 'y', 'r', 'a', 'c', 'e', 'c', 'a', 'r', 's', 'bikes']\n"
     ]
    }
   ],
   "source": [
    "wordlist=list(\"easyracecars\")\n",
    "wordlist.append(\"bikes\")\n",
    "print(wordlist)"
   ]
  },
  {
   "cell_type": "code",
   "execution_count": 15,
   "metadata": {},
   "outputs": [
    {
     "name": "stdout",
     "output_type": "stream",
     "text": [
      "33\n"
     ]
    }
   ],
   "source": [
    "def a(arg1,arg2):\n",
    "    print(arg1)\n",
    "    print(arg2)\n",
    "def b(*arg1):\n",
    "    print(arg1)\n",
    "def c(arg1,arg2,*arg3):\n",
    "    print(arg1)\n",
    "    \n",
    "# a(3,4)\n",
    "c(33,4,44)\n",
    "\n",
    "2 infinite atleast2"
   ]
  },
  {
   "cell_type": "code",
   "execution_count": 16,
   "metadata": {},
   "outputs": [
    {
     "name": "stdout",
     "output_type": "stream",
     "text": [
      "30 -10\n"
     ]
    }
   ],
   "source": [
    "a=10\n",
    "b=20\n",
    "[a,b]=[a+b,a-b]\n",
    "print (a,b)"
   ]
  },
  {
   "cell_type": "code",
   "execution_count": 17,
   "metadata": {},
   "outputs": [
    {
     "ename": "SyntaxError",
     "evalue": "cannot assign to set display (<ipython-input-17-1c4170f42071>, line 3)",
     "output_type": "error",
     "traceback": [
      "\u001b[1;36m  File \u001b[1;32m\"<ipython-input-17-1c4170f42071>\"\u001b[1;36m, line \u001b[1;32m3\u001b[0m\n\u001b[1;33m    {a,b}={a+b,a-b}\u001b[0m\n\u001b[1;37m    ^\u001b[0m\n\u001b[1;31mSyntaxError\u001b[0m\u001b[1;31m:\u001b[0m cannot assign to set display\n"
     ]
    }
   ],
   "source": []
  },
  {
   "cell_type": "code",
   "execution_count": 28,
   "metadata": {},
   "outputs": [
    {
     "name": "stdout",
     "output_type": "stream",
     "text": [
      "3 5\n"
     ]
    }
   ],
   "source": [
    "myarr=[1,2,3,5]\n",
    "for index,elem in enumerate(myarr):\n",
    "    if ((index+elem)%2 == 0):\n",
    "        print(index,elem)"
   ]
  },
  {
   "cell_type": "code",
   "execution_count": 26,
   "metadata": {},
   "outputs": [
    {
     "ename": "SyntaxError",
     "evalue": "invalid syntax (<ipython-input-26-b99ff16f84b9>, line 3)",
     "output_type": "error",
     "traceback": [
      "\u001b[1;36m  File \u001b[1;32m\"<ipython-input-26-b99ff16f84b9>\"\u001b[1;36m, line \u001b[1;32m3\u001b[0m\n\u001b[1;33m    if (index+elem)% == 0:\u001b[0m\n\u001b[1;37m                     ^\u001b[0m\n\u001b[1;31mSyntaxError\u001b[0m\u001b[1;31m:\u001b[0m invalid syntax\n"
     ]
    }
   ],
   "source": []
  },
  {
   "cell_type": "code",
   "execution_count": 43,
   "metadata": {},
   "outputs": [
    {
     "name": "stdout",
     "output_type": "stream",
     "text": [
      "30\n"
     ]
    }
   ],
   "source": [
    "sum=0\n",
    "setcomb={(1,3):4,(2,4,6):6,(1,2,3):10,(5):10}\n",
    "\n",
    "for ind in setcomb:\n",
    "    sum+=setcomb[ind]\n",
    "print (sum)"
   ]
  },
  {
   "cell_type": "code",
   "execution_count": null,
   "metadata": {},
   "outputs": [],
   "source": []
  }
 ],
 "metadata": {
  "kernelspec": {
   "display_name": "Python 3",
   "language": "python",
   "name": "python3"
  },
  "language_info": {
   "codemirror_mode": {
    "name": "ipython",
    "version": 3
   },
   "file_extension": ".py",
   "mimetype": "text/x-python",
   "name": "python",
   "nbconvert_exporter": "python",
   "pygments_lexer": "ipython3",
   "version": "3.8.3"
  }
 },
 "nbformat": 4,
 "nbformat_minor": 4
}
