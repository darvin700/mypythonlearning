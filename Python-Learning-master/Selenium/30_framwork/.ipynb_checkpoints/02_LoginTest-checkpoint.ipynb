{
 "cells": [
  {
   "cell_type": "code",
   "execution_count": 2,
   "metadata": {},
   "outputs": [
    {
     "ename": "SyntaxError",
     "evalue": "invalid syntax (<ipython-input-2-3bb40a93a242>, line 4)",
     "output_type": "error",
     "traceback": [
      "\u001b[1;36m  File \u001b[1;32m\"<ipython-input-2-3bb40a93a242>\"\u001b[1;36m, line \u001b[1;32m4\u001b[0m\n\u001b[1;33m    from 5-login-page import LoginPage\u001b[0m\n\u001b[1;37m         ^\u001b[0m\n\u001b[1;31mSyntaxError\u001b[0m\u001b[1;31m:\u001b[0m invalid syntax\n"
     ]
    }
   ],
   "source": [
    "from selenium import webdriver\n",
    "from selenium.webdriver.common.by import By\n",
    "# from login_page import LoginPage\n",
    "from login_page_enhanced import LoginPage\n",
    "\n",
    "import unittest\n",
    "\n",
    "class LoginTests(unittest.TestCase):\n",
    "\n",
    "    def test_validLogin(self):\n",
    "        baseURL = \"https://letskodeit.teachable.com/\"\n",
    "        driver = webdriver.Chrome()\n",
    "        driver.maximize_window()\n",
    "        driver.implicitly_wait(3)\n",
    "        driver.get(baseURL)\n",
    "\n",
    "        lp = LoginPage(driver)\n",
    "        lp.login(\"test@email.com\", \"abcabc\")\n",
    "        userIcon = driver.find_element(By.XPATH, '//img[@class=\"gravatar\"]')\n",
    "        if userIcon is not None:\n",
    "            print(\"Login Successful\")\n",
    "        else:\n",
    "            print(\"Login Failed\")\n",
    "ff = LoginTests()\n",
    "ff.test_validLogin()"
   ]
  },
  {
   "cell_type": "code",
   "execution_count": null,
   "metadata": {},
   "outputs": [],
   "source": []
  }
 ],
 "metadata": {
  "kernelspec": {
   "display_name": "Python 3",
   "language": "python",
   "name": "python3"
  },
  "language_info": {
   "codemirror_mode": {
    "name": "ipython",
    "version": 3
   },
   "file_extension": ".py",
   "mimetype": "text/x-python",
   "name": "python",
   "nbconvert_exporter": "python",
   "pygments_lexer": "ipython3",
   "version": "3.6.4"
  }
 },
 "nbformat": 4,
 "nbformat_minor": 2
}
