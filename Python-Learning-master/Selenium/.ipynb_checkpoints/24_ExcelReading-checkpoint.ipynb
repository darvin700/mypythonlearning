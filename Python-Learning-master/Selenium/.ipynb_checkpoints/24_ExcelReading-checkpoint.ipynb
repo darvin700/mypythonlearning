{
 "cells": [
  {
   "cell_type": "code",
   "execution_count": 2,
   "metadata": {},
   "outputs": [
    {
     "name": "stdout",
     "output_type": "stream",
     "text": [
      "['Sheet1', 'Sheet2', 'Sheet3']\n",
      "['__class__', '__delattr__', '__dict__', '__dir__', '__doc__', '__eq__', '__format__', '__ge__', '__getattribute__', '__gt__', '__hash__', '__init__', '__init_subclass__', '__le__', '__lt__', '__module__', '__ne__', '__new__', '__reduce__', '__reduce_ex__', '__repr__', '__setattr__', '__sizeof__', '__str__', '__subclasshook__', '__weakref__', '_cell_attr_to_xfx', '_cell_types', '_cell_values', '_cell_xf_indexes', '_dimncols', '_dimnrows', '_first_full_rowx', '_ixfe', '_maxdatacolx', '_maxdatarowx', '_position', '_repr_these', '_xf_index_stats', '_xf_index_to_xl_type_map', 'automatic_grid_line_colour', 'bf', 'biff_version', 'book', 'bt', 'cached_normal_view_mag_factor', 'cached_page_break_preview_mag_factor', 'cell', 'cell_note_map', 'cell_type', 'cell_value', 'cell_xf_index', 'col', 'col_label_ranges', 'col_slice', 'col_types', 'col_values', 'colinfo_map', 'columns_from_right_to_left', 'computed_column_width', 'cooked_normal_view_mag_factor', 'cooked_page_break_preview_mag_factor', 'default_additional_space_above', 'default_additional_space_below', 'default_row_height', 'default_row_height_mismatch', 'default_row_hidden', 'defcolwidth', 'dump', 'fake_XF_from_BIFF20_cell_attr', 'first_visible_colx', 'first_visible_rowx', 'fixed_BIFF2_xfindex', 'formatting_info', 'gcw', 'get_rows', 'gridline_colour_index', 'gridline_colour_rgb', 'handle_feat11', 'handle_hlink', 'handle_msodrawingetc', 'handle_note', 'handle_obj', 'handle_quicktip', 'handle_txo', 'has_pane_record', 'horizontal_page_breaks', 'horz_split_first_visible', 'horz_split_pos', 'hyperlink_list', 'hyperlink_map', 'insert_new_BIFF20_xf', 'logfile', 'merged_cells', 'name', 'ncols', 'nrows', 'number', 'panes_are_frozen', 'put_cell', 'put_cell_ragged', 'put_cell_unragged', 'ragged_rows', 'read', 'remove_splits_if_pane_freeze_is_removed', 'req_fmt_info', 'rich_text_runlist_map', 'row', 'row_label_ranges', 'row_len', 'row_slice', 'row_types', 'row_values', 'rowinfo_map', 'scl_mag_factor', 'sheet_selected', 'sheet_visible', 'show_formulas', 'show_grid_lines', 'show_in_page_break_preview', 'show_outline_symbols', 'show_sheet_headers', 'show_zero_values', 'split_active_pane', 'standardwidth', 'string_record_contents', 'tidy_dimensions', 'update_cooked_mag_factors', 'utter_max_cols', 'utter_max_rows', 'verbosity', 'vert_split_first_visible', 'vert_split_pos', 'vertical_page_breaks', 'visibility']\n"
     ]
    }
   ],
   "source": [
    "import xlrd\n",
    "wb=xlrd.open_workbook('sample _more.xlsx')\n",
    "sheetname = wb.sheet_names() \n",
    "        #Read for XLSX Sheet names\n",
    "print (sheetname)\n",
    "sh1 = wb.sheet_by_index(0) \n",
    "# print (dir(sh1))\n",
    "i=0\n",
    "while (i<2):\n",
    "    rownum=(i)\n",
    "    rows = sh1.row_values(rownum)\n",
    "    print(rows)\n",
    "    print (\"The keyword [\" + rows[0] + \"] is searched\")\n",
    "    i=i+1"
   ]
  },
  {
   "cell_type": "code",
   "execution_count": null,
   "metadata": {},
   "outputs": [],
   "source": [
    "import xlrd\n",
    "wb=xlrd.open_workbook('sample _more.xlsx')\n",
    "sheetname = wb.sheet_names() \n",
    "        #Read for XLSX Sheet names\n",
    "print (sheetname)\n",
    "sh1 = wb.sheet_by_index(0) \n",
    "# print (dir(sh1))\n",
    "i=0\n",
    "while (i<3):\n",
    "    rownum=(i)\n",
    "    cols = sh1.col_values(rownum)\n",
    "    print(cols)\n",
    "    print (\"The keyword [\" + cols[0] + \"] is searched\")\n",
    "#     if (cols[0]=='python'):\n",
    "    print(\"found\")\n",
    "#         break\n",
    "    i=i+1"
   ]
  },
  {
   "cell_type": "code",
   "execution_count": null,
   "metadata": {},
   "outputs": [],
   "source": [
    "from selenium import webdriver\n",
    "import unittest, time\n",
    "import xlrd\n",
    "from selenium import webdriver\n",
    "from time import sleep\n",
    "from selenium.webdriver.common.keys import Keys\n",
    "from selenium.webdriver.support.ui import WebDriverWait\n",
    "from selenium.webdriver.support.ui import Select\n",
    "from selenium.webdriver.support import expected_conditions as EC\n",
    "class moduleName(unittest.TestCase):\n",
    "    def setUp(self):\n",
    "        self.driver = webdriver.Chrome()\n",
    "        self.driver.implicitly_wait(30)\n",
    "        self.base_url = \"https://www.google.co.in/\"\n",
    "        self.verificationErrors = []\n",
    "        self.accept_next_alert = True\n",
    "        \n",
    "    def test_Login(self):\n",
    "        driver=self.driver\n",
    "        # driver.get(self.base_url +\"/\")\n",
    "        driver.get(self.base_url)\n",
    "        driver.maximize_window()\n",
    "        wb=xlrd.open_workbook('sample.xlsx')\n",
    "        sheetname = wb.sheet_names() \n",
    "        #Read for XLSX Sheet names\n",
    "        print (sheetname)\n",
    "        sh1 = wb.sheet_by_index(0) \n",
    "                        \n",
    "        i=0\n",
    "        while (i<2):\n",
    "            rownum=(i)\n",
    "            rows = sh1.row_values(rownum)\n",
    "            print(rows)\n",
    "            sleep(3)\n",
    "            elem = driver.find_element_by_name(\"q\")\n",
    "            elem.clear()\n",
    "            elem.send_keys(rows[0])\n",
    "            elem.send_keys(Keys.RETURN)\n",
    "\n",
    "            print (\"The keyword [\" + rows[0] + \"] is searched\")\n",
    "            sleep(5)\n",
    "#             driver.back()\n",
    "            sleep(3)\n",
    "            i=i+1\n",
    "    \n",
    "    def tearDown(self):\n",
    "        self.driver.quit()\n",
    "\n",
    "if __name__ == '__main__':\n",
    "       unittest.main(argv=['first-arg-is-ignored'], exit=False)"
   ]
  },
  {
   "cell_type": "code",
   "execution_count": null,
   "metadata": {},
   "outputs": [],
   "source": []
  },
  {
   "cell_type": "code",
   "execution_count": null,
   "metadata": {},
   "outputs": [],
   "source": []
  }
 ],
 "metadata": {
  "kernelspec": {
   "display_name": "Python 3",
   "language": "python",
   "name": "python3"
  },
  "language_info": {
   "codemirror_mode": {
    "name": "ipython",
    "version": 3
   },
   "file_extension": ".py",
   "mimetype": "text/x-python",
   "name": "python",
   "nbconvert_exporter": "python",
   "pygments_lexer": "ipython3",
   "version": "3.7.3"
  }
 },
 "nbformat": 4,
 "nbformat_minor": 2
}
