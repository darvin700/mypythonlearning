{
 "cells": [
  {
   "cell_type": "markdown",
   "metadata": {},
   "source": [
    "# Python – The new generation Language\n",
    " \n",
    "\n",
    "Python designed by Guido van Rossum at CWI has become a widely used general-purpose, high-level programming language.\n",
    "\n",
    "Prerequisites:\n",
    "\n",
    "Knowledge of any programming language can be a plus.\n",
    "\n"
   ]
  },
  {
   "cell_type": "markdown",
   "metadata": {},
   "source": [
    "#### Reason for increasing popularity\n",
    "1. Emphasis on code readability, shorter codes, ease of writing\n",
    "2. Programmers can express logical concepts in fewer lines of code in comparison to languages such as C++ or Java.\n",
    "3. Python supports multiple programming paradigms, like object-oriented, imperative and functional programming or procedural.\n",
    "4. There exists inbuilt functions for almost all of the frequently used concepts.\n",
    "5. Philosophy is “Simplicity is the best”."
   ]
  },
  {
   "cell_type": "markdown",
   "metadata": {},
   "source": [
    "#### LANGUAGE FEATURES\n",
    "\n",
    "Interpreted\n",
    "\n",
    "* There are no separate compilation and execution steps like C and C++.\n",
    "* Directly runthe program from the source code.\n",
    "* Internally, Python converts the source code into an intermediate form called bytecodes which is then translated into native language of specific computer to run it.\n",
    "* No need to worry about linking and loading with libraries, etc.\n",
    "\n",
    "Platform Independent\n",
    "\n",
    "* Python programs can be developed and executed on multiple operating system platforms.\n",
    "* Python can be used on Linux, Windows, Macintosh, Solaris and many more.\n",
    "* Free and Open Source; Redistributable\n",
    "\n",
    "High-level Language\n",
    "* In Python, no need to take care about low-level details such as managing the memory used by the program.\n",
    "\n",
    "Simple\n",
    "Closer to English language;Easy to Learn\n",
    "More emphasis on the solution to the problem rather than the syntax\n",
    "\n",
    "* Embeddable\n",
    "Python can be used within C/C++ program to give scripting capabilities for the program’s users.\n",
    "\n",
    "Robust:\n",
    "* Exceptional handling features\n",
    "* Memory management techniques in built\n",
    "\n",
    "Rich Library Support\n",
    "* The Python Standard Library is vary vast.\n",
    "* Known as the “batteries included” philosophy of Python ;It can help do various things involving regular expressions, documentation generation, unit testing, threading, databases, web browsers, CGI, email, XML, HTML, WAV files, cryptography, GUI and many more.\n",
    "* Besides the standard library, there are various other high-quality libraries such as the Python Imaging Library which is an amazingly simple image manipulation library."
   ]
  },
  {
   "cell_type": "markdown",
   "metadata": {},
   "source": [
    "The classical Hello World program illustrating the relative verbosity of a Java Program and Python Program\n",
    "Java Code\n",
    "\n",
    "\n",
    "\n"
   ]
  },
  {
   "cell_type": "code",
   "execution_count": null,
   "metadata": {},
   "outputs": [],
   "source": [
    "public class HelloWorld\n",
    "{\n",
    "   public static void main (String[] args)\n",
    "   {\n",
    "      System.out.println(\"Hello, world!\");\n",
    "   }\n",
    "}"
   ]
  },
  {
   "cell_type": "code",
   "execution_count": 1,
   "metadata": {},
   "outputs": [
    {
     "name": "stdout",
     "output_type": "stream",
     "text": [
      "Hello, world!\n"
     ]
    }
   ],
   "source": [
    "print(\"Hello, world!\") # Python version 3"
   ]
  },
  {
   "cell_type": "code",
   "execution_count": 1,
   "metadata": {},
   "outputs": [
    {
     "ename": "SyntaxError",
     "evalue": "invalid syntax (<ipython-input-1-f8bdcbc31e73>, line 1)",
     "output_type": "error",
     "traceback": [
      "\u001b[1;36m  File \u001b[1;32m\"<ipython-input-1-f8bdcbc31e73>\"\u001b[1;36m, line \u001b[1;32m1\u001b[0m\n\u001b[1;33m    1. >>a = 5, What this line does is, it creates an object which holds value 5 & a refers to it.\u001b[0m\n\u001b[1;37m                     ^\u001b[0m\n\u001b[1;31mSyntaxError\u001b[0m\u001b[1;31m:\u001b[0m invalid syntax\n"
     ]
    }
   ],
   "source": [
    "1. >>a = 5, What this line does is, it creates an object which holds value 5 & a refers to it.\n",
    "\n",
    "2. Each Object consists of 3 things - data ( 5 in this case ), type ( int in this case ) & reference_count ( 1 in this case)\n",
    "\n",
    "3. If we allocate numbers below 255 or string of smaller size ( not separated by special characters ), Python Object Model shares the object by increasing the reference_count.\n",
    "\n",
    "4. If two references a & b refers to same objects, id(a) == id(b) will evaluate to be true. Another way to test this is a is b.\n",
    "\n",
    "5. a = 5, b = 5. Reference count of the object containing 5 is 2 now.\n",
    "\n",
    "6. a = 6. Reference count of object containing 5 is one now\n",
    "\n",
    "7. b = 7. Reference count of object containing 5 is zero now.\n",
    "\n",
    "8. Objects are eligible for memory cleanup when their reference count is zero. Periodic Garbage collection will reclaim the memory \n",
    "\n",
    "9. One important point to note here is, numbers above 255 & longs strings are not shared\n",
    "because chances of them using in code is far less. Doing a lookup everytime will impact \n",
    "CPU utilization every time a variable is assigned. This provides an equilibrium in \n",
    "memory vs CPU utilization.\n",
    "\n",
    "10. Because of the type information associated with every object, 5 & 5.0 will occupy a different piece of memory. And, hence different objects.\n",
    "\n"
   ]
  },
  {
   "cell_type": "code",
   "execution_count": 2,
   "metadata": {},
   "outputs": [
    {
     "data": {
      "text/plain": [
       "True"
      ]
     },
     "execution_count": 2,
     "metadata": {},
     "output_type": "execute_result"
    }
   ],
   "source": [
    "s=\"python\"\n",
    "s[:] is s"
   ]
  },
  {
   "cell_type": "code",
   "execution_count": 3,
   "metadata": {},
   "outputs": [
    {
     "data": {
      "text/plain": [
       "True"
      ]
     },
     "execution_count": 3,
     "metadata": {},
     "output_type": "execute_result"
    }
   ],
   "source": [
    "s[::-1][::-1] == s"
   ]
  },
  {
   "cell_type": "code",
   "execution_count": 4,
   "metadata": {},
   "outputs": [
    {
     "data": {
      "text/plain": [
       "True"
      ]
     },
     "execution_count": 4,
     "metadata": {},
     "output_type": "execute_result"
    }
   ],
   "source": [
    "s[:] == s"
   ]
  },
  {
   "cell_type": "code",
   "execution_count": 5,
   "metadata": {},
   "outputs": [
    {
     "data": {
      "text/plain": [
       "False"
      ]
     },
     "execution_count": 5,
     "metadata": {},
     "output_type": "execute_result"
    }
   ],
   "source": [
    "s[::-1][::-1] is s"
   ]
  },
  {
   "cell_type": "code",
   "execution_count": 12,
   "metadata": {},
   "outputs": [
    {
     "data": {
      "text/plain": [
       "[1, 2, 4, 5]"
      ]
     },
     "execution_count": 12,
     "metadata": {},
     "output_type": "execute_result"
    }
   ],
   "source": [
    "a = [1, 2, 3, 4, 5]\n",
    "a[2:2] = []\n",
    "a\n",
    "a[2:3] = []\n",
    "a"
   ]
  },
  {
   "cell_type": "code",
   "execution_count": 7,
   "metadata": {},
   "outputs": [
    {
     "data": {
      "text/plain": [
       "[1, 2, 4, 5]"
      ]
     },
     "execution_count": 7,
     "metadata": {},
     "output_type": "execute_result"
    }
   ],
   "source": [
    "a.remove(3)\n",
    "a"
   ]
  },
  {
   "cell_type": "code",
   "execution_count": 13,
   "metadata": {},
   "outputs": [
    {
     "name": "stdout",
     "output_type": "stream",
     "text": [
      "[10, 23, 56, [95]]\n"
     ]
    }
   ],
   "source": [
    "a=[10,23,56,[78]]\n",
    "b=list(a)\n",
    "a[3][0]=95\n",
    "a[1]=34\n",
    "print(b)\n"
   ]
  },
  {
   "cell_type": "code",
   "execution_count": 14,
   "metadata": {},
   "outputs": [
    {
     "name": "stdout",
     "output_type": "stream",
     "text": [
      "['a', '@', 'b@c@d']\n",
      "['a', 'b', 'c', 'd']\n"
     ]
    }
   ],
   "source": [
    "s=\"a@b@c@d\"\n",
    "a=list(s.partition(\"@\"))\n",
    "print(a)\n",
    "b=list(s.split(\"@\",3))\n",
    "print(b)"
   ]
  },
  {
   "cell_type": "code",
   "execution_count": 15,
   "metadata": {},
   "outputs": [
    {
     "data": {
      "text/plain": [
       "40"
      ]
     },
     "execution_count": 15,
     "metadata": {},
     "output_type": "execute_result"
    }
   ],
   "source": [
    "d = {\"john\":40, \"peter\":45}\n",
    "d[\"john\"]"
   ]
  },
  {
   "cell_type": "code",
   "execution_count": 16,
   "metadata": {},
   "outputs": [],
   "source": [
    "a=(1,2,3,4)\n",
    "del a"
   ]
  },
  {
   "cell_type": "code",
   "execution_count": 17,
   "metadata": {},
   "outputs": [
    {
     "ename": "NameError",
     "evalue": "name 'a' is not defined",
     "output_type": "error",
     "traceback": [
      "\u001b[1;31m---------------------------------------------------------------------------\u001b[0m",
      "\u001b[1;31mNameError\u001b[0m                                 Traceback (most recent call last)",
      "\u001b[1;32m<ipython-input-17-3f786850e387>\u001b[0m in \u001b[0;36m<module>\u001b[1;34m\u001b[0m\n\u001b[1;32m----> 1\u001b[1;33m \u001b[0ma\u001b[0m\u001b[1;33m\u001b[0m\u001b[1;33m\u001b[0m\u001b[0m\n\u001b[0m",
      "\u001b[1;31mNameError\u001b[0m: name 'a' is not defined"
     ]
    }
   ],
   "source": [
    "a\n",
    "a=\"str\"\n",
    "a."
   ]
  },
  {
   "cell_type": "code",
   "execution_count": 20,
   "metadata": {},
   "outputs": [],
   "source": [
    "d = {\"john\":40, \"peter\":45}\n",
    "del d[\"john\"]"
   ]
  },
  {
   "cell_type": "code",
   "execution_count": 21,
   "metadata": {},
   "outputs": [
    {
     "data": {
      "text/plain": [
       "{'peter': 45}"
      ]
     },
     "execution_count": 21,
     "metadata": {},
     "output_type": "execute_result"
    }
   ],
   "source": [
    "d"
   ]
  },
  {
   "cell_type": "code",
   "execution_count": 28,
   "metadata": {},
   "outputs": [
    {
     "data": {
      "text/plain": [
       "['a', 'b', 'c', 'd', 'e']"
      ]
     },
     "execution_count": 28,
     "metadata": {},
     "output_type": "execute_result"
    }
   ],
   "source": [
    "a=['a','b','c']\n",
    "a += 'de'\n",
    "a"
   ]
  },
  {
   "cell_type": "code",
   "execution_count": null,
   "metadata": {},
   "outputs": [],
   "source": []
  }
 ],
 "metadata": {
  "kernelspec": {
   "display_name": "Python 3",
   "language": "python",
   "name": "python3"
  },
  "language_info": {
   "codemirror_mode": {
    "name": "ipython",
    "version": 3
   },
   "file_extension": ".py",
   "mimetype": "text/x-python",
   "name": "python",
   "nbconvert_exporter": "python",
   "pygments_lexer": "ipython3",
   "version": "3.8.3"
  }
 },
 "nbformat": 4,
 "nbformat_minor": 2
}
