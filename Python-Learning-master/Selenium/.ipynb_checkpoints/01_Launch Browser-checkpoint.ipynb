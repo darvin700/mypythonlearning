{
 "cells": [
  {
   "cell_type": "code",
   "execution_count": null,
   "metadata": {},
   "outputs": [],
   "source": [
    "download driver \n",
    "chrome-- chrome driver\n",
    "firefox- gecko driver\n",
    "IE - ieserverdriver\n",
    "add the location of driver to the path ( system variable)\n",
    "-----\n",
    "install selenium\n",
    "Anaconda -- Enviornment--> selenium\n",
    "machine\n",
    "pip3 install selenium ( Pycharm or sublime)"
   ]
  },
  {
   "cell_type": "code",
   "execution_count": 3,
   "metadata": {},
   "outputs": [
    {
     "ename": "NameError",
     "evalue": "name 'thread' is not defined",
     "output_type": "error",
     "traceback": [
      "\u001b[1;31m---------------------------------------------------------------------------\u001b[0m",
      "\u001b[1;31mNameError\u001b[0m                                 Traceback (most recent call last)",
      "\u001b[1;32m<ipython-input-3-3d9f61bc7171>\u001b[0m in \u001b[0;36m<module>\u001b[1;34m\u001b[0m\n\u001b[0;32m      3\u001b[0m \u001b[0mbrowser\u001b[0m\u001b[1;33m=\u001b[0m\u001b[0mwebdriver\u001b[0m\u001b[1;33m.\u001b[0m\u001b[0mChrome\u001b[0m\u001b[1;33m(\u001b[0m\u001b[1;33m)\u001b[0m\u001b[1;33m\u001b[0m\u001b[1;33m\u001b[0m\u001b[0m\n\u001b[0;32m      4\u001b[0m \u001b[0mbrowser\u001b[0m\u001b[1;33m.\u001b[0m\u001b[0mget\u001b[0m\u001b[1;33m(\u001b[0m\u001b[1;34m'https://www.python.org'\u001b[0m\u001b[1;33m)\u001b[0m\u001b[1;33m\u001b[0m\u001b[1;33m\u001b[0m\u001b[0m\n\u001b[1;32m----> 5\u001b[1;33m \u001b[0mthread\u001b[0m\u001b[1;33m.\u001b[0m\u001b[0msleep\u001b[0m\u001b[1;33m(\u001b[0m\u001b[1;36m3000\u001b[0m\u001b[1;33m)\u001b[0m\u001b[1;33m\u001b[0m\u001b[1;33m\u001b[0m\u001b[0m\n\u001b[0m\u001b[0;32m      6\u001b[0m \u001b[0mbrowser\u001b[0m\u001b[1;33m.\u001b[0m\u001b[0mclose\u001b[0m\u001b[1;33m(\u001b[0m\u001b[1;33m)\u001b[0m\u001b[1;33m\u001b[0m\u001b[1;33m\u001b[0m\u001b[0m\n",
      "\u001b[1;31mNameError\u001b[0m: name 'thread' is not defined"
     ]
    }
   ],
   "source": [
    "from selenium import webdriver\n",
    "from time import sleep\n",
    "browser=webdriver.Chrome()\n",
    "browser.get('https://www.python.org')\n",
    "time.sleep(3000)\n",
    "browser.close()"
   ]
  },
  {
   "cell_type": "code",
   "execution_count": 9,
   "metadata": {},
   "outputs": [],
   "source": [
    "from selenium import webdriver\n",
    "from time import sleep\n",
    "# print (dir(webdriver))\n",
    "# s=\"python\"\n",
    "# dir(s)\n",
    "# print (dir(webdriver.Firefox))\n",
    "# print (dir(webdriver.Chrome))\n",
    "# print (dir(webdriver.Ie))\n",
    "\n",
    "# Ie', 'Opera', 'PhantomJS', 'Proxy', 'Remote', 'Safari',\n",
    "browser=webdriver.Chrome()\n",
    "# print(browser)\n",
    "browser.get('https://www.python.org')\n",
    "\n",
    "# sleep(15)\n",
    "browser.close()"
   ]
  },
  {
   "cell_type": "markdown",
   "metadata": {},
   "source": [
    "## Get Current url"
   ]
  },
  {
   "cell_type": "code",
   "execution_count": 10,
   "metadata": {},
   "outputs": [
    {
     "name": "stdout",
     "output_type": "stream",
     "text": [
      "test case passed\n",
      "https://www.python.org/\n"
     ]
    }
   ],
   "source": [
    "from selenium import webdriver\n",
    "from time import sleep\n",
    "# Ie', 'Opera', 'PhantomJS', 'Proxy', 'Remote', 'Safari',\n",
    "browser=webdriver.Chrome()\n",
    "browser.get('https://www.python.org')\n",
    "current_urlopened=browser.current_url\n",
    "# print(dir(browser))\n",
    "if current_urlopened==\"https://www.python.org/\":\n",
    "    print(\"test case passed\")\n",
    "else:\n",
    "    print(\"test case failed\")\n",
    "print(current_urlopened)\n",
    "sleep(5)\n",
    "browser.close()"
   ]
  },
  {
   "cell_type": "code",
   "execution_count": null,
   "metadata": {},
   "outputs": [],
   "source": [
    "print (dir(webdriver.Chrome))\n"
   ]
  },
  {
   "cell_type": "code",
   "execution_count": 11,
   "metadata": {},
   "outputs": [
    {
     "name": "stdout",
     "output_type": "stream",
     "text": [
      "{'acceptInsecureCerts': False, 'browserName': 'chrome', 'browserVersion': '80.0.3987.122', 'chrome': {'chromedriverVersion': '79.0.3945.36 (3582db32b33893869b8c1339e8f4d9ed1816f143-refs/branch-heads/3945@{#614})', 'userDataDir': 'C:\\\\Users\\\\assharma\\\\AppData\\\\Local\\\\Temp\\\\scoped_dir13416_190832065'}, 'goog:chromeOptions': {'debuggerAddress': 'localhost:62159'}, 'networkConnectionEnabled': False, 'pageLoadStrategy': 'normal', 'platformName': 'windows', 'proxy': {}, 'setWindowRect': True, 'strictFileInteractability': False, 'timeouts': {'implicit': 0, 'pageLoad': 300000, 'script': 30000}, 'unhandledPromptBehavior': 'dismiss and notify'}\n"
     ]
    }
   ],
   "source": [
    "browser=webdriver.Chrome()\n",
    "d=browser.desired_capabilities\n",
    "print (d)"
   ]
  },
  {
   "cell_type": "code",
   "execution_count": 12,
   "metadata": {},
   "outputs": [
    {
     "name": "stdout",
     "output_type": "stream",
     "text": [
      "{'chromedriverVersion': '79.0.3945.36 (3582db32b33893869b8c1339e8f4d9ed1816f143-refs/branch-heads/3945@{#614})', 'userDataDir': 'C:\\\\Users\\\\assharma\\\\AppData\\\\Local\\\\Temp\\\\scoped_dir13416_190832065'}\n"
     ]
    }
   ],
   "source": [
    "print(d['chrome'])"
   ]
  },
  {
   "cell_type": "code",
   "execution_count": 15,
   "metadata": {},
   "outputs": [
    {
     "name": "stdout",
     "output_type": "stream",
     "text": [
      "80.0.3987.122\n"
     ]
    }
   ],
   "source": [
    "print(d['browserVersion'])"
   ]
  },
  {
   "cell_type": "code",
   "execution_count": null,
   "metadata": {},
   "outputs": [],
   "source": [
    "# browser=webdriver.Firefox()\n",
    "print (dir(webdriver.Firefox))\n",
    "browser = webdriver.Firefox()\n",
    "d=browser.desired_capabilities\n",
    "print (d)"
   ]
  },
  {
   "cell_type": "code",
   "execution_count": null,
   "metadata": {},
   "outputs": [],
   "source": [
    "browser=webdriver.Chrome()\n",
    "browser.get('https://www.python.org')\n",
    "link=browser.find_element_by_link_text(\"Community\")\n",
    "sleep(5)\n",
    "link.click()\n",
    "currenturl=browser.current_url\n",
    "if currenturl==\"https://www.python.org/community/\":\n",
    "    print(\"first test case passed\")\n",
    "else:\n",
    "    print(\"test case failed\")\n",
    "  \n",
    "sleep(5)\n",
    "browser.back()\n",
    "current_url=browser.current_url\n",
    "if current_url==\"https://www.python.org/\":\n",
    "    print(\"second test case passed\")\n",
    "else:\n",
    "    print(\"second case failed\")\n",
    "sleep(5)\n",
    "browser.forward()\n",
    "sleep(5)\n",
    "current_url=browser.current_url\n",
    "if current_url==\"https://www.python.org/community/\":\n",
    "    print(\"third test case passed\")\n",
    "else:\n",
    "    print(\"third case failed\")\n",
    "browser.close()"
   ]
  },
  {
   "cell_type": "code",
   "execution_count": null,
   "metadata": {},
   "outputs": [],
   "source": [
    "get function:\n",
    "    launch a url\n",
    "    "
   ]
  },
  {
   "cell_type": "markdown",
   "metadata": {},
   "source": [
    "Elements:\n",
    "    * Edit box\n",
    "    * Image\n",
    "    * text\n",
    "    * link\n",
    "    * table\n",
    "    * Text box\n",
    "    * check box\n",
    "    * radio button\n",
    "    * pop up\n",
    "    * drop down\n",
    "    * frames\n",
    "    file:///C:/My/Study/javaselenium/webpages/WebDriver%20Demo%20Website.html"
   ]
  },
  {
   "cell_type": "markdown",
   "metadata": {},
   "source": [
    "## Operations on Browser\n",
    "* Open a browser\n",
    "* Open a URL\n",
    "* Close browser\n",
    "* Refresh\n",
    "* Back\n",
    "* Forward\n",
    "* Maximize\n",
    "* Minimize\n",
    "* Open a tab\n",
    "* close a tab"
   ]
  },
  {
   "cell_type": "markdown",
   "metadata": {},
   "source": [
    "Operations on the element\n"
   ]
  },
  {
   "cell_type": "markdown",
   "metadata": {},
   "source": [
    "# Edit Box\n",
    "* Type\n",
    "* Send keys\n",
    "* clear the edit box\n",
    "* Read back\n",
    "* Enable or disabled ( status)\n"
   ]
  },
  {
   "cell_type": "markdown",
   "metadata": {},
   "source": [
    "# Link\n",
    "* Click a link\n",
    "* right click\n",
    "* check the existance of a link\n",
    "* Link text\n",
    "* link is enabled or not"
   ]
  },
  {
   "cell_type": "markdown",
   "metadata": {},
   "source": [
    "# Radio button\n",
    "* Select a button\n",
    "* Deselect a button\n",
    "* Enable status\n",
    "* Display status"
   ]
  },
  {
   "cell_type": "markdown",
   "metadata": {},
   "source": [
    "## Check box\n",
    "* Select the check box\n",
    "* multiple select\n",
    "* deselect\n",
    "* Select all\n",
    "* Deselect all\n",
    "* Enable status\n",
    "* Display status\n"
   ]
  },
  {
   "cell_type": "markdown",
   "metadata": {},
   "source": [
    "## Drop down\n",
    "* Select the value\n",
    "* Deselect the value\n",
    "* Display status\n",
    "* Enable status\n",
    "* Count the no of elements\n"
   ]
  },
  {
   "cell_type": "markdown",
   "metadata": {},
   "source": [
    "## Image\n",
    "* Enable status\n",
    "* Link\n",
    "* click on image it should redirect to another page"
   ]
  },
  {
   "cell_type": "markdown",
   "metadata": {},
   "source": [
    "## Table\n",
    "* no of rows/column\n",
    "* Cell values"
   ]
  },
  {
   "cell_type": "markdown",
   "metadata": {},
   "source": [
    "## Frames\n",
    "* Switch to a frame\n",
    "* Switch to top window"
   ]
  },
  {
   "cell_type": "code",
   "execution_count": null,
   "metadata": {},
   "outputs": [],
   "source": []
  }
 ],
 "metadata": {
  "kernelspec": {
   "display_name": "Python 3",
   "language": "python",
   "name": "python3"
  },
  "language_info": {
   "codemirror_mode": {
    "name": "ipython",
    "version": 3
   },
   "file_extension": ".py",
   "mimetype": "text/x-python",
   "name": "python",
   "nbconvert_exporter": "python",
   "pygments_lexer": "ipython3",
   "version": "3.7.3"
  }
 },
 "nbformat": 4,
 "nbformat_minor": 2
}
