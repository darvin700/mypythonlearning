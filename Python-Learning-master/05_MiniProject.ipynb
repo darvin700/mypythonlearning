{
 "cells": [
  {
   "cell_type": "code",
   "execution_count": null,
   "metadata": {},
   "outputs": [],
   "source": [
    "## Objective of this mini python project: To understand - if, elif, else, while loop, input statement.\n",
    "## Audience: Beginner to Intermediate.\n",
    "\n",
    "## Mini Project: You will play with your computer by selecting characters from {Tom, Jerry, Spike}\n",
    "## In Tom and Jerry TV serial: There are always something happening among Tom (Cat), Jerry (Mouse) and Spike (Bulldog).\n",
    "#... at some time one character is winning and another time different character is winning.\n",
    "\n",
    "## Let we are making a simple python code: In this code you will play game with your computer.\n",
    "#... You are going to select one of the character from the list (Tom, Jerry, Spike). Computer will also select one of the character but randomnly.\n",
    "\n",
    "## And the rule of the winning is as following:\n",
    "#... 1. Spike (dog) beats the Tom (cat), 2. Tom (cat) beats the Jerry (mouse), 3. Jerry (mouse) beats the Spike (dog), 4. Ties, if both selected the same character.\n",
    "#... Example: if you selected \"Spike\" and computer selected \"Tom\" => You won the game => You beat the Computer. You can try again to win by the above rules.\n",
    "\n",
    "## How to play: Just run the code and enter the values they ask for. There is option to quit the game."
   ]
  }
 ],
 "metadata": {
  "kernelspec": {
   "display_name": "Python 3",
   "language": "python",
   "name": "python3"
  },
  "language_info": {
   "codemirror_mode": {
    "name": "ipython",
    "version": 3
   },
   "file_extension": ".py",
   "mimetype": "text/x-python",
   "name": "python",
   "nbconvert_exporter": "python",
   "pygments_lexer": "ipython3",
   "version": "3.8.3"
  }
 },
 "nbformat": 4,
 "nbformat_minor": 4
}
