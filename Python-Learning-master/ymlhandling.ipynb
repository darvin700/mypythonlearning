{
 "cells": [
  {
   "cell_type": "markdown",
   "metadata": {},
   "source": [
    "### YAML format\n",
    "YAML (YAML Ain't Markup Language) is a human-readable data-serialization language. It is commonly used for configuration files, but it is also used in data storage (e.g. debugging output) or transmittion (e.g. document headers)."
   ]
  },
  {
   "cell_type": "markdown",
   "metadata": {},
   "source": [
    "YAML natively supports three basic data types: scalars (such as strings, integers, and floats), lists, and associative arrays."
   ]
  },
  {
   "cell_type": "code",
   "execution_count": 2,
   "metadata": {},
   "outputs": [
    {
     "name": "stdout",
     "output_type": "stream",
     "text": [
      "{'raincoat': 1, 'coins': 5, 'books': 23, 'spectacles': 2, 'chairs': 12, 'pens': 6}\n"
     ]
    }
   ],
   "source": [
    "import yaml\n",
    "\n",
    "with open('items.yaml') as f:\n",
    "    \n",
    "    data = yaml.load(f, Loader=yaml.FullLoader)\n",
    "    print(data)"
   ]
  },
  {
   "cell_type": "markdown",
   "metadata": {},
   "source": [
    "The PyYAML module transforms the scalar values into a Python dictionary.\n"
   ]
  },
  {
   "cell_type": "code",
   "execution_count": 3,
   "metadata": {},
   "outputs": [
    {
     "name": "stdout",
     "output_type": "stream",
     "text": [
      "cities -> ['Bratislava', 'Kosice', 'Trnava', 'Moldava', 'Trencin']\n",
      "companies -> ['Eset', 'Slovnaft', 'Duslo Sala', 'Matador Puchov']\n"
     ]
    }
   ],
   "source": [
    "import yaml\n",
    "\n",
    "with open('data.yaml') as f:\n",
    "    \n",
    "    docs = yaml.load_all(f, Loader=yaml.FullLoader)\n",
    "\n",
    "    for doc in docs:\n",
    "        \n",
    "        for k, v in doc.items():\n",
    "            print(k, \"->\", v)"
   ]
  },
  {
   "cell_type": "markdown",
   "metadata": {},
   "source": [
    "### Python YAML dump\n",
    "The dump() method serializes a Python object into a YAML stream.\n"
   ]
  },
  {
   "cell_type": "code",
   "execution_count": 4,
   "metadata": {},
   "outputs": [
    {
     "name": "stdout",
     "output_type": "stream",
     "text": [
      "- name: John Doe\n",
      "  occupation: gardener\n",
      "- name: Lucy Black\n",
      "  occupation: teacher\n",
      "\n"
     ]
    }
   ],
   "source": [
    "import yaml\n",
    "\n",
    "users = [{'name': 'John Doe', 'occupation': 'gardener'},\n",
    "         {'name': 'Lucy Black', 'occupation': 'teacher'}]\n",
    "\n",
    "print(yaml.dump(users))"
   ]
  },
  {
   "cell_type": "code",
   "execution_count": 6,
   "metadata": {},
   "outputs": [],
   "source": [
    "# Python YAML write\n",
    "# The example writes a list of dictionaries into a users.yaml file.\n",
    "\n",
    "\n",
    "import yaml\n",
    "\n",
    "users = [{'name': 'John Doe', 'occupation': 'gardener'},\n",
    "         {'name': 'Lucy Black', 'occupation': 'teacher'}]\n",
    "\n",
    "with open('users.yaml', 'w') as f:\n",
    "    \n",
    "    data = yaml.dump(users, f)"
   ]
  },
  {
   "cell_type": "markdown",
   "metadata": {},
   "source": [
    "### Python YAML sorting keys"
   ]
  },
  {
   "cell_type": "code",
   "execution_count": 7,
   "metadata": {},
   "outputs": [
    {
     "name": "stdout",
     "output_type": "stream",
     "text": [
      "{'raincoat': 1, 'coins': 5, 'books': 23, 'spectacles': 2, 'chairs': 12, 'pens': 6}\n",
      "books: 23\n",
      "chairs: 12\n",
      "coins: 5\n",
      "pens: 6\n",
      "raincoat: 1\n",
      "spectacles: 2\n",
      "\n"
     ]
    }
   ],
   "source": [
    "import yaml\n",
    "\n",
    "with open('items.yaml') as f:\n",
    "    \n",
    "    data = yaml.load(f, Loader=yaml.FullLoader)\n",
    "    print(data)\n",
    "\n",
    "    sorted = yaml.dump(data, sort_keys=True)\n",
    "    print(sorted)"
   ]
  },
  {
   "cell_type": "code",
   "execution_count": null,
   "metadata": {},
   "outputs": [],
   "source": []
  }
 ],
 "metadata": {
  "kernelspec": {
   "display_name": "Python 3",
   "language": "python",
   "name": "python3"
  },
  "language_info": {
   "codemirror_mode": {
    "name": "ipython",
    "version": 3
   },
   "file_extension": ".py",
   "mimetype": "text/x-python",
   "name": "python",
   "nbconvert_exporter": "python",
   "pygments_lexer": "ipython3",
   "version": "3.7.3"
  }
 },
 "nbformat": 4,
 "nbformat_minor": 2
}
