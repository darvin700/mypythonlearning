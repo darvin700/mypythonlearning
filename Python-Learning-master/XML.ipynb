{
 "cells": [
  {
   "cell_type": "markdown",
   "metadata": {},
   "source": [
    "### What is XML?\n",
    "XML stands for \"Extensible Markup Language\". It is mainly used in webpages, where the data has a specific structure and is understood dynamically by the XML framework.\n",
    "\n",
    "XML creates a tree-like structure that is easy to interpret and supports a hierarchy. Whenever a page follows XML, it can be called an XML document.\n",
    "\n",
    "XML documents have sections, called elements, defined by a beginning and an ending tag. A tag is a markup construct that begins with < and ends with >. The characters between the start-tag and end-tag, if there are any, are the element's content. Elements can contain markup, including other elements, which are called \"child elements\".\n",
    "The largest, top-level element is called the root, which contains all other elements.\n",
    "Attributes are name–value pair that exist within a start-tag or empty-element tag. An XML attribute can only have a single value and each attribute can appear at most once on each element.\n",
    "To understand this a little bit "
   ]
  },
  {
   "cell_type": "code",
   "execution_count": null,
   "metadata": {},
   "outputs": [],
   "source": [
    "<?xml version=\"1.0\"?>\n",
    "<collection category=\"movie\">\n",
    "    <genre category=\"Action\">\n",
    "        <decade years=\"1980s\">\n",
    "            <movie favorite=\"True\" title=\"Indiana Jones: The raiders of the lost Ark\">\n",
    "                <format multiple=\"No\">DVD</format>\n",
    "                <year>1981</year>\n",
    "                <rating>PG</rating>\n",
    "                <description>\n",
    "                'Archaeologist and adventurer Indiana Jones \n",
    "                is hired by the U.S. government to find the Ark of the \n",
    "                Covenant before the Nazis.'\n",
    "                </description>\n",
    "            </movie>\n",
    "               <movie favorite=\"True\" title=\"THE KARATE KID\">\n",
    "               <format multiple=\"Yes\">DVD,Online</format>\n",
    "               <year>1984</year>\n",
    "               <rating>PG</rating>\n",
    "               <description>None provided.</description>\n",
    "            </movie>\n",
    "            <movie favorite=\"False\" title=\"Back 2 the Future\">\n",
    "               <format multiple=\"False\">Blu-ray</format>\n",
    "               <year>1985</year>\n",
    "               <rating>PG</rating>\n",
    "               <description>Marty McFly</description>\n",
    "            </movie>\n",
    "        </decade>\n",
    "        <decade years=\"1990s\">\n",
    "            <movie favorite=\"False\" title=\"X-Men\">\n",
    "               <format multiple=\"Yes\">dvd, digital</format>\n",
    "               <year>2000</year>\n",
    "               <rating>PG-13</rating>\n",
    "               <description>Two mutants come to a private academy for their kind whose resident superhero team must \n",
    "               oppose a terrorist organization with similar powers.</description>\n",
    "            </movie>\n",
    "            <movie favorite=\"True\" title=\"Batman Returns\">\n",
    "               <format multiple=\"No\">VHS</format>\n",
    "               <year>1992</year>\n",
    "               <rating>PG13</rating>\n",
    "               <description>NA.</description>\n",
    "            </movie>\n",
    "               <movie favorite=\"False\" title=\"Reservoir Dogs\">\n",
    "               <format multiple=\"No\">Online</format>\n",
    "               <year>1992</year>\n",
    "               <rating>R</rating>\n",
    "               <description>WhAtEvER I Want!!!?!</description>\n",
    "            </movie>\n",
    "        </decade>    \n",
    "    </genre>\n",
    "\n",
    "    <genre category=\"Thriller\">\n",
    "        <decade years=\"1970s\">\n",
    "            <movie favorite=\"False\" title=\"ALIEN\">\n",
    "                <format multiple=\"Yes\">DVD</format>\n",
    "                <year>1979</year>\n",
    "                <rating>R</rating>\n",
    "                <description>\"\"\"\"\"\"\"\"\"</description>\n",
    "            </movie>\n",
    "        </decade>\n",
    "        <decade years=\"1980s\">\n",
    "            <movie favorite=\"True\" title=\"Ferris Bueller's Day Off\">\n",
    "                <format multiple=\"No\">DVD</format>\n",
    "                <year>1986</year>\n",
    "                <rating>PG13</rating>\n",
    "                <description>Funny movie about a funny guy</description>\n",
    "            </movie>\n",
    "            <movie favorite=\"FALSE\" title=\"American Psycho\">\n",
    "                <format multiple=\"No\">blue-ray</format>\n",
    "                <year>2000</year>\n",
    "                <rating>Unrated</rating>\n",
    "                <description>psychopathic Bateman</description>\n",
    "            </movie>\n",
    "        </decade>\n",
    "    </genre>\n",
    "</collection>"
   ]
  },
  {
   "cell_type": "raw",
   "metadata": {},
   "source": [
    "<collection> is the single root element: it contains all the other elements, such as <genre>, or <movie>, which are the child elements or subelements. As you can see, these elements are nested.\n",
    "Note that these child elements can also act as parents and contain their own child elements, which are then called \"sub-child elements\".\n",
    "\n",
    "You'll see that, for example, the <movie> element contains a couple of \"attributes\", such as favorite title that give even more information!\n",
    "With this short intro to XML files in mind, you're ready to learn more about ElementTree!"
   ]
  },
  {
   "cell_type": "markdown",
   "metadata": {},
   "source": [
    "#### Introduction to ElementTree\n",
    "The XML tree structure makes navigation, modification, and removal relatively simple programmatically. Python has a built in library, ElementTree, that has functions to read and manipulate XMLs (and other similarly structured files).\n",
    "\n",
    "First, import ElementTree. It's a common practice to use the alias of ET:"
   ]
  },
  {
   "cell_type": "code",
   "execution_count": 1,
   "metadata": {},
   "outputs": [],
   "source": [
    "import xml.etree.ElementTree as ET"
   ]
  },
  {
   "cell_type": "markdown",
   "metadata": {},
   "source": [
    "#### Parsing XML Data\n",
    "In the XML file provided, there is a basic collection of movies described. The only problem is the data is a mess! There have been a lot of different curators of this collection and everyone has their own way of entering data into the file. The main goal in this tutorial will be to read and understand the file with Python - then fix the problems.\n",
    "\n",
    "First you need to read in the file with ElementTree."
   ]
  },
  {
   "cell_type": "code",
   "execution_count": 3,
   "metadata": {},
   "outputs": [
    {
     "name": "stdout",
     "output_type": "stream",
     "text": [
      "Help on module xml.etree.ElementTree in xml.etree:\n",
      "\n",
      "NAME\n",
      "    xml.etree.ElementTree - Lightweight XML support for Python.\n",
      "\n",
      "MODULE REFERENCE\n",
      "    https://docs.python.org/3.8/library/xml.etree.elementtree\n",
      "    \n",
      "    The following documentation is automatically generated from the Python\n",
      "    source files.  It may be incomplete, incorrect or include features that\n",
      "    are considered implementation detail and may vary between Python\n",
      "    implementations.  When in doubt, consult the module reference at the\n",
      "    location listed above.\n",
      "\n",
      "DESCRIPTION\n",
      "    XML is an inherently hierarchical data format, and the most natural way to\n",
      "    represent it is with a tree.  This module has two classes for this purpose:\n",
      "    \n",
      "       1. ElementTree represents the whole XML document as a tree and\n",
      "    \n",
      "       2. Element represents a single node in this tree.\n",
      "    \n",
      "    Interactions with the whole document (reading and writing to/from files) are\n",
      "    usually done on the ElementTree level.  Interactions with a single XML element\n",
      "    and its sub-elements are done on the Element level.\n",
      "    \n",
      "    Element is a flexible container object designed to store hierarchical data\n",
      "    structures in memory. It can be described as a cross between a list and a\n",
      "    dictionary.  Each Element has a number of properties associated with it:\n",
      "    \n",
      "       'tag' - a string containing the element's name.\n",
      "    \n",
      "       'attributes' - a Python dictionary storing the element's attributes.\n",
      "    \n",
      "       'text' - a string containing the element's text content.\n",
      "    \n",
      "       'tail' - an optional string containing text after the element's end tag.\n",
      "    \n",
      "       And a number of child elements stored in a Python sequence.\n",
      "    \n",
      "    To create an element instance, use the Element constructor,\n",
      "    or the SubElement factory function.\n",
      "    \n",
      "    You can also use the ElementTree class to wrap an element structure\n",
      "    and convert it to and from XML.\n",
      "\n",
      "CLASSES\n",
      "    builtins.SyntaxError(builtins.Exception)\n",
      "        ParseError\n",
      "    builtins.object\n",
      "        C14NWriterTarget\n",
      "        Element\n",
      "        ElementTree\n",
      "        QName\n",
      "        TreeBuilder\n",
      "        XMLParser\n",
      "        XMLPullParser\n",
      "    \n",
      "    class C14NWriterTarget(builtins.object)\n",
      "     |  C14NWriterTarget(write, *, with_comments=False, strip_text=False, rewrite_prefixes=False, qname_aware_tags=None, qname_aware_attrs=None, exclude_attrs=None, exclude_tags=None)\n",
      "     |  \n",
      "     |  Canonicalization writer target for the XMLParser.\n",
      "     |  \n",
      "     |  Serialises parse events to XML C14N 2.0.\n",
      "     |  \n",
      "     |  The *write* function is used for writing out the resulting data stream\n",
      "     |  as text (not bytes).  To write to a file, open it in text mode with encoding\n",
      "     |  \"utf-8\" and pass its ``.write`` method.\n",
      "     |  \n",
      "     |  Configuration options:\n",
      "     |  \n",
      "     |  - *with_comments*: set to true to include comments\n",
      "     |  - *strip_text*: set to true to strip whitespace before and after text content\n",
      "     |  - *rewrite_prefixes*: set to true to replace namespace prefixes by \"n{number}\"\n",
      "     |  - *qname_aware_tags*: a set of qname aware tag names in which prefixes\n",
      "     |                        should be replaced in text content\n",
      "     |  - *qname_aware_attrs*: a set of qname aware attribute names in which prefixes\n",
      "     |                         should be replaced in text content\n",
      "     |  - *exclude_attrs*: a set of attribute names that should not be serialised\n",
      "     |  - *exclude_tags*: a set of tag names that should not be serialised\n",
      "     |  \n",
      "     |  Methods defined here:\n",
      "     |  \n",
      "     |  __init__(self, write, *, with_comments=False, strip_text=False, rewrite_prefixes=False, qname_aware_tags=None, qname_aware_attrs=None, exclude_attrs=None, exclude_tags=None)\n",
      "     |      Initialize self.  See help(type(self)) for accurate signature.\n",
      "     |  \n",
      "     |  comment(self, text)\n",
      "     |  \n",
      "     |  data(self, data)\n",
      "     |  \n",
      "     |  end(self, tag)\n",
      "     |  \n",
      "     |  pi(self, target, data)\n",
      "     |  \n",
      "     |  start(self, tag, attrs)\n",
      "     |  \n",
      "     |  start_ns(self, prefix, uri)\n",
      "     |  \n",
      "     |  ----------------------------------------------------------------------\n",
      "     |  Data descriptors defined here:\n",
      "     |  \n",
      "     |  __dict__\n",
      "     |      dictionary for instance variables (if defined)\n",
      "     |  \n",
      "     |  __weakref__\n",
      "     |      list of weak references to the object (if defined)\n",
      "    \n",
      "    class Element(builtins.object)\n",
      "     |  Methods defined here:\n",
      "     |  \n",
      "     |  __copy__(self, /)\n",
      "     |  \n",
      "     |  __deepcopy__(self, memo, /)\n",
      "     |  \n",
      "     |  __delitem__(self, key, /)\n",
      "     |      Delete self[key].\n",
      "     |  \n",
      "     |  __getattribute__(self, name, /)\n",
      "     |      Return getattr(self, name).\n",
      "     |  \n",
      "     |  __getitem__(self, key, /)\n",
      "     |      Return self[key].\n",
      "     |  \n",
      "     |  __getstate__(self, /)\n",
      "     |  \n",
      "     |  __init__(self, /, *args, **kwargs)\n",
      "     |      Initialize self.  See help(type(self)) for accurate signature.\n",
      "     |  \n",
      "     |  __len__(self, /)\n",
      "     |      Return len(self).\n",
      "     |  \n",
      "     |  __repr__(self, /)\n",
      "     |      Return repr(self).\n",
      "     |  \n",
      "     |  __setitem__(self, key, value, /)\n",
      "     |      Set self[key] to value.\n",
      "     |  \n",
      "     |  __setstate__(self, state, /)\n",
      "     |  \n",
      "     |  __sizeof__(self, /)\n",
      "     |      Size of object in memory, in bytes.\n",
      "     |  \n",
      "     |  append(self, subelement, /)\n",
      "     |  \n",
      "     |  clear(self, /)\n",
      "     |  \n",
      "     |  extend(self, elements, /)\n",
      "     |  \n",
      "     |  find(self, /, path, namespaces=None)\n",
      "     |  \n",
      "     |  findall(self, /, path, namespaces=None)\n",
      "     |  \n",
      "     |  findtext(self, /, path, default=None, namespaces=None)\n",
      "     |  \n",
      "     |  get(self, /, key, default=None)\n",
      "     |  \n",
      "     |  getchildren(self, /)\n",
      "     |  \n",
      "     |  getiterator(self, /, tag=None)\n",
      "     |  \n",
      "     |  insert(self, index, subelement, /)\n",
      "     |  \n",
      "     |  items(self, /)\n",
      "     |  \n",
      "     |  iter(self, /, tag=None)\n",
      "     |  \n",
      "     |  iterfind(self, /, path, namespaces=None)\n",
      "     |  \n",
      "     |  itertext(self, /)\n",
      "     |  \n",
      "     |  keys(self, /)\n",
      "     |  \n",
      "     |  makeelement(self, tag, attrib, /)\n",
      "     |  \n",
      "     |  remove(self, subelement, /)\n",
      "     |  \n",
      "     |  set(self, key, value, /)\n",
      "     |  \n",
      "     |  ----------------------------------------------------------------------\n",
      "     |  Static methods defined here:\n",
      "     |  \n",
      "     |  __new__(*args, **kwargs) from builtins.type\n",
      "     |      Create and return a new object.  See help(type) for accurate signature.\n",
      "     |  \n",
      "     |  ----------------------------------------------------------------------\n",
      "     |  Data descriptors defined here:\n",
      "     |  \n",
      "     |  attrib\n",
      "     |      A dictionary containing the element's attributes\n",
      "     |  \n",
      "     |  tag\n",
      "     |      A string identifying what kind of data this element represents\n",
      "     |  \n",
      "     |  tail\n",
      "     |      A string of text directly after the end tag, or None\n",
      "     |  \n",
      "     |  text\n",
      "     |      A string of text directly after the start tag, or None\n",
      "    \n",
      "    class ElementTree(builtins.object)\n",
      "     |  ElementTree(element=None, file=None)\n",
      "     |  \n",
      "     |  An XML element hierarchy.\n",
      "     |  \n",
      "     |  This class also provides support for serialization to and from\n",
      "     |  standard XML.\n",
      "     |  \n",
      "     |  *element* is an optional root element node,\n",
      "     |  *file* is an optional file handle or file name of an XML file whose\n",
      "     |  contents will be used to initialize the tree with.\n",
      "     |  \n",
      "     |  Methods defined here:\n",
      "     |  \n",
      "     |  __init__(self, element=None, file=None)\n",
      "     |      Initialize self.  See help(type(self)) for accurate signature.\n",
      "     |  \n",
      "     |  find(self, path, namespaces=None)\n",
      "     |      Find first matching element by tag name or path.\n",
      "     |      \n",
      "     |      Same as getroot().find(path), which is Element.find()\n",
      "     |      \n",
      "     |      *path* is a string having either an element tag or an XPath,\n",
      "     |      *namespaces* is an optional mapping from namespace prefix to full name.\n",
      "     |      \n",
      "     |      Return the first matching element, or None if no element was found.\n",
      "     |  \n",
      "     |  findall(self, path, namespaces=None)\n",
      "     |      Find all matching subelements by tag name or path.\n",
      "     |      \n",
      "     |      Same as getroot().findall(path), which is Element.findall().\n",
      "     |      \n",
      "     |      *path* is a string having either an element tag or an XPath,\n",
      "     |      *namespaces* is an optional mapping from namespace prefix to full name.\n",
      "     |      \n",
      "     |      Return list containing all matching elements in document order.\n",
      "     |  \n",
      "     |  findtext(self, path, default=None, namespaces=None)\n",
      "     |      Find first matching element by tag name or path.\n",
      "     |      \n",
      "     |      Same as getroot().findtext(path),  which is Element.findtext()\n",
      "     |      \n",
      "     |      *path* is a string having either an element tag or an XPath,\n",
      "     |      *namespaces* is an optional mapping from namespace prefix to full name.\n",
      "     |      \n",
      "     |      Return the first matching element, or None if no element was found.\n",
      "     |  \n",
      "     |  getiterator(self, tag=None)\n",
      "     |      # compatibility\n",
      "     |  \n",
      "     |  getroot(self)\n",
      "     |      Return root element of this tree.\n",
      "     |  \n",
      "     |  iter(self, tag=None)\n",
      "     |      Create and return tree iterator for the root element.\n",
      "     |      \n",
      "     |      The iterator loops over all elements in this tree, in document order.\n",
      "     |      \n",
      "     |      *tag* is a string with the tag name to iterate over\n",
      "     |      (default is to return all elements).\n",
      "     |  \n",
      "     |  iterfind(self, path, namespaces=None)\n",
      "     |      Find all matching subelements by tag name or path.\n",
      "     |      \n",
      "     |      Same as getroot().iterfind(path), which is element.iterfind()\n",
      "     |      \n",
      "     |      *path* is a string having either an element tag or an XPath,\n",
      "     |      *namespaces* is an optional mapping from namespace prefix to full name.\n",
      "     |      \n",
      "     |      Return an iterable yielding all matching elements in document order.\n",
      "     |  \n",
      "     |  parse(self, source, parser=None)\n",
      "     |      Load external XML document into element tree.\n",
      "     |      \n",
      "     |      *source* is a file name or file object, *parser* is an optional parser\n",
      "     |      instance that defaults to XMLParser.\n",
      "     |      \n",
      "     |      ParseError is raised if the parser fails to parse the document.\n",
      "     |      \n",
      "     |      Returns the root element of the given source document.\n",
      "     |  \n",
      "     |  write(self, file_or_filename, encoding=None, xml_declaration=None, default_namespace=None, method=None, *, short_empty_elements=True)\n",
      "     |      Write element tree to a file as XML.\n",
      "     |      \n",
      "     |      Arguments:\n",
      "     |        *file_or_filename* -- file name or a file object opened for writing\n",
      "     |      \n",
      "     |        *encoding* -- the output encoding (default: US-ASCII)\n",
      "     |      \n",
      "     |        *xml_declaration* -- bool indicating if an XML declaration should be\n",
      "     |                             added to the output. If None, an XML declaration\n",
      "     |                             is added if encoding IS NOT either of:\n",
      "     |                             US-ASCII, UTF-8, or Unicode\n",
      "     |      \n",
      "     |        *default_namespace* -- sets the default XML namespace (for \"xmlns\")\n",
      "     |      \n",
      "     |        *method* -- either \"xml\" (default), \"html, \"text\", or \"c14n\"\n",
      "     |      \n",
      "     |        *short_empty_elements* -- controls the formatting of elements\n",
      "     |                                  that contain no content. If True (default)\n",
      "     |                                  they are emitted as a single self-closed\n",
      "     |                                  tag, otherwise they are emitted as a pair\n",
      "     |                                  of start/end tags\n",
      "     |  \n",
      "     |  write_c14n(self, file)\n",
      "     |  \n",
      "     |  ----------------------------------------------------------------------\n",
      "     |  Data descriptors defined here:\n",
      "     |  \n",
      "     |  __dict__\n",
      "     |      dictionary for instance variables (if defined)\n",
      "     |  \n",
      "     |  __weakref__\n",
      "     |      list of weak references to the object (if defined)\n",
      "    \n",
      "    class ParseError(builtins.SyntaxError)\n",
      "     |  Invalid syntax.\n",
      "     |  \n",
      "     |  Method resolution order:\n",
      "     |      ParseError\n",
      "     |      builtins.SyntaxError\n",
      "     |      builtins.Exception\n",
      "     |      builtins.BaseException\n",
      "     |      builtins.object\n",
      "     |  \n",
      "     |  Data descriptors defined here:\n",
      "     |  \n",
      "     |  __weakref__\n",
      "     |      list of weak references to the object (if defined)\n",
      "     |  \n",
      "     |  ----------------------------------------------------------------------\n",
      "     |  Methods inherited from builtins.SyntaxError:\n",
      "     |  \n",
      "     |  __init__(self, /, *args, **kwargs)\n",
      "     |      Initialize self.  See help(type(self)) for accurate signature.\n",
      "     |  \n",
      "     |  __str__(self, /)\n",
      "     |      Return str(self).\n",
      "     |  \n",
      "     |  ----------------------------------------------------------------------\n",
      "     |  Data descriptors inherited from builtins.SyntaxError:\n",
      "     |  \n",
      "     |  filename\n",
      "     |      exception filename\n",
      "     |  \n",
      "     |  lineno\n",
      "     |      exception lineno\n",
      "     |  \n",
      "     |  msg\n",
      "     |      exception msg\n",
      "     |  \n",
      "     |  offset\n",
      "     |      exception offset\n",
      "     |  \n",
      "     |  print_file_and_line\n",
      "     |      exception print_file_and_line\n",
      "     |  \n",
      "     |  text\n",
      "     |      exception text\n",
      "     |  \n",
      "     |  ----------------------------------------------------------------------\n",
      "     |  Static methods inherited from builtins.Exception:\n",
      "     |  \n",
      "     |  __new__(*args, **kwargs) from builtins.type\n",
      "     |      Create and return a new object.  See help(type) for accurate signature.\n",
      "     |  \n",
      "     |  ----------------------------------------------------------------------\n",
      "     |  Methods inherited from builtins.BaseException:\n",
      "     |  \n",
      "     |  __delattr__(self, name, /)\n",
      "     |      Implement delattr(self, name).\n",
      "     |  \n",
      "     |  __getattribute__(self, name, /)\n",
      "     |      Return getattr(self, name).\n",
      "     |  \n",
      "     |  __reduce__(...)\n",
      "     |      Helper for pickle.\n",
      "     |  \n",
      "     |  __repr__(self, /)\n",
      "     |      Return repr(self).\n",
      "     |  \n",
      "     |  __setattr__(self, name, value, /)\n",
      "     |      Implement setattr(self, name, value).\n",
      "     |  \n",
      "     |  __setstate__(...)\n",
      "     |  \n",
      "     |  with_traceback(...)\n",
      "     |      Exception.with_traceback(tb) --\n",
      "     |      set self.__traceback__ to tb and return self.\n",
      "     |  \n",
      "     |  ----------------------------------------------------------------------\n",
      "     |  Data descriptors inherited from builtins.BaseException:\n",
      "     |  \n",
      "     |  __cause__\n",
      "     |      exception cause\n",
      "     |  \n",
      "     |  __context__\n",
      "     |      exception context\n",
      "     |  \n",
      "     |  __dict__\n",
      "     |  \n",
      "     |  __suppress_context__\n",
      "     |  \n",
      "     |  __traceback__\n",
      "     |  \n",
      "     |  args\n",
      "    \n",
      "    class QName(builtins.object)\n",
      "     |  QName(text_or_uri, tag=None)\n",
      "     |  \n",
      "     |  Qualified name wrapper.\n",
      "     |  \n",
      "     |  This class can be used to wrap a QName attribute value in order to get\n",
      "     |  proper namespace handing on output.\n",
      "     |  \n",
      "     |  *text_or_uri* is a string containing the QName value either in the form\n",
      "     |  {uri}local, or if the tag argument is given, the URI part of a QName.\n",
      "     |  \n",
      "     |  *tag* is an optional argument which if given, will make the first\n",
      "     |  argument (text_or_uri) be interpreted as a URI, and this argument (tag)\n",
      "     |  be interpreted as a local name.\n",
      "     |  \n",
      "     |  Methods defined here:\n",
      "     |  \n",
      "     |  __eq__(self, other)\n",
      "     |      Return self==value.\n",
      "     |  \n",
      "     |  __ge__(self, other)\n",
      "     |      Return self>=value.\n",
      "     |  \n",
      "     |  __gt__(self, other)\n",
      "     |      Return self>value.\n",
      "     |  \n",
      "     |  __hash__(self)\n",
      "     |      Return hash(self).\n",
      "     |  \n",
      "     |  __init__(self, text_or_uri, tag=None)\n",
      "     |      Initialize self.  See help(type(self)) for accurate signature.\n",
      "     |  \n",
      "     |  __le__(self, other)\n",
      "     |      Return self<=value.\n",
      "     |  \n",
      "     |  __lt__(self, other)\n",
      "     |      Return self<value.\n",
      "     |  \n",
      "     |  __repr__(self)\n",
      "     |      Return repr(self).\n",
      "     |  \n",
      "     |  __str__(self)\n",
      "     |      Return str(self).\n",
      "     |  \n",
      "     |  ----------------------------------------------------------------------\n",
      "     |  Data descriptors defined here:\n",
      "     |  \n",
      "     |  __dict__\n",
      "     |      dictionary for instance variables (if defined)\n",
      "     |  \n",
      "     |  __weakref__\n",
      "     |      list of weak references to the object (if defined)\n",
      "    \n",
      "    class TreeBuilder(builtins.object)\n",
      "     |  Methods defined here:\n",
      "     |  \n",
      "     |  __init__(self, /, *args, **kwargs)\n",
      "     |      Initialize self.  See help(type(self)) for accurate signature.\n",
      "     |  \n",
      "     |  close(self, /)\n",
      "     |  \n",
      "     |  comment(self, text, /)\n",
      "     |  \n",
      "     |  data(self, data, /)\n",
      "     |  \n",
      "     |  end(self, tag, /)\n",
      "     |  \n",
      "     |  pi(self, target, text=None, /)\n",
      "     |  \n",
      "     |  start(self, tag, attrs=None, /)\n",
      "     |  \n",
      "     |  ----------------------------------------------------------------------\n",
      "     |  Static methods defined here:\n",
      "     |  \n",
      "     |  __new__(*args, **kwargs) from builtins.type\n",
      "     |      Create and return a new object.  See help(type) for accurate signature.\n",
      "    \n",
      "    class XMLParser(builtins.object)\n",
      "     |  # also see ElementTree and TreeBuilder\n",
      "     |  \n",
      "     |  Methods defined here:\n",
      "     |  \n",
      "     |  __init__(self, /, *args, **kwargs)\n",
      "     |      Initialize self.  See help(type(self)) for accurate signature.\n",
      "     |  \n",
      "     |  close(self, /)\n",
      "     |  \n",
      "     |  feed(self, data, /)\n",
      "     |  \n",
      "     |  ----------------------------------------------------------------------\n",
      "     |  Static methods defined here:\n",
      "     |  \n",
      "     |  __new__(*args, **kwargs) from builtins.type\n",
      "     |      Create and return a new object.  See help(type) for accurate signature.\n",
      "     |  \n",
      "     |  ----------------------------------------------------------------------\n",
      "     |  Data descriptors defined here:\n",
      "     |  \n",
      "     |  entity\n",
      "     |  \n",
      "     |  target\n",
      "     |  \n",
      "     |  version\n",
      "    \n",
      "    class XMLPullParser(builtins.object)\n",
      "     |  XMLPullParser(events=None, *, _parser=None)\n",
      "     |  \n",
      "     |  Methods defined here:\n",
      "     |  \n",
      "     |  __init__(self, events=None, *, _parser=None)\n",
      "     |      Initialize self.  See help(type(self)) for accurate signature.\n",
      "     |  \n",
      "     |  close(self)\n",
      "     |      Finish feeding data to parser.\n",
      "     |      \n",
      "     |      Unlike XMLParser, does not return the root element. Use\n",
      "     |      read_events() to consume elements from XMLPullParser.\n",
      "     |  \n",
      "     |  feed(self, data)\n",
      "     |      Feed encoded data to parser.\n",
      "     |  \n",
      "     |  read_events(self)\n",
      "     |      Return an iterator over currently available (event, elem) pairs.\n",
      "     |      \n",
      "     |      Events are consumed from the internal event queue as they are\n",
      "     |      retrieved from the iterator.\n",
      "     |  \n",
      "     |  ----------------------------------------------------------------------\n",
      "     |  Data descriptors defined here:\n",
      "     |  \n",
      "     |  __dict__\n",
      "     |      dictionary for instance variables (if defined)\n",
      "     |  \n",
      "     |  __weakref__\n",
      "     |      list of weak references to the object (if defined)\n",
      "\n",
      "FUNCTIONS\n",
      "    Comment(text=None)\n",
      "        Comment element factory.\n",
      "        \n",
      "        This function creates a special element which the standard serializer\n",
      "        serializes as an XML comment.\n",
      "        \n",
      "        *text* is a string containing the comment string.\n",
      "    \n",
      "    PI = ProcessingInstruction(target, text=None)\n",
      "        Processing Instruction element factory.\n",
      "        \n",
      "        This function creates a special element which the standard serializer\n",
      "        serializes as an XML comment.\n",
      "        \n",
      "        *target* is a string containing the processing instruction, *text* is a\n",
      "        string containing the processing instruction contents, if any.\n",
      "    \n",
      "    ProcessingInstruction(target, text=None)\n",
      "        Processing Instruction element factory.\n",
      "        \n",
      "        This function creates a special element which the standard serializer\n",
      "        serializes as an XML comment.\n",
      "        \n",
      "        *target* is a string containing the processing instruction, *text* is a\n",
      "        string containing the processing instruction contents, if any.\n",
      "    \n",
      "    SubElement(...)\n",
      "    \n",
      "    XML(text, parser=None)\n",
      "        Parse XML document from string constant.\n",
      "        \n",
      "        This function can be used to embed \"XML Literals\" in Python code.\n",
      "        \n",
      "        *text* is a string containing XML data, *parser* is an\n",
      "        optional parser instance, defaulting to the standard XMLParser.\n",
      "        \n",
      "        Returns an Element instance.\n",
      "    \n",
      "    XMLID(text, parser=None)\n",
      "        Parse XML document from string constant for its IDs.\n",
      "        \n",
      "        *text* is a string containing XML data, *parser* is an\n",
      "        optional parser instance, defaulting to the standard XMLParser.\n",
      "        \n",
      "        Returns an (Element, dict) tuple, in which the\n",
      "        dict maps element id:s to elements.\n",
      "    \n",
      "    canonicalize(xml_data=None, *, out=None, from_file=None, **options)\n",
      "        Convert XML to its C14N 2.0 serialised form.\n",
      "        \n",
      "        If *out* is provided, it must be a file or file-like object that receives\n",
      "        the serialised canonical XML output (text, not bytes) through its ``.write()``\n",
      "        method.  To write to a file, open it in text mode with encoding \"utf-8\".\n",
      "        If *out* is not provided, this function returns the output as text string.\n",
      "        \n",
      "        Either *xml_data* (an XML string) or *from_file* (a file path or\n",
      "        file-like object) must be provided as input.\n",
      "        \n",
      "        The configuration options are the same as for the ``C14NWriterTarget``.\n",
      "    \n",
      "    dump(elem)\n",
      "        Write element tree or element structure to sys.stdout.\n",
      "        \n",
      "        This function should be used for debugging only.\n",
      "        \n",
      "        *elem* is either an ElementTree, or a single Element.  The exact output\n",
      "        format is implementation dependent.  In this version, it's written as an\n",
      "        ordinary XML file.\n",
      "    \n",
      "    fromstring = XML(text, parser=None)\n",
      "        Parse XML document from string constant.\n",
      "        \n",
      "        This function can be used to embed \"XML Literals\" in Python code.\n",
      "        \n",
      "        *text* is a string containing XML data, *parser* is an\n",
      "        optional parser instance, defaulting to the standard XMLParser.\n",
      "        \n",
      "        Returns an Element instance.\n",
      "    \n",
      "    fromstringlist(sequence, parser=None)\n",
      "        Parse XML document from sequence of string fragments.\n",
      "        \n",
      "        *sequence* is a list of other sequence, *parser* is an optional parser\n",
      "        instance, defaulting to the standard XMLParser.\n",
      "        \n",
      "        Returns an Element instance.\n",
      "    \n",
      "    iselement(element)\n",
      "        Return True if *element* appears to be an Element.\n",
      "    \n",
      "    iterparse(source, events=None, parser=None)\n",
      "        Incrementally parse XML document into ElementTree.\n",
      "        \n",
      "        This class also reports what's going on to the user based on the\n",
      "        *events* it is initialized with.  The supported events are the strings\n",
      "        \"start\", \"end\", \"start-ns\" and \"end-ns\" (the \"ns\" events are used to get\n",
      "        detailed namespace information).  If *events* is omitted, only\n",
      "        \"end\" events are reported.\n",
      "        \n",
      "        *source* is a filename or file object containing XML data, *events* is\n",
      "        a list of events to report back, *parser* is an optional parser instance.\n",
      "        \n",
      "        Returns an iterator providing (event, elem) pairs.\n",
      "    \n",
      "    parse(source, parser=None)\n",
      "        Parse XML document into element tree.\n",
      "        \n",
      "        *source* is a filename or file object containing XML data,\n",
      "        *parser* is an optional parser instance defaulting to XMLParser.\n",
      "        \n",
      "        Return an ElementTree instance.\n",
      "    \n",
      "    register_namespace(prefix, uri)\n",
      "        Register a namespace prefix.\n",
      "        \n",
      "        The registry is global, and any existing mapping for either the\n",
      "        given prefix or the namespace URI will be removed.\n",
      "        \n",
      "        *prefix* is the namespace prefix, *uri* is a namespace uri. Tags and\n",
      "        attributes in this namespace will be serialized with prefix if possible.\n",
      "        \n",
      "        ValueError is raised if prefix is reserved or is invalid.\n",
      "    \n",
      "    tostring(element, encoding=None, method=None, *, xml_declaration=None, default_namespace=None, short_empty_elements=True)\n",
      "        Generate string representation of XML element.\n",
      "        \n",
      "        All subelements are included.  If encoding is \"unicode\", a string\n",
      "        is returned. Otherwise a bytestring is returned.\n",
      "        \n",
      "        *element* is an Element instance, *encoding* is an optional output\n",
      "        encoding defaulting to US-ASCII, *method* is an optional output which can\n",
      "        be one of \"xml\" (default), \"html\", \"text\" or \"c14n\", *default_namespace*\n",
      "        sets the default XML namespace (for \"xmlns\").\n",
      "        \n",
      "        Returns an (optionally) encoded string containing the XML data.\n",
      "    \n",
      "    tostringlist(element, encoding=None, method=None, *, xml_declaration=None, default_namespace=None, short_empty_elements=True)\n",
      "\n",
      "DATA\n",
      "    VERSION = '1.3.0'\n",
      "    __all__ = ['Comment', 'dump', 'Element', 'ElementTree', 'fromstring', ...\n",
      "\n",
      "FILE\n",
      "    c:\\users\\91973\\anaconda3\\lib\\xml\\etree\\elementtree.py\n",
      "\n",
      "\n"
     ]
    }
   ],
   "source": [
    "# dir(ET)\n",
    "help(ET)"
   ]
  },
  {
   "cell_type": "code",
   "execution_count": 7,
   "metadata": {},
   "outputs": [
    {
     "name": "stdout",
     "output_type": "stream",
     "text": [
      "<xml.etree.ElementTree.ElementTree object at 0x000001954BEFF310>\n",
      "['__class__', '__delattr__', '__dict__', '__dir__', '__doc__', '__eq__', '__format__', '__ge__', '__getattribute__', '__gt__', '__hash__', '__init__', '__init_subclass__', '__le__', '__lt__', '__module__', '__ne__', '__new__', '__reduce__', '__reduce_ex__', '__repr__', '__setattr__', '__sizeof__', '__str__', '__subclasshook__', '__weakref__', '_root', '_setroot', 'find', 'findall', 'findtext', 'getiterator', 'getroot', 'iter', 'iterfind', 'parse', 'write', 'write_c14n']\n",
      "<Element 'collection' at 0x000001954BF77180>\n",
      "<class 'xml.etree.ElementTree.Element'>\n"
     ]
    }
   ],
   "source": [
    "import xml.etree.ElementTree as ET\n",
    "# print(\"import pass\")\n",
    "tree = ET.parse('movies.xml')\n",
    "print (tree)\n",
    "print(dir(tree))\n",
    "root = tree.getroot()\n",
    "print(root)\n",
    "print(type(root))"
   ]
  },
  {
   "cell_type": "markdown",
   "metadata": {},
   "source": [
    "Every part of a tree (root included) has a tag that describes the element. In addition, as you have seen in the introduction, elements might have attributes, which are additional descriptors, used especially for repeated tag usage. Attributes also help to validate values entered for that tag, once again contributing to the structured format of an XML."
   ]
  },
  {
   "cell_type": "code",
   "execution_count": null,
   "metadata": {},
   "outputs": [],
   "source": [
    "print (dir(root))"
   ]
  },
  {
   "cell_type": "code",
   "execution_count": 8,
   "metadata": {},
   "outputs": [
    {
     "name": "stdout",
     "output_type": "stream",
     "text": [
      "collection\n",
      "{'category': 'movie'}\n"
     ]
    }
   ],
   "source": [
    "print(root.tag)\n",
    "print(root.attrib)"
   ]
  },
  {
   "cell_type": "markdown",
   "metadata": {},
   "source": [
    "At the top level, you see that this XML is rooted in the collection tag.\n"
   ]
  },
  {
   "cell_type": "code",
   "execution_count": 9,
   "metadata": {},
   "outputs": [
    {
     "data": {
      "text/plain": [
       "{'category': 'movie'}"
      ]
     },
     "execution_count": 9,
     "metadata": {},
     "output_type": "execute_result"
    }
   ],
   "source": [
    "root.attrib"
   ]
  },
  {
   "cell_type": "markdown",
   "metadata": {},
   "source": [
    "So the root has no attributes.\n"
   ]
  },
  {
   "cell_type": "markdown",
   "metadata": {},
   "source": [
    "#### For Loops\n",
    "You can easily iterate over subelements (commonly called \"children\") in the root by using a simple \"for\" loop."
   ]
  },
  {
   "cell_type": "code",
   "execution_count": 10,
   "metadata": {},
   "outputs": [
    {
     "name": "stdout",
     "output_type": "stream",
     "text": [
      "genre {'category': 'Action'}\n",
      "genre {'category': 'Thriller'}\n"
     ]
    }
   ],
   "source": [
    "for child in root:\n",
    "    print(child.tag, child.attrib)"
   ]
  },
  {
   "cell_type": "markdown",
   "metadata": {},
   "source": [
    "Now you know that the children of the root collection are all genre. To designate the genre, the XML uses the attribute category. There are Action, Thriller, and Comedy movies according the genre element.\n",
    "\n",
    "Typically it is helpful to know all the elements in the entire tree. One useful function for doing that is root.iter(). You can put this function into a \"for\" loop and it will iterate over the entire tree."
   ]
  },
  {
   "cell_type": "code",
   "execution_count": 11,
   "metadata": {},
   "outputs": [
    {
     "name": "stdout",
     "output_type": "stream",
     "text": [
      "decade {'years': '1980s'}\n",
      "decade {'years': '1990s'}\n",
      "decade {'years': '2000s'}\n",
      "decade {'years': '1970s'}\n",
      "decade {'years': '1980s'}\n"
     ]
    }
   ],
   "source": [
    "for child in root:\n",
    "    for elem in child:\n",
    "        print(elem.tag, elem.attrib)"
   ]
  },
  {
   "cell_type": "code",
   "execution_count": null,
   "metadata": {},
   "outputs": [],
   "source": [
    "for child in root:\n",
    "    for elem in child:\n",
    "        for elem1 in elem:\n",
    "            print(elem1.tag, elem1.attrib)"
   ]
  },
  {
   "cell_type": "code",
   "execution_count": null,
   "metadata": {},
   "outputs": [],
   "source": [
    "print(help(root.iter))\n",
    "[elem.tag for elem in root.iter()]"
   ]
  },
  {
   "cell_type": "code",
   "execution_count": null,
   "metadata": {},
   "outputs": [],
   "source": [
    "help(ET.tostring)"
   ]
  },
  {
   "cell_type": "code",
   "execution_count": null,
   "metadata": {},
   "outputs": [],
   "source": [
    "print(ET.tostring(root, encoding='utf8').decode('utf8'))\n",
    "# print(ET.tostring(root))"
   ]
  },
  {
   "cell_type": "markdown",
   "metadata": {},
   "source": [
    "You can expand the use of the iter() function to help with finding particular elements of interest. root.iter() will list all subelements under the root that match the element specified. Here, you will list all attributes of the movie element in the tree:"
   ]
  },
  {
   "cell_type": "code",
   "execution_count": null,
   "metadata": {},
   "outputs": [],
   "source": [
    "# print (root.iter)\n",
    "for movie in root.iter('movie'):\n",
    "    print(movie.attrib)"
   ]
  },
  {
   "cell_type": "markdown",
   "metadata": {},
   "source": [
    "### XPath Expressions\n",
    "Many times elements will not have attributes, they will only have text content. Using the attribute .text, you can print out this content.\n",
    "\n",
    "Now, print out all the descriptions of the movies."
   ]
  },
  {
   "cell_type": "code",
   "execution_count": null,
   "metadata": {},
   "outputs": [],
   "source": [
    "for description in root.iter('description'):\n",
    "    print(description.text)"
   ]
  },
  {
   "cell_type": "code",
   "execution_count": null,
   "metadata": {},
   "outputs": [],
   "source": [
    "for movie in root.findall(\"./genre/decade/movie/[year='1992']\"):\n",
    "    print(movie.attrib)"
   ]
  },
  {
   "cell_type": "markdown",
   "metadata": {},
   "source": [
    "The function .findall() always begins at the element specified. This type of function is extremely powerful for a \"find and replace\". You can even search on attributes!"
   ]
  },
  {
   "cell_type": "code",
   "execution_count": null,
   "metadata": {},
   "outputs": [],
   "source": [
    "for movie in root.findall(\"./genre/decade/movie/format/[@multiple='Yes']\"):\n",
    "    print(movie.attrib)"
   ]
  },
  {
   "cell_type": "markdown",
   "metadata": {},
   "source": [
    "### Modifying an XML"
   ]
  },
  {
   "cell_type": "markdown",
   "metadata": {},
   "source": [
    "Assume that Back to the future is written as Back 2 the future so we have to change it"
   ]
  },
  {
   "cell_type": "code",
   "execution_count": null,
   "metadata": {},
   "outputs": [],
   "source": [
    "for movie in root.iter('movie'):\n",
    "    print(movie.attrib)"
   ]
  },
  {
   "cell_type": "code",
   "execution_count": null,
   "metadata": {},
   "outputs": [],
   "source": [
    "b2tf = root.find(\"./genre/decade/movie[@title='Back 2 the Future']\")\n",
    "print(b2tf)"
   ]
  },
  {
   "cell_type": "markdown",
   "metadata": {},
   "source": [
    "Modify the title attribute of the Back 2 the Future element variable to read \"Back to the Future\". Then, print out the attributes of your variable to see your change. You can easily do this by accessing the attribute of an element and then assigning a new value to it:"
   ]
  },
  {
   "cell_type": "code",
   "execution_count": null,
   "metadata": {},
   "outputs": [],
   "source": [
    "b2tf.attrib[\"title\"] = \"Back to the Future\"\n",
    "print(b2tf.attrib)"
   ]
  },
  {
   "cell_type": "markdown",
   "metadata": {},
   "source": [
    "Write out your changes back to the XML so they are permanently fixed in the document. Print out your movie attributes again to make sure your changes worked. Use the .write() method to do this"
   ]
  },
  {
   "cell_type": "code",
   "execution_count": null,
   "metadata": {},
   "outputs": [],
   "source": [
    "# tree.write(\"movies.xml\")\n",
    "\n",
    "tree = ET.parse('movies.xml')\n",
    "root = tree.getroot()\n",
    "\n",
    "for movie in root.iter('movie'):\n",
    "    print(movie.attrib)"
   ]
  },
  {
   "cell_type": "markdown",
   "metadata": {},
   "source": [
    "The multiple attribute is incorrect in some places. Use ElementTree to fix the designator based on how many formats the movie comes in. First, print the format attribute and text to see which parts need to be fixed."
   ]
  },
  {
   "cell_type": "code",
   "execution_count": null,
   "metadata": {},
   "outputs": [],
   "source": [
    "import re\n",
    "\n",
    "for form in root.findall(\"./genre/decade/movie/format\"):\n",
    "    # Search for the commas in the format text\n",
    "    match = re.search(',',form.text)\n",
    "    if match:\n",
    "        form.set('multiple','Yes')\n",
    "    else:\n",
    "        form.set('multiple','No')\n",
    "\n",
    "# Write out the tree to the file again\n",
    "tree.write(\"movies.xml\")\n",
    "\n",
    "tree = ET.parse('movies.xml')\n",
    "root = tree.getroot()\n",
    "\n",
    "for form in root.findall(\"./genre/decade/movie/format\"):\n",
    "    print(form.attrib, form.text)"
   ]
  },
  {
   "cell_type": "markdown",
   "metadata": {},
   "source": [
    "You can use regex to find commas - that will tell whether the multiple attribute should be \"Yes\" or \"No\". Adding and modifying attributes can be done easily with the .set() method."
   ]
  },
  {
   "cell_type": "markdown",
   "metadata": {},
   "source": [
    "### Moving Elements\n",
    "Some of the data has been placed in the wrong decade. Use what you have learned about XML and ElementTree to find and fix the decade data errors.\n",
    "\n",
    "It will be useful to print out both the decade tags and the year tags throughout the document."
   ]
  },
  {
   "cell_type": "code",
   "execution_count": null,
   "metadata": {},
   "outputs": [],
   "source": [
    "for decade in root.findall(\"./genre/decade\"):\n",
    "    print(decade.attrib)\n",
    "    for year in decade.findall(\"./movie/year\"):\n",
    "        print(year.text, '\\n')"
   ]
  },
  {
   "cell_type": "code",
   "execution_count": null,
   "metadata": {},
   "outputs": [],
   "source": [
    "The two years that are in the wrong decade are the movies from the 2000s. Figure out what those movies are, using an XPath expression."
   ]
  },
  {
   "cell_type": "code",
   "execution_count": null,
   "metadata": {},
   "outputs": [],
   "source": [
    "for movie in root.findall(\"./genre/decade/movie/[year='2000']\"):\n",
    "    print(movie.attrib)"
   ]
  },
  {
   "cell_type": "markdown",
   "metadata": {},
   "source": [
    "You have to add a new decade tag, the 2000s, to the Action genre in order to move the X-Men data. The .SubElement() method can be used to add this tag to the end of the XML."
   ]
  },
  {
   "cell_type": "code",
   "execution_count": null,
   "metadata": {},
   "outputs": [],
   "source": [
    "action = root.find(\"./genre[@category='Action']\")\n",
    "new_dec = ET.SubElement(action, 'decade')\n",
    "new_dec.attrib[\"years\"] = '2000s'\n",
    "\n",
    "print(ET.tostring(action, encoding='utf8').decode('utf8'))"
   ]
  },
  {
   "cell_type": "markdown",
   "metadata": {},
   "source": [
    "Now append the X-Men movie to the 2000s and remove it from the 1990s, using .append() and .remove(), respectively."
   ]
  },
  {
   "cell_type": "code",
   "execution_count": null,
   "metadata": {},
   "outputs": [],
   "source": [
    "xmen = root.find(\"./genre/decade/movie[@title='X-Men']\")\n",
    "dec2000s = root.find(\"./genre[@category='Action']/decade[@years='2000s']\")\n",
    "dec2000s.append(xmen)\n",
    "dec1990s = root.find(\"./genre[@category='Action']/decade[@years='1990s']\")\n",
    "dec1990s.remove(xmen)\n",
    "\n",
    "print(ET.tostring(action, encoding='utf8').decode('utf8'))"
   ]
  },
  {
   "cell_type": "markdown",
   "metadata": {},
   "source": [
    "Nice, so you were able to essentially move an entire movie to a new decade. Save your changes back to the XML."
   ]
  },
  {
   "cell_type": "code",
   "execution_count": null,
   "metadata": {},
   "outputs": [],
   "source": [
    "\n",
    "tree.write(\"movies.xml\")\n",
    "\n",
    "tree = ET.parse('movies.xml')\n",
    "root = tree.getroot()\n",
    "\n",
    "print(ET.tostring(root, encoding='utf8').decode('utf8'))"
   ]
  },
  {
   "cell_type": "markdown",
   "metadata": {},
   "source": [
    "### Another Example"
   ]
  },
  {
   "cell_type": "code",
   "execution_count": null,
   "metadata": {},
   "outputs": [],
   "source": [
    "<?xml version=\"1.0\"?>\n",
    "<data>\n",
    "    <country name=\"Liechtenstein\">\n",
    "        <rank>1</rank>\n",
    "        <year>2008</year>\n",
    "        <gdppc>141100</gdppc>\n",
    "        <neighbor name=\"Austria\" direction=\"E\"/>\n",
    "        <neighbor name=\"Switzerland\" direction=\"W\"/>\n",
    "    </country>\n",
    "    <country name=\"Singapore\">\n",
    "        <rank>4</rank>\n",
    "        <year>2011</year>\n",
    "        <gdppc>59900</gdppc>\n",
    "        <neighbor name=\"Malaysia\" direction=\"N\"/>\n",
    "    </country>\n",
    "    <country name=\"Panama\">\n",
    "        <rank>68</rank>\n",
    "        <year>2011</year>\n",
    "        <gdppc>13600</gdppc>\n",
    "        <neighbor name=\"Costa Rica\" direction=\"W\"/>\n",
    "        <neighbor name=\"Colombia\" direction=\"E\"/>\n",
    "    </country>\n",
    "</data>"
   ]
  },
  {
   "cell_type": "code",
   "execution_count": null,
   "metadata": {},
   "outputs": [],
   "source": [
    "import xml.etree.ElementTree as ET\n",
    "tree = ET.parse('country_data.xml')\n",
    "root = tree.getroot()"
   ]
  },
  {
   "cell_type": "code",
   "execution_count": null,
   "metadata": {},
   "outputs": [],
   "source": [
    "root.tag"
   ]
  },
  {
   "cell_type": "code",
   "execution_count": null,
   "metadata": {},
   "outputs": [],
   "source": [
    "root.attrib"
   ]
  },
  {
   "cell_type": "code",
   "execution_count": null,
   "metadata": {},
   "outputs": [],
   "source": [
    "for child in root:\n",
    "    print(child.tag,child.attrib)"
   ]
  },
  {
   "cell_type": "code",
   "execution_count": null,
   "metadata": {},
   "outputs": [],
   "source": [
    "print(root[0][0])\n",
    "print(root[0][1].text)"
   ]
  },
  {
   "cell_type": "code",
   "execution_count": null,
   "metadata": {},
   "outputs": [],
   "source": [
    "for neighbor in root.iter('neighbor'):\n",
    "    print(neighbor.attrib)"
   ]
  },
  {
   "cell_type": "markdown",
   "metadata": {},
   "source": [
    "Element.findall() finds only elements with a tag which are direct children of the current element. Element.find() finds the first child with a particular tag, and Element.text accesses the element’s text content. Element.get() accesses the element’s attributes:"
   ]
  },
  {
   "cell_type": "code",
   "execution_count": null,
   "metadata": {},
   "outputs": [],
   "source": [
    "for country in root.findall('country'):\n",
    "    rank = country.find('rank').text\n",
    "    name = country.get('name')\n",
    "    print(name, rank)"
   ]
  },
  {
   "cell_type": "markdown",
   "metadata": {},
   "source": [
    "### Modifying an XML File\n",
    "ElementTree provides a simple way to build XML documents and write them to files. The ElementTree.write() method serves this purpose.\n",
    "\n",
    "Once created, an Element object may be manipulated by directly changing its fields (such as Element.text), adding and modifying attributes (Element.set() method), as well as adding new children (for example with Element.append()).\n",
    "\n",
    "Let’s say we want to add one to each country’s rank, and add an updated attribute to the rank element:"
   ]
  },
  {
   "cell_type": "code",
   "execution_count": null,
   "metadata": {},
   "outputs": [],
   "source": [
    "for rank in root.iter('rank'):\n",
    "    new_rank = int(rank.text) + 1\n",
    "    rank.text = str(new_rank)\n",
    "    rank.set('updated', 'yes')\n",
    "tree.write('output.xml')"
   ]
  },
  {
   "cell_type": "code",
   "execution_count": null,
   "metadata": {},
   "outputs": [],
   "source": [
    "tree = ET.parse('output.xml')\n",
    "root = tree.getroot()\n",
    "print(ET.tostring(root, encoding='utf8').decode('utf8'))"
   ]
  },
  {
   "cell_type": "code",
   "execution_count": null,
   "metadata": {},
   "outputs": [],
   "source": [
    "We can remove elements using Element.remove(). Let’s say we want to remove all countries with a rank higher than 50:"
   ]
  },
  {
   "cell_type": "code",
   "execution_count": null,
   "metadata": {},
   "outputs": [],
   "source": [
    "for country in root.findall('country'):\n",
    "    rank = int(country.find('rank').text)\n",
    "    if rank > 50:\n",
    "        root.remove(country)\n",
    "tree.write('output.xml')"
   ]
  },
  {
   "cell_type": "code",
   "execution_count": null,
   "metadata": {},
   "outputs": [],
   "source": [
    "tree = ET.parse('output.xml')\n",
    "root = tree.getroot()\n",
    "print(ET.tostring(root, encoding='utf8').decode('utf8'))"
   ]
  },
  {
   "cell_type": "markdown",
   "metadata": {},
   "source": [
    " ### Building XML documents"
   ]
  },
  {
   "cell_type": "code",
   "execution_count": null,
   "metadata": {},
   "outputs": [],
   "source": [
    "a = ET.Element('a')\n",
    "b = ET.SubElement(a, 'b')\n",
    "c = ET.SubElement(a, 'c')\n",
    "d = ET.SubElement(c, 'd')\n",
    "ET.dump(a)"
   ]
  },
  {
   "cell_type": "code",
   "execution_count": null,
   "metadata": {},
   "outputs": [],
   "source": []
  }
 ],
 "metadata": {
  "kernelspec": {
   "display_name": "Python 3",
   "language": "python",
   "name": "python3"
  },
  "language_info": {
   "codemirror_mode": {
    "name": "ipython",
    "version": 3
   },
   "file_extension": ".py",
   "mimetype": "text/x-python",
   "name": "python",
   "nbconvert_exporter": "python",
   "pygments_lexer": "ipython3",
   "version": "3.8.3"
  }
 },
 "nbformat": 4,
 "nbformat_minor": 2
}
