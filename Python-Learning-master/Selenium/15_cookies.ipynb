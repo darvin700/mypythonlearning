{
 "cells": [
  {
   "cell_type": "markdown",
   "metadata": {},
   "source": [
    "Cookie is a piece of information from website and saved by your web browser\n",
    "Cookies are a way of remembering users and their interaction with the site by storing information in the cookie file as key value pairs.\n",
    "It stores the login information like user name / email and password\n",
    "HTTP cookie is also known as a web cookie, a browser cookie or Internet cookie.\n",
    "One website cannot access the cookies set by other websites"
   ]
  },
  {
   "cell_type": "code",
   "execution_count": 1,
   "metadata": {},
   "outputs": [
    {
     "name": "stdout",
     "output_type": "stream",
     "text": [
      "[{'domain': '.jqueryui.com', 'expiry': 1601006533, 'httpOnly': False, 'name': '__utmz', 'path': '/', 'secure': False, 'value': '77982607.1585238534.1.1.utmcsr=(direct)|utmccn=(direct)|utmcmd=(none)'}, {'domain': '.jqueryui.com', 'expiry': 1585240333, 'httpOnly': False, 'name': '__utmb', 'path': '/', 'secure': False, 'value': '77982607.1.10.1585238534'}, {'domain': '.jqueryui.com', 'expiry': 1585239133, 'httpOnly': False, 'name': '__utmt', 'path': '/', 'secure': False, 'value': '1'}, {'domain': '.jqueryui.com', 'expiry': 1648310533, 'httpOnly': False, 'name': '__utma', 'path': '/', 'secure': False, 'value': '77982607.1934448857.1585238534.1585238534.1585238534.1'}, {'domain': '.jqueryui.com', 'httpOnly': False, 'name': '__utmc', 'path': '/', 'secure': False, 'value': '77982607'}, {'domain': '.jqueryui.com', 'expiry': 1587830529.329784, 'httpOnly': True, 'name': '__cfduid', 'path': '/', 'secure': False, 'value': 'd11de97508d0e9a3cd2efb7bc97824afd1585238529'}]\n"
     ]
    }
   ],
   "source": [
    "from selenium import webdriver\n",
    "from time import sleep\n",
    "driver = webdriver.Chrome()\n",
    "driver.maximize_window()\n",
    "driver.get(\"https://jqueryui.com/autocomplete\")\n",
    "print(driver.get_cookies())\n",
    "driver.quit()"
   ]
  },
  {
   "cell_type": "code",
   "execution_count": null,
   "metadata": {},
   "outputs": [],
   "source": []
  }
 ],
 "metadata": {
  "kernelspec": {
   "display_name": "Python 3",
   "language": "python",
   "name": "python3"
  },
  "language_info": {
   "codemirror_mode": {
    "name": "ipython",
    "version": 3
   },
   "file_extension": ".py",
   "mimetype": "text/x-python",
   "name": "python",
   "nbconvert_exporter": "python",
   "pygments_lexer": "ipython3",
   "version": "3.7.3"
  }
 },
 "nbformat": 4,
 "nbformat_minor": 2
}
