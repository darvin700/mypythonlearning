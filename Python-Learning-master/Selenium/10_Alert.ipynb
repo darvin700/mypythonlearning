{
 "cells": [
  {
   "cell_type": "code",
   "execution_count": 1,
   "metadata": {},
   "outputs": [
    {
     "name": "stderr",
     "output_type": "stream",
     "text": [
      "C:\\Users\\assharma\\AppData\\Local\\Continuum\\anaconda3\\lib\\site-packages\\ipykernel_launcher.py:22: DeprecationWarning: use driver.switch_to.alert instead\n"
     ]
    },
    {
     "name": "stdout",
     "output_type": "stream",
     "text": [
      "['__class__', '__delattr__', '__dict__', '__dir__', '__doc__', '__eq__', '__format__', '__ge__', '__getattribute__', '__gt__', '__hash__', '__init__', '__init_subclass__', '__le__', '__lt__', '__module__', '__ne__', '__new__', '__reduce__', '__reduce_ex__', '__repr__', '__setattr__', '__sizeof__', '__str__', '__subclasshook__', '__weakref__', 'accept', 'dismiss', 'driver', 'send_keys', 'text']\n",
      "Please select start place.\n"
     ]
    }
   ],
   "source": [
    "from selenium import webdriver\n",
    "from time import sleep\n",
    "from selenium.webdriver.common.keys import Keys\n",
    "from selenium.webdriver.support.ui import WebDriverWait\n",
    "from selenium.webdriver.support.ui import Select\n",
    "\n",
    "# driver = webdriver.Ie()\n",
    "driver = webdriver.Chrome()\n",
    "\n",
    "driver.maximize_window()\n",
    "driver.get(\"http://www.ksrtc.in/oprs-web/\")\n",
    "# driver.get(\"https://google.com\")\n",
    "# element=driver.find_element_by_name(\"searchBtn\")\n",
    "element=driver.find_element_by_xpath(\"//*[@id='bookingsForm']/div/div/div[2]/div[3]/button\")\n",
    "# //*[@id=\"bookingsForm\"]/div/div/div[2]/div[3]/button\n",
    "# print(element.location)\n",
    "# class=\"btn btn-primary btn-lg btn-block btn-booking\"\n",
    "sleep(5)\n",
    "# print(dir(element))\n",
    "element.click()\n",
    "sleep(5)\n",
    "alert=driver.switch_to_alert()\n",
    "print(dir(alert))\n",
    "print (alert.text)\n",
    "alert.accept()\n",
    "sleep(10)\n",
    "driver.quit()\n"
   ]
  },
  {
   "cell_type": "code",
   "execution_count": null,
   "metadata": {},
   "outputs": [],
   "source": []
  }
 ],
 "metadata": {
  "kernelspec": {
   "display_name": "Python 3",
   "language": "python",
   "name": "python3"
  },
  "language_info": {
   "codemirror_mode": {
    "name": "ipython",
    "version": 3
   },
   "file_extension": ".py",
   "mimetype": "text/x-python",
   "name": "python",
   "nbconvert_exporter": "python",
   "pygments_lexer": "ipython3",
   "version": "3.7.3"
  }
 },
 "nbformat": 4,
 "nbformat_minor": 2
}
