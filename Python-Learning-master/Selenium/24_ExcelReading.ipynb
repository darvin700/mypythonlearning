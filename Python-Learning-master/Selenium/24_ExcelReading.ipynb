{
 "cells": [
  {
   "cell_type": "code",
   "execution_count": 1,
   "metadata": {},
   "outputs": [
    {
     "name": "stdout",
     "output_type": "stream",
     "text": [
      "['Sheet1', 'Sheet2', 'Sheet3']\n",
      "['selenium', 'appium', 'jmeter']\n",
      "The keyword [selenium] is searched\n",
      "['python', 'java', 'javascript']\n",
      "The keyword [python] is searched\n"
     ]
    }
   ],
   "source": [
    "import xlrd\n",
    "wb=xlrd.open_workbook('sample _more.xlsx')\n",
    "sheetname = wb.sheet_names() \n",
    "        #Read for XLSX Sheet names\n",
    "print (sheetname)\n",
    "sh1 = wb.sheet_by_index(0) \n",
    "# print (dir(sh1))\n",
    "i=0\n",
    "while (i<2):\n",
    "    rownum=(i)\n",
    "    rows = sh1.row_values(rownum)\n",
    "    print(rows)\n",
    "    print (\"The keyword [\" + rows[0] + \"] is searched\")\n",
    "    i=i+1"
   ]
  },
  {
   "cell_type": "code",
   "execution_count": 2,
   "metadata": {},
   "outputs": [
    {
     "name": "stdout",
     "output_type": "stream",
     "text": [
      "['selenium', 'python']\n",
      "The keyword [selenium] is searched\n",
      "found\n",
      "['appium', 'java']\n",
      "The keyword [appium] is searched\n",
      "found\n",
      "['jmeter', 'javascript']\n",
      "The keyword [jmeter] is searched\n",
      "found\n"
     ]
    }
   ],
   "source": [
    "import xlrd\n",
    "wb=xlrd.open_workbook('sample _more.xlsx')\n",
    "sheetname = wb.sheet_names() \n",
    "        #Read for XLSX Sheet names\n",
    "sh1 = wb.sheet_by_index(0) \n",
    "# print (dir(sh1))\n",
    "i=0\n",
    "while (i<3):\n",
    "    rownum=(i)\n",
    "    cols = sh1.col_values(rownum)\n",
    "    print(cols)\n",
    "    print (\"The keyword [\" + cols[0] + \"] is searched\")\n",
    "#     if (cols[0]=='python'):\n",
    "    print(\"found\")\n",
    "#         break\n",
    "    i=i+1"
   ]
  },
  {
   "cell_type": "code",
   "execution_count": 3,
   "metadata": {},
   "outputs": [
    {
     "name": "stderr",
     "output_type": "stream",
     "text": [
      "C:\\Users\\assharma\\AppData\\Local\\Continuum\\anaconda3\\lib\\site-packages\\defusedxml\\ElementTree.py:68: DeprecationWarning: The html argument of XMLParser() is deprecated\n",
      "  _XMLParser.__init__(self, html, target, encoding)\n",
      "C:\\Users\\assharma\\AppData\\Local\\Continuum\\anaconda3\\lib\\site-packages\\xlrd\\xlsx.py:266: PendingDeprecationWarning: This method will be removed in future versions.  Use 'tree.iter()' or 'list(tree.iter())' instead.\n",
      "  for elem in self.tree.iter() if Element_has_iter else self.tree.getiterator():\n",
      "C:\\Users\\assharma\\AppData\\Local\\Continuum\\anaconda3\\lib\\site-packages\\xlrd\\xlsx.py:312: PendingDeprecationWarning: This method will be removed in future versions.  Use 'tree.iter()' or 'list(tree.iter())' instead.\n",
      "  for elem in self.tree.iter() if Element_has_iter else self.tree.getiterator():\n"
     ]
    },
    {
     "name": "stdout",
     "output_type": "stream",
     "text": [
      "['Sheet1', 'Sheet2', 'Sheet3']\n",
      "['seleniumworks.com']\n",
      "The keyword [seleniumworks.com] is searched\n",
      "['python']\n",
      "The keyword [python] is searched\n"
     ]
    },
    {
     "name": "stderr",
     "output_type": "stream",
     "text": [
      ".\n",
      "----------------------------------------------------------------------\n",
      "Ran 1 test in 33.415s\n",
      "\n",
      "OK\n"
     ]
    }
   ],
   "source": [
    "from selenium import webdriver\n",
    "import unittest, time\n",
    "import xlrd\n",
    "from selenium import webdriver\n",
    "from time import sleep\n",
    "from selenium.webdriver.common.keys import Keys\n",
    "from selenium.webdriver.support.ui import WebDriverWait\n",
    "from selenium.webdriver.support.ui import Select\n",
    "from selenium.webdriver.support import expected_conditions as EC\n",
    "class moduleName(unittest.TestCase):\n",
    "    def setUp(self):\n",
    "        self.driver = webdriver.Chrome()\n",
    "        self.driver.implicitly_wait(30)\n",
    "        self.base_url = \"https://www.google.co.in/\"\n",
    "        self.verificationErrors = []\n",
    "        self.accept_next_alert = True\n",
    "        \n",
    "    def test_Login(self):\n",
    "        driver=self.driver\n",
    "        # driver.get(self.base_url +\"/\")\n",
    "        driver.get(self.base_url)\n",
    "        driver.maximize_window()\n",
    "        wb=xlrd.open_workbook('sample.xlsx')\n",
    "        sheetname = wb.sheet_names() \n",
    "        #Read for XLSX Sheet names\n",
    "        print (sheetname)\n",
    "        sh1 = wb.sheet_by_index(0) \n",
    "                        \n",
    "        i=0\n",
    "        while (i<2):\n",
    "            rownum=(i)\n",
    "            rows = sh1.row_values(rownum)\n",
    "            print(rows)\n",
    "            sleep(3)\n",
    "            elem = driver.find_element_by_name(\"q\")\n",
    "            elem.clear()\n",
    "            elem.send_keys(rows[0])\n",
    "            elem.send_keys(Keys.RETURN)\n",
    "\n",
    "            print (\"The keyword [\" + rows[0] + \"] is searched\")\n",
    "            sleep(5)\n",
    "#             driver.back()\n",
    "            sleep(3)\n",
    "            i=i+1\n",
    "    \n",
    "    def tearDown(self):\n",
    "        self.driver.quit()\n",
    "\n",
    "if __name__ == '__main__':\n",
    "       unittest.main(argv=['first-arg-is-ignored'], exit=False)"
   ]
  },
  {
   "cell_type": "code",
   "execution_count": null,
   "metadata": {},
   "outputs": [],
   "source": []
  },
  {
   "cell_type": "code",
   "execution_count": null,
   "metadata": {},
   "outputs": [],
   "source": []
  }
 ],
 "metadata": {
  "kernelspec": {
   "display_name": "Python 3",
   "language": "python",
   "name": "python3"
  },
  "language_info": {
   "codemirror_mode": {
    "name": "ipython",
    "version": 3
   },
   "file_extension": ".py",
   "mimetype": "text/x-python",
   "name": "python",
   "nbconvert_exporter": "python",
   "pygments_lexer": "ipython3",
   "version": "3.7.3"
  }
 },
 "nbformat": 4,
 "nbformat_minor": 2
}
