{
 "cells": [
  {
   "cell_type": "code",
   "execution_count": 4,
   "metadata": {},
   "outputs": [
    {
     "name": "stderr",
     "output_type": "stream",
     "text": [
      "."
     ]
    },
    {
     "name": "stdout",
     "output_type": "stream",
     "text": [
      "test completed\n"
     ]
    },
    {
     "name": "stderr",
     "output_type": "stream",
     "text": [
      "\n",
      "----------------------------------------------------------------------\n",
      "Ran 1 test in 20.851s\n",
      "\n",
      "OK\n"
     ]
    }
   ],
   "source": [
    "import unittest\n",
    "from selenium import webdriver\n",
    "from selenium.webdriver.common.action_chains import ActionChains\n",
    "import time\n",
    "class Test(unittest.TestCase):\n",
    "    def test_move_to_element(self):\n",
    "        driver = webdriver.Chrome();\n",
    "        driver.implicitly_wait(30)\n",
    "        driver.get(\"file:///C:/My/P/Study/Python_Selenium/files/Practice_handling_Alerts.html\");\n",
    "\n",
    "        # find the element\n",
    "        menu = driver.find_element_by_id(\"sub-menu\")\n",
    "        #Create the object for Action Chains\n",
    "        actions = ActionChains(driver)\n",
    "        actions.move_to_element(menu)\n",
    "        # perform the operation on the element\n",
    "        actions.perform()\n",
    "        time.sleep(10)\n",
    "        driver.quit()\n",
    "        print(\"test completed\")\n",
    "\n",
    "if __name__ == '__main__':\n",
    "       unittest.main(argv=['first-arg-is-ignored'], exit=False)"
   ]
  },
  {
   "cell_type": "code",
   "execution_count": 5,
   "metadata": {},
   "outputs": [
    {
     "name": "stderr",
     "output_type": "stream",
     "text": [
      "E\n",
      "======================================================================\n",
      "ERROR: test_move_to_element (__main__.Test)\n",
      "----------------------------------------------------------------------\n",
      "Traceback (most recent call last):\n",
      "  File \"<ipython-input-5-5bae64aa56fd>\", line 14, in test_move_to_element\n",
      "    source = driver.find_element_by_id(\"drag1\")\n",
      "  File \"C:\\Users\\assharma\\AppData\\Local\\Continuum\\anaconda3\\lib\\site-packages\\selenium\\webdriver\\remote\\webdriver.py\", line 351, in find_element_by_id\n",
      "    return self.find_element(by=By.ID, value=id_)\n",
      "  File \"C:\\Users\\assharma\\AppData\\Local\\Continuum\\anaconda3\\lib\\site-packages\\selenium\\webdriver\\remote\\webdriver.py\", line 955, in find_element\n",
      "    'value': value})['value']\n",
      "  File \"C:\\Users\\assharma\\AppData\\Local\\Continuum\\anaconda3\\lib\\site-packages\\selenium\\webdriver\\remote\\webdriver.py\", line 312, in execute\n",
      "    self.error_handler.check_response(response)\n",
      "  File \"C:\\Users\\assharma\\AppData\\Local\\Continuum\\anaconda3\\lib\\site-packages\\selenium\\webdriver\\remote\\errorhandler.py\", line 242, in check_response\n",
      "    raise exception_class(message, screen, stacktrace)\n",
      "selenium.common.exceptions.NoSuchElementException: Message: no such element: Unable to locate element: {\"method\":\"id\",\"selector\":\"drag1\"}\n",
      "  (Session info: chrome=74.0.3729.169)\n",
      "  (Driver info: chromedriver=2.37.544315 (730aa6a5fdba159ac9f4c1e8cbc59bf1b5ce12b7),platform=Windows NT 10.0.14393 x86_64)\n",
      "\n",
      "\n",
      "----------------------------------------------------------------------\n",
      "Ran 1 test in 50.691s\n",
      "\n",
      "FAILED (errors=1)\n"
     ]
    }
   ],
   "source": [
    "import unittest\n",
    "from selenium import webdriver\n",
    "import time\n",
    "from selenium.webdriver.common.action_chains import ActionChains\n",
    "\n",
    "class Test(unittest.TestCase):\n",
    "    def test_move_to_element(self):\n",
    "        driver = webdriver.Chrome();\n",
    "        driver.implicitly_wait(30)\n",
    "        driver.get(\"https://chercher.tech/practice/practice-pop-ups-selenium-webdriver\");\n",
    "        time.sleep(10)\n",
    "\n",
    "        # perform drag and drop\n",
    "        source = driver.find_element_by_id(\"drag1\")\n",
    "        target = driver.find_element_by_id(\"div2\")\n",
    "        # Create the object for Action Chains\n",
    "        actions = ActionChains(driver)\n",
    "        actions.drag_and_drop(source, target)\n",
    "        # perform the operation on the element\n",
    "        actions.perform()\n",
    "        time.sleep(10)\n",
    "\n",
    "if __name__ == '__main__':\n",
    "       unittest.main(argv=['first-arg-is-ignored'], exit=False)"
   ]
  },
  {
   "cell_type": "code",
   "execution_count": 7,
   "metadata": {},
   "outputs": [
    {
     "name": "stderr",
     "output_type": "stream",
     "text": [
      ".\n",
      "----------------------------------------------------------------------\n",
      "Ran 1 test in 21.804s\n",
      "\n",
      "OK\n"
     ]
    }
   ],
   "source": [
    "import unittest\n",
    "from selenium import webdriver\n",
    "from selenium.webdriver.common.action_chains import ActionChains\n",
    "from time import sleep\n",
    "\n",
    "class Test(unittest.TestCase):\n",
    "    def test_click_element(self):\n",
    "        driver = webdriver.Chrome()\n",
    "        driver.implicitly_wait(30)\n",
    "        driver.get(\"file:///C:/My/P/Study/Python_Selenium/files/Practice_handling_Alerts.html\")\n",
    "        element_to_click = driver.find_element_by_name(\"alert\")\n",
    "        #Create the object for Action Chains\n",
    "        actions = ActionChains(driver)\n",
    "        actions.click(element_to_click)\n",
    "        # perform the operation on the element\n",
    "        actions.perform()\n",
    "        sleep(10)\n",
    "        driver.quit()\n",
    "\n",
    "if __name__ == '__main__':\n",
    "       unittest.main(argv=['first-arg-is-ignored'], exit=False)"
   ]
  },
  {
   "cell_type": "markdown",
   "metadata": {},
   "source": [
    "doubleClick() method simulates the double click of the mouse, we have to pass the element that to be double clicked.\n"
   ]
  },
  {
   "cell_type": "code",
   "execution_count": 8,
   "metadata": {},
   "outputs": [
    {
     "name": "stderr",
     "output_type": "stream",
     "text": [
      ".\n",
      "----------------------------------------------------------------------\n",
      "Ran 1 test in 22.304s\n",
      "\n",
      "OK\n"
     ]
    }
   ],
   "source": [
    "import unittest\n",
    "from selenium import webdriver\n",
    "from selenium.webdriver.common.action_chains import ActionChains\n",
    "from time import sleep\n",
    "\n",
    "class Test(unittest.TestCase):\n",
    "    def test_click_element(self):\n",
    "        driver = webdriver.Chrome()\n",
    "        driver.implicitly_wait(30)\n",
    "        driver.get(\"file:///C:/My/P/Study/Python_Selenium/files/Practice_handling_Alerts.html\")\n",
    "        element_to_double_click = driver.find_element_by_id(\"double-click\")\n",
    "        # Create the object for Action Chains\n",
    "        actions = ActionChains(driver)\n",
    "        actions.double_click(element_to_double_click)\n",
    "        # perform the operation on the element\n",
    "        actions.perform()\n",
    "        sleep(10)\n",
    "        driver.quit()\n",
    "\n",
    "if __name__ == '__main__':\n",
    "       unittest.main(argv=['first-arg-is-ignored'], exit=False)\n",
    "\n"
   ]
  },
  {
   "cell_type": "code",
   "execution_count": 13,
   "metadata": {},
   "outputs": [
    {
     "name": "stderr",
     "output_type": "stream",
     "text": [
      "E\n",
      "======================================================================\n",
      "ERROR: test_click_element (__main__.Test)\n",
      "----------------------------------------------------------------------\n",
      "Traceback (most recent call last):\n",
      "  File \"<ipython-input-13-9bdcb174003e>\", line 18, in test_click_element\n",
      "    search_bar.sendKeys(\"a\")\n",
      "AttributeError: 'WebElement' object has no attribute 'sendKeys'\n",
      "\n",
      "----------------------------------------------------------------------\n",
      "Ran 1 test in 8.087s\n",
      "\n",
      "FAILED (errors=1)\n"
     ]
    }
   ],
   "source": [
    "import unittest\n",
    "from selenium import webdriver\n",
    "from selenium.webdriver.common.action_chains import ActionChains\n",
    "from time import sleep\n",
    "from selenium.webdriver.common.actions.interaction import KEY\n",
    "from selenium.webdriver.common import keys\n",
    "class Test(unittest.TestCase):\n",
    "    def test_click_element(self):\n",
    "        driver = webdriver.Chrome()\n",
    "        driver.implicitly_wait(30)\n",
    "        driver.get(\"https://google.com\");\n",
    "        # perform drag and drop\n",
    "        search_bar = driver.find_element_by_name(\"q\")\n",
    "        #Create the object for Action Chains\n",
    "        actions = ActionChains(driver)\n",
    "        actions.key_down(keys.Keys.SHIFT)\n",
    "#         actions.\n",
    "        search_bar.send_keys(\"a\")\n",
    "        actions.key_up(keys.Keys.SHIFT)\n",
    "        # perform the operation on the element\n",
    "        actions.perform()\n",
    "        sleep(10)\n",
    "        driver.quit()\n",
    "\n",
    "if __name__ == '__main__':\n",
    "       unittest.main(argv=['first-arg-is-ignored'], exit=False)\n",
    "\n"
   ]
  },
  {
   "cell_type": "code",
   "execution_count": null,
   "metadata": {},
   "outputs": [],
   "source": []
  }
 ],
 "metadata": {
  "kernelspec": {
   "display_name": "Python 3",
   "language": "python",
   "name": "python3"
  },
  "language_info": {
   "codemirror_mode": {
    "name": "ipython",
    "version": 3
   },
   "file_extension": ".py",
   "mimetype": "text/x-python",
   "name": "python",
   "nbconvert_exporter": "python",
   "pygments_lexer": "ipython3",
   "version": "3.6.4"
  }
 },
 "nbformat": 4,
 "nbformat_minor": 2
}
