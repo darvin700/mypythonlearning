{
 "cells": [
  {
   "cell_type": "markdown",
   "metadata": {},
   "source": [
    "### Sorting Algorithams"
   ]
  },
  {
   "cell_type": "markdown",
   "metadata": {},
   "source": [
    "#### Bubble Sort"
   ]
  },
  {
   "cell_type": "markdown",
   "metadata": {},
   "source": [
    "This simple sorting algorithm iterates over a list, comparing elements in pairs and swapping them until the larger elements \"bubble up\" to the end of the list, and the smaller elements stay at the \"bottom\"."
   ]
  },
  {
   "cell_type": "code",
   "execution_count": 14,
   "metadata": {},
   "outputs": [
    {
     "name": "stdout",
     "output_type": "stream",
     "text": [
      "0\n",
      "0\n",
      "l[j]  :  222\n",
      "l[j+1]  :  14\n",
      "swapping required\n",
      "1\n",
      "l[j]  :  222\n",
      "l[j+1]  :  6\n",
      "swapping required\n",
      "2\n",
      "l[j]  :  222\n",
      "l[j+1]  :  9\n",
      "swapping required\n",
      "3\n",
      "l[j]  :  222\n",
      "l[j+1]  :  888\n",
      "4\n",
      "l[j]  :  888\n",
      "l[j+1]  :  5\n",
      "swapping required\n",
      "1\n",
      "0\n",
      "l[j]  :  14\n",
      "l[j+1]  :  6\n",
      "swapping required\n",
      "1\n",
      "l[j]  :  14\n",
      "l[j+1]  :  9\n",
      "swapping required\n",
      "2\n",
      "l[j]  :  14\n",
      "l[j+1]  :  222\n",
      "3\n",
      "l[j]  :  222\n",
      "l[j+1]  :  5\n",
      "swapping required\n",
      "4\n",
      "l[j]  :  222\n",
      "l[j+1]  :  888\n",
      "2\n",
      "0\n",
      "l[j]  :  6\n",
      "l[j+1]  :  9\n",
      "1\n",
      "l[j]  :  9\n",
      "l[j+1]  :  14\n",
      "2\n",
      "l[j]  :  14\n",
      "l[j+1]  :  5\n",
      "swapping required\n",
      "3\n",
      "l[j]  :  14\n",
      "l[j+1]  :  222\n",
      "4\n",
      "l[j]  :  222\n",
      "l[j+1]  :  888\n",
      "3\n",
      "0\n",
      "l[j]  :  6\n",
      "l[j+1]  :  9\n",
      "1\n",
      "l[j]  :  9\n",
      "l[j+1]  :  5\n",
      "swapping required\n",
      "2\n",
      "l[j]  :  9\n",
      "l[j+1]  :  14\n",
      "3\n",
      "l[j]  :  14\n",
      "l[j+1]  :  222\n",
      "4\n",
      "l[j]  :  222\n",
      "l[j+1]  :  888\n",
      "4\n",
      "0\n",
      "l[j]  :  6\n",
      "l[j+1]  :  5\n",
      "swapping required\n",
      "1\n",
      "l[j]  :  6\n",
      "l[j+1]  :  9\n",
      "2\n",
      "l[j]  :  9\n",
      "l[j+1]  :  14\n",
      "3\n",
      "l[j]  :  14\n",
      "l[j+1]  :  222\n",
      "4\n",
      "l[j]  :  222\n",
      "l[j+1]  :  888\n",
      "5\n",
      "0\n",
      "l[j]  :  5\n",
      "l[j+1]  :  6\n",
      "1\n",
      "l[j]  :  6\n",
      "l[j+1]  :  9\n",
      "2\n",
      "l[j]  :  9\n",
      "l[j+1]  :  14\n",
      "3\n",
      "l[j]  :  14\n",
      "l[j+1]  :  222\n",
      "4\n",
      "l[j]  :  222\n",
      "l[j+1]  :  888\n",
      "[5, 6, 9, 14, 222, 888]\n"
     ]
    }
   ],
   "source": [
    "# %%timeit\n",
    "l=[222,14,6,9,888,5]\n",
    "for i in range(len(l)):\n",
    "    print (i)\n",
    "    for j in range(len(l)-1):\n",
    "        print (j)\n",
    "        print (\"l[j]  : \" ,l[j]) \n",
    "        print (\"l[j+1]  : \", l[j+1]) \n",
    "\n",
    "        if l[j]>l[j+1]:\n",
    "            print(\"swapping required\")\n",
    "            tmp=l[j]\n",
    "            l[j]=l[j+1]\n",
    "            l[j+1]=tmp\n",
    "print (l)\n",
    "\n",
    "# l=[14,6,9,888,]\n",
    "#  l=[6,14,9,888,]\n",
    "# l=[6,9,14,888,]\n"
   ]
  },
  {
   "cell_type": "markdown",
   "metadata": {},
   "source": [
    "In the worst case scenario (when the list is in reverse order), this algorithm would have to swap every single item of the array. Our swapped flag would be set to True on every iteration.\n",
    "\n",
    "Therefore, if we have n elements in our list, we would have n iterations per item - thus Bubble Sort's time complexity is O(n^2)."
   ]
  },
  {
   "cell_type": "markdown",
   "metadata": {},
   "source": [
    "#### Selection Sort"
   ]
  },
  {
   "cell_type": "markdown",
   "metadata": {},
   "source": [
    "What we do is treat the leftmost part of the list as the sorted segment. We then search the entire list for the smallest element, and swap it with the first element.\n",
    "\n",
    "Now we know that the first element of the list is sorted, we get the smallest element of the remaining items and swap it with the second element. This reiterates until the last item of the list is the remaining element to be examined."
   ]
  },
  {
   "cell_type": "markdown",
   "metadata": {},
   "source": [
    "![Interpreter](Selection-sort-0.png)"
   ]
  },
  {
   "cell_type": "markdown",
   "metadata": {},
   "source": [
    "![Interpreter](selection-short.png)"
   ]
  },
  {
   "cell_type": "code",
   "execution_count": 16,
   "metadata": {},
   "outputs": [
    {
     "name": "stdout",
     "output_type": "stream",
     "text": [
      "0\n",
      "j  1\n",
      "nums[lowest_value_index] :  12\n",
      "j  2\n",
      "nums[lowest_value_index] :  8\n",
      "[3, 8, 12, 20, 11]\n",
      "1\n",
      "[3, 8, 12, 20, 11]\n",
      "2\n",
      "j  4\n",
      "nums[lowest_value_index] :  12\n",
      "[3, 8, 11, 20, 12]\n",
      "3\n",
      "j  4\n",
      "nums[lowest_value_index] :  20\n",
      "[3, 8, 11, 12, 20]\n",
      "4\n",
      "[3, 8, 11, 12, 20]\n",
      "[3, 8, 11, 12, 20]\n"
     ]
    }
   ],
   "source": [
    "# Python program for implementation of Selection Sort \n",
    "def selection_sort(nums):\n",
    "    # This value of i corresponds to how many values were sorted\n",
    "    for i in range(len(nums)):\n",
    "        # We assume that the first item of the unsorted segment is the smallest\n",
    "        lowest_value_index = i\n",
    "        print(lowest_value_index)\n",
    "        # This loop iterates over the unsorted items\n",
    "        for j in range(i + 1, len(nums)):\n",
    "            if nums[j] < nums[lowest_value_index]:\n",
    "                print(\"j \" ,j)\n",
    "                print(\"nums[lowest_value_index] : \",nums[lowest_value_index])\n",
    "                lowest_value_index = j\n",
    "                \n",
    "        # Swap values of the lowest unsorted element with the first unsorted\n",
    "        # element\n",
    "        nums[i], nums[lowest_value_index] = nums[lowest_value_index], nums[i]\n",
    "        print(nums)\n",
    "\n",
    "\n",
    "# Verify it works\n",
    "random_list_of_nums = [12, 8, 3, 20, 11]\n",
    "selection_sort(random_list_of_nums)\n",
    "print(random_list_of_nums)\n",
    "# l=[12,8,3,20,11]\n",
    "# l=[]"
   ]
  },
  {
   "cell_type": "markdown",
   "metadata": {},
   "source": [
    "The inner loop iterate n-1 when i is equal to 1, and then n-2 as i is equal to 2 and so forth.\n",
    "\n",
    "The amount of comparisons are (n - 1) + (n - 2) + ... + 1, which gives Selection Sort a time complexity of O(n^2)."
   ]
  },
  {
   "cell_type": "markdown",
   "metadata": {},
   "source": [
    "### Insertion Sort"
   ]
  },
  {
   "cell_type": "markdown",
   "metadata": {},
   "source": [
    "\n",
    "![Interpreter](Insertionsort.jpg)"
   ]
  },
  {
   "cell_type": "code",
   "execution_count": 6,
   "metadata": {},
   "outputs": [
    {
     "name": "stdout",
     "output_type": "stream",
     "text": [
      "[1, 6, 9, 15, 28]\n"
     ]
    }
   ],
   "source": [
    "def insertion_sort(nums):\n",
    "    # Start on the second element as we assume the first element is sorted\n",
    "    for i in range(1, len(nums)):\n",
    "        item_to_insert = nums[i]\n",
    "        print(item_to_insert)\n",
    "        # And keep a reference of the index of the previous element\n",
    "        j = i - 1\n",
    "        print(\" j before the while loop \",j)\n",
    "        # Move all items of the sorted segment forward if they are larger than\n",
    "        # the item to insert\n",
    "        while j >= 0 and nums[j] > item_to_insert:\n",
    "            nums[j + 1] = nums[j]\n",
    "            print(\"nums[j+1] %d\",nums[j+1])\n",
    "            print(\"nums[j] %d\",nums[j])\n",
    "            j -= 1\n",
    "        # Insert the item\n",
    "        nums[j + 1] = item_to_insert\n",
    "\n",
    "\n",
    "# Verify it works\n",
    "random_list_of_nums = [9, 1, 15, 28, 6]\n",
    "insertion_sort(random_list_of_nums)\n",
    "print(random_list_of_nums)"
   ]
  },
  {
   "cell_type": "markdown",
   "metadata": {},
   "source": [
    "### The Heap Data Structure"
   ]
  },
  {
   "cell_type": "markdown",
   "metadata": {},
   "source": [
    "heapify - This function converts a regular list to a heap. In the resulting heap the smallest element gets pushed to the index position 0. But rest of the data elements are not necessarily sorted.\n",
    "\n",
    "heappush – This function adds an element to the heap without altering the current heap.\n",
    "\n",
    "heappop - This function returns the smallest data element from the heap.\n",
    "\n",
    "heapreplace – This function replaces the smallest data element with a new value supplied in the function."
   ]
  },
  {
   "cell_type": "code",
   "execution_count": 8,
   "metadata": {},
   "outputs": [
    {
     "name": "stdout",
     "output_type": "stream",
     "text": [
      "[1, 3, 5, 78, 21, 45]\n"
     ]
    }
   ],
   "source": [
    "import heapq\n",
    "\n",
    "H = [21,1,45,78,3,5]\n",
    "# Use heapify to rearrange the elements\n",
    "heapq.heapify(H)\n",
    "print(H)"
   ]
  },
  {
   "cell_type": "code",
   "execution_count": 1,
   "metadata": {},
   "outputs": [
    {
     "name": "stdout",
     "output_type": "stream",
     "text": [
      "[1, 3, 5, 78, 21, 45]\n",
      "[3, 21, 5, 78, 45]\n"
     ]
    }
   ],
   "source": [
    "# You can remove the element at first index by using this function. In the below example the function will always remove the element at the index position 1.\n",
    "\n",
    "import heapq\n",
    "\n",
    "H = [21,1,45,78,3,5]\n",
    "# Create the heap\n",
    "\n",
    "heapq.heapify(H)\n",
    "print(H)\n",
    "\n",
    "# Remove element from the heap\n",
    "heapq.heappop(H)\n",
    "\n",
    "print(H)"
   ]
  },
  {
   "cell_type": "code",
   "execution_count": 2,
   "metadata": {},
   "outputs": [
    {
     "name": "stdout",
     "output_type": "stream",
     "text": [
      "[1, 3, 5, 78, 21, 45]\n",
      "[1, 3, 5, 78, 21, 45, 8]\n"
     ]
    }
   ],
   "source": [
    "import heapq\n",
    "H = [21,1,45,78,3,5]\n",
    "# Covert to a heap\n",
    "heapq.heapify(H)\n",
    "print(H)\n",
    "# Add element\n",
    "heapq.heappush(H,8)\n",
    "print(H)"
   ]
  },
  {
   "cell_type": "code",
   "execution_count": null,
   "metadata": {},
   "outputs": [],
   "source": []
  },
  {
   "cell_type": "markdown",
   "metadata": {},
   "source": [
    "he heapreplace function always removes the smallest element of the heap and inserts the new incoming element at some place not fixed by any order."
   ]
  },
  {
   "cell_type": "code",
   "execution_count": null,
   "metadata": {},
   "outputs": [],
   "source": [
    "import heapq\n",
    "\n",
    "H = [21,1,45,78,3,5]\n",
    "# Create the heap\n",
    "\n",
    "heapq.heapify(H)\n",
    "print(H)\n",
    "\n",
    "# Replace an element\n",
    "heapq.heapreplace(H,6)\n",
    "print(H)"
   ]
  },
  {
   "cell_type": "code",
   "execution_count": 7,
   "metadata": {},
   "outputs": [
    {
     "name": "stdout",
     "output_type": "stream",
     "text": [
      "[2, 4, 5, 13, 15, 17, 18, 21, 24, 26]\n"
     ]
    }
   ],
   "source": [
    "from heapq import heappop, heappush\n",
    "\n",
    "def heap_sort(array):\n",
    "    heap = []\n",
    "    for element in array:\n",
    "        heappush(heap, element)\n",
    "\n",
    "    ordered = []\n",
    "\n",
    "    # While we have elements left in the heap\n",
    "    while heap:\n",
    "        ordered.append(heappop(heap))\n",
    "\n",
    "    return ordered\n",
    "\n",
    "array = [13, 21, 15, 5, 26, 4, 17, 18, 24, 2]\n",
    "print(heap_sort(array))"
   ]
  },
  {
   "cell_type": "markdown",
   "metadata": {},
   "source": [
    "The heap_sort function iterates over the array n times. Therefore the overall time complexity of the Heap Sort algorithm is O(nlog(n))."
   ]
  },
  {
   "cell_type": "markdown",
   "metadata": {},
   "source": [
    "### Merge Sort"
   ]
  },
  {
   "cell_type": "code",
   "execution_count": null,
   "metadata": {},
   "outputs": [],
   "source": [
    "def merge(left_list, right_list):\n",
    "    sorted_list = []\n",
    "    left_list_index = right_list_index = 0\n",
    "\n",
    "    # We use the list lengths often, so its handy to make variables\n",
    "    left_list_length, right_list_length = len(left_list), len(right_list)\n",
    "\n",
    "    for _ in range(left_list_length + right_list_length):\n",
    "        if left_list_index < left_list_length and right_list_index < right_list_length:\n",
    "            # We check which value from the start of each list is smaller\n",
    "            # If the item at the beginning of the left list is smaller, add it\n",
    "            # to the sorted list\n",
    "            if left_list[left_list_index] <= right_list[right_list_index]:\n",
    "                sorted_list.append(left_list[left_list_index])\n",
    "                left_list_index += 1\n",
    "            # If the item at the beginning of the right list is smaller, add it\n",
    "            # to the sorted list\n",
    "            else:\n",
    "                sorted_list.append(right_list[right_list_index])\n",
    "                right_list_index += 1\n",
    "\n",
    "        # If we've reached the end of the of the left list, add the elements\n",
    "        # from the right list\n",
    "        elif left_list_index == left_list_length:\n",
    "            sorted_list.append(right_list[right_list_index])\n",
    "            right_list_index += 1\n",
    "        # If we've reached the end of the of the right list, add the elements\n",
    "        # from the left list\n",
    "        elif right_list_index == right_list_length:\n",
    "            sorted_list.append(left_list[left_list_index])\n",
    "            left_list_index += 1\n",
    "\n",
    "    return sorted_list\n",
    "\n",
    "\n",
    "def merge_sort(nums):\n",
    "    # If the list is a single element, return it\n",
    "    if len(nums) <= 1:\n",
    "        return nums\n",
    "\n",
    "    # Use floor division to get midpoint, indices must be integers\n",
    "    mid = len(nums) // 2\n",
    "\n",
    "    # Sort and merge each half\n",
    "    left_list = merge_sort(nums[:mid])\n",
    "    right_list = merge_sort(nums[mid:])\n",
    "\n",
    "    # Merge the sorted lists into a new one\n",
    "    return merge(left_list, right_list)\n",
    "\n",
    "\n",
    "# Verify it works\n",
    "random_list_of_nums = [120, 45, 68, 250, 176]\n",
    "random_list_of_nums = merge_sort(random_list_of_nums)\n",
    "print(random_list_of_nums)"
   ]
  }
 ],
 "metadata": {
  "kernelspec": {
   "display_name": "Python 3",
   "language": "python",
   "name": "python3"
  },
  "language_info": {
   "codemirror_mode": {
    "name": "ipython",
    "version": 3
   },
   "file_extension": ".py",
   "mimetype": "text/x-python",
   "name": "python",
   "nbconvert_exporter": "python",
   "pygments_lexer": "ipython3",
   "version": "3.7.3"
  }
 },
 "nbformat": 4,
 "nbformat_minor": 2
}
