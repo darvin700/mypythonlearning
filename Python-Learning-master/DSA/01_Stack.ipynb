{
 "cells": [
  {
   "cell_type": "markdown",
   "metadata": {},
   "source": [
    "## What is a Stack?\n",
    "A stack (sometimes called a “push-down stack”) is an ordered collection of items where the addition of new items and the removal of existing items always takes place at the same end. This end is commonly referred to as the “top.” The end opposite the top is known as the “base.”\n",
    "\n",
    "The base of the stack is significant since items stored in the stack that are closer to the base represent those that have been in the stack the longest. The most recently added item is the one that is in position to be removed first. This ordering principle is sometimes called LIFO, last-in first-out. It provides an ordering based on length of time in the collection. Newer items are near the top, while older items are near the base."
   ]
  },
  {
   "cell_type": "code",
   "execution_count": 14,
   "metadata": {},
   "outputs": [],
   "source": [
    "class Stack:\n",
    "     def __init__(self):\n",
    "         self.items = []\n",
    "\n",
    "     def isEmpty(self):\n",
    "         return self.items == []\n",
    "\n",
    "     def push(self, item):\n",
    "         self.items.append(item)\n",
    "\n",
    "     def pop(self):\n",
    "         return self.items.pop()\n",
    "\n",
    "     def peek(self):\n",
    "         return self.items[len(self.items)-1]\n",
    "\n",
    "     def size(self):\n",
    "         return len(self.items)\n"
   ]
  },
  {
   "cell_type": "code",
   "execution_count": 15,
   "metadata": {},
   "outputs": [
    {
     "name": "stdout",
     "output_type": "stream",
     "text": [
      "True\n",
      "dog\n",
      "3\n",
      "False\n",
      "8.4\n",
      "True\n",
      "2\n"
     ]
    }
   ],
   "source": [
    "s=Stack()\n",
    "print(s.isEmpty())\n",
    "s.push(4)\n",
    "s.push('dog')\n",
    "print(s.peek())\n",
    "s.push(True)\n",
    "print(s.size())\n",
    "print(s.isEmpty())\n",
    "s.push(8.4)\n",
    "print(s.pop())\n",
    "print(s.pop())\n",
    "print(s.size())\n"
   ]
  },
  {
   "cell_type": "code",
   "execution_count": 16,
   "metadata": {},
   "outputs": [
    {
     "name": "stdout",
     "output_type": "stream",
     "text": [
      "True\n",
      "False\n",
      "False\n"
     ]
    }
   ],
   "source": [
    "def parChecker(symbolString):\n",
    "    s = Stack()\n",
    "    balanced = True\n",
    "    index = 0\n",
    "    while index < len(symbolString) and balanced:\n",
    "        symbol = symbolString[index]\n",
    "        if symbol == \"(\":\n",
    "            s.push(symbol)\n",
    "        else:\n",
    "            if s.isEmpty():\n",
    "                balanced = False\n",
    "            else:\n",
    "                s.pop()\n",
    "\n",
    "        index = index + 1\n",
    "\n",
    "    if balanced and s.isEmpty():\n",
    "        return True\n",
    "    else:\n",
    "        return False\n",
    "\n",
    "print(parChecker('((()))'))\n",
    "print(parChecker('(()'))\n",
    "print(parChecker(' '))"
   ]
  },
  {
   "cell_type": "code",
   "execution_count": null,
   "metadata": {},
   "outputs": [],
   "source": [
    "def parChecker(symbolString):\n",
    "    s = Stack()\n",
    "    balanced = True\n",
    "    index = 0\n",
    "    while index < len(symbolString) and balanced:\n",
    "        symbol = symbolString[index]\n",
    "        if symbol in \"([{\":\n",
    "            s.push(symbol)\n",
    "        else:\n",
    "            if s.isEmpty():\n",
    "                balanced = False\n",
    "            else:\n",
    "                top = s.pop()\n",
    "                if not matches(top,symbol):\n",
    "                       balanced = False\n",
    "        index = index + 1\n",
    "    if balanced and s.isEmpty():\n",
    "        return True\n",
    "    else:\n",
    "        return False\n",
    "\n",
    "def matches(open,close):\n",
    "    opens = \"([{\"\n",
    "    closers = \")]}\"\n",
    "    return opens.index(open) == closers.index(close)\n",
    "\n",
    "\n",
    "print(parChecker('{({([][])}())}'))\n",
    "print(parChecker('[{()]'))\n"
   ]
  },
  {
   "cell_type": "code",
   "execution_count": 5,
   "metadata": {},
   "outputs": [
    {
     "name": "stdout",
     "output_type": "stream",
     "text": [
      "101010\n",
      "21\n"
     ]
    }
   ],
   "source": [
    "def divideBy2(decNumber):\n",
    "    remstack = Stack()\n",
    "\n",
    "    while decNumber > 0:\n",
    "        rem = decNumber % 2\n",
    "        remstack.push(rem)\n",
    "        decNumber = decNumber // 2\n",
    "\n",
    "    binString = \"\"\n",
    "    while not remstack.isEmpty():\n",
    "        binString = binString + str(remstack.pop())\n",
    "\n",
    "    return binString\n",
    "\n",
    "print(divideBy2(42))"
   ]
  },
  {
   "cell_type": "markdown",
   "metadata": {},
   "source": [
    "<img src=\"dectobin.png\">"
   ]
  },
  {
   "cell_type": "code",
   "execution_count": 13,
   "metadata": {},
   "outputs": [
    {
     "name": "stdout",
     "output_type": "stream",
     "text": [
      "11001\n",
      "19\n"
     ]
    }
   ],
   "source": [
    "def baseConverter(decNumber,base):\n",
    "#     digits = \"0123456789ABCDEF\"\n",
    "\n",
    "    remstack = Stack()\n",
    "\n",
    "    while decNumber > 0:\n",
    "        rem = decNumber % base\n",
    "        remstack.push(rem)\n",
    "        decNumber = decNumber // base\n",
    "\n",
    "    newString = \"\"\n",
    "    while not remstack.isEmpty():\n",
    "        newString = newString + str(remstack.pop())\n",
    "\n",
    "    return newString\n",
    "\n",
    "print(baseConverter(25,2))\n",
    "print(baseConverter(25,16))\n"
   ]
  },
  {
   "cell_type": "markdown",
   "metadata": {},
   "source": [
    "## Assignment"
   ]
  },
  {
   "cell_type": "code",
   "execution_count": 3,
   "metadata": {},
   "outputs": [
    {
     "ename": "IndentationError",
     "evalue": "expected an indented block (<ipython-input-3-35a8c3f3bf73>, line 7)",
     "output_type": "error",
     "traceback": [
      "\u001b[1;36m  File \u001b[1;32m\"<ipython-input-3-35a8c3f3bf73>\"\u001b[1;36m, line \u001b[1;32m7\u001b[0m\n\u001b[1;33m    testEqual(revstring('apple'),'elppa')\u001b[0m\n\u001b[1;37m            ^\u001b[0m\n\u001b[1;31mIndentationError\u001b[0m\u001b[1;31m:\u001b[0m expected an indented block\n"
     ]
    }
   ],
   "source": [
    "from test import testEqual\n",
    "from pythonds.basic import Stack\n",
    "\n",
    "def revstring(mystr):\n",
    "    # your code here\n",
    "\n",
    "testEqual(revstring('apple'),'elppa')\n",
    "testEqual(revstring('x'),'x')\n",
    "testEqual(revstring('1234567890'),'0987654321')"
   ]
  },
  {
   "cell_type": "code",
   "execution_count": 4,
   "metadata": {},
   "outputs": [
    {
     "name": "stdout",
     "output_type": "stream",
     "text": [
      "Original String = Includehelp\n",
      "\n",
      "Using Stack\n",
      "Reversed String = plehedulcnI\n",
      "\n",
      "Using sort()\n",
      "Reversed string = plehedulcnI\n"
     ]
    }
   ],
   "source": [
    "import sys\n",
    "\n",
    "def push(element, size, stack):\n",
    "    '''\n",
    "    this function is used to push the elements\n",
    "    in the stack and it will return Error! message\n",
    "    if the stack is full and terminate the program.\n",
    "    '''\n",
    "    global top\n",
    "    if top >= size - 1:\n",
    "        print('Stack Overflow')\n",
    "        sys.exit()\n",
    "    else:\n",
    "        top += 1\n",
    "        stack[top] = element\n",
    "\n",
    "def pop():\n",
    "    '''\n",
    "    this function is used to pop elements from\n",
    "    the stack and it will return Error! message\n",
    "    if the stack is empty and terminate the program.\n",
    "    '''\n",
    "    global top\n",
    "    if top < 0:\n",
    "        print('Stack Underflow')\n",
    "        sys.exit()\n",
    "    else:\n",
    "        element = stack[top]\n",
    "        print('%s' % element, end='')\n",
    "        top -= 1\n",
    "\n",
    "def reverse_by_sort(string):\n",
    "    '''\n",
    "    This function is used to reverse any string\n",
    "    by reversed() method.\n",
    "    '''\n",
    "\n",
    "    string = list(string)\n",
    "    rev_str = ''\n",
    "    \n",
    "    for i in reversed(string):\n",
    "        rev_str += i\n",
    "\n",
    "    return rev_str\n",
    "\n",
    "if __name__=='__main__':\n",
    "\n",
    "    size = 11\n",
    "    stack = [0]*size\n",
    "    string = 'Includehelp'\n",
    "    top = -1\n",
    "\n",
    "    # Pushing value in the stack\n",
    "    push('I', 11, stack)\n",
    "    push('n', 11, stack)\n",
    "    push('c', 11, stack)\n",
    "    push('l', 11, stack)\n",
    "    push('u', 11, stack)\n",
    "    push('d', 11, stack)\n",
    "    push('e', 11, stack)\n",
    "    push('h', 11, stack)\n",
    "    push('e', 11, stack)\n",
    "    push('l', 11, stack)\n",
    "    push('p', 11, stack)\n",
    "\n",
    "    print('Original String = %s' % string)\n",
    "    \n",
    "    print('\\nUsing Stack')\n",
    "\n",
    "    # Popping values from stack and printing them\n",
    "    print('Reversed String = ',end='')\n",
    "    for i in stack:\n",
    "        pop()\n",
    "\n",
    "    print('\\n\\nUsing sort()')\n",
    "    print('Reversed string = %s' % reverse_by_sort(string))\n"
   ]
  },
  {
   "cell_type": "code",
   "execution_count": 5,
   "metadata": {},
   "outputs": [
    {
     "name": "stdout",
     "output_type": "stream",
     "text": [
      "True\n",
      "False\n"
     ]
    }
   ],
   "source": [
    "\n"
   ]
  },
  {
   "cell_type": "markdown",
   "metadata": {},
   "source": [
    "This function, parChecker, assumes that a Stack class is available and returns a boolean result as to whether the string of parentheses is balanced. Note that the boolean variable balanced is initialized to True as there is no reason to assume otherwise at the start. If the current symbol is (, then it is pushed on the stack (lines 9–10). Note also in line 15 that pop simply removes a symbol from the stack. The returned value is not used since we know it must be an opening symbol seen earlier. At the end (lines 19–22), as long as the expression is balanced and the stack has been completely cleaned off, the string represents a correctly balanced sequence of parentheses."
   ]
  },
  {
   "cell_type": "code",
   "execution_count": 6,
   "metadata": {},
   "outputs": [
    {
     "name": "stdout",
     "output_type": "stream",
     "text": [
      "True\n",
      "False\n"
     ]
    }
   ],
   "source": []
  },
  {
   "cell_type": "code",
   "execution_count": null,
   "metadata": {},
   "outputs": [],
   "source": []
  }
 ],
 "metadata": {
  "kernelspec": {
   "display_name": "Python 3",
   "language": "python",
   "name": "python3"
  },
  "language_info": {
   "codemirror_mode": {
    "name": "ipython",
    "version": 3
   },
   "file_extension": ".py",
   "mimetype": "text/x-python",
   "name": "python",
   "nbconvert_exporter": "python",
   "pygments_lexer": "ipython3",
   "version": "3.8.3"
  }
 },
 "nbformat": 4,
 "nbformat_minor": 2
}
