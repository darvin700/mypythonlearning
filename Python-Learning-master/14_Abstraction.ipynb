{
 "cells": [
  {
   "cell_type": "markdown",
   "metadata": {},
   "source": [
    "#### Abstract Classes\n",
    "\n",
    "Abstract classes are classes that contain one or more abstract methods. An abstract method is a method that is declared, but contains no implementation. Abstract classes may not be instantiated, and require subclasses to provide implementations for the abstract methods. Subclasses of an abstract class in Python are not required to implement abstract methods of the parent class.\n",
    "\n",
    "Abstract Class: A class that cannot be instantiated directly and must be subclassed. It may contain abstract methods (methods without implementation).\n",
    "Abstract Method: A method defined in an abstract class that has no implementation in the base class. Subclasses must implement it.\n",
    "\n",
    "## Benefits of Abstraction\n",
    "\n",
    "Here are the key benefits of using abstraction:\n",
    "\n",
    "1. **Simplifies Code**: \n",
    "   - By hiding complex details, abstraction helps in simplifying the code and focusing on the essential features.\n",
    "\n",
    "2. **Improved Maintenance**: \n",
    "   - Changes in the abstract class can be automatically propagated to all derived classes, making it easier to maintain and update the code.\n",
    "\n",
    "3. **Flexibility**: \n",
    "   - Subclasses can provide their specific implementations while still adhering to a common interface defined by the abstract class.\n",
    "\n",
    "4. **Code Reusability**: \n",
    "   - Common functionality can be provided in the abstract class, reducing code duplication across subclasses.\n",
    "\n",
    "Let's look at the following example:"
   ]
  },
  {
   "cell_type": "markdown",
   "metadata": {},
   "source": [
    "Python provides the ABC (Abstract Base Class) module for creating abstract classes.\n",
    "Abstract classes cannot be instantiated, and they can have abstract methods that must be implemented by the concrete subclasses"
   ]
  },
  {
   "cell_type": "code",
   "execution_count": null,
   "metadata": {},
   "outputs": [],
   "source": [
    "from abc import ABC, abstractmethod\n",
    "\n",
    "# Abstract class (Blueprint)\n",
    "class Vehicle(ABC):\n",
    "    \n",
    "    @abstractmethod\n",
    "    def start_engine(self):\n",
    "        pass\n",
    "    \n",
    "    @abstractmethod\n",
    "    def stop_engine(self):\n",
    "        pass\n",
    "\n",
    "# Concrete class (Car)\n",
    "class Car(Vehicle):\n",
    "    \n",
    "    def start_engine(self):\n",
    "        return \"Car engine started\"\n",
    "    \n",
    "    def stop_engine(self):\n",
    "        return \"Car engine stopped\"\n",
    "\n",
    "# Concrete class (Bicycle)\n",
    "class Bicycle(Vehicle):\n",
    "    \n",
    "    def start_engine(self):\n",
    "        return \"Bicycle doesn't have an engine!\"\n",
    "    \n",
    "    def stop_engine(self):\n",
    "        return \"Bicycle doesn't need to stop an engine!\"\n"
   ]
  },
  {
   "cell_type": "code",
   "execution_count": null,
   "metadata": {},
   "outputs": [],
   "source": [
    "cycle=Bicycle()\n",
    "cycle.start_engine()\n"
   ]
  },
  {
   "cell_type": "code",
   "execution_count": 10,
   "metadata": {},
   "outputs": [
    {
     "name": "stdout",
     "output_type": "stream",
     "text": [
      "Area of Circle: 78.5\n",
      "Area of Rectangle: 24\n"
     ]
    }
   ],
   "source": [
    "from abc import ABC, abstractmethod\n",
    "\n",
    "# Abstract class\n",
    "\n",
    "\n",
    "class Shape(ABC):\n",
    "\n",
    "    @abstractmethod\n",
    "    def area(self):\n",
    "        pass\n",
    "\n",
    "# Concrete class (Circle)\n",
    "\n",
    "\n",
    "class Circle(Shape):\n",
    "    def __init__(self, radius):\n",
    "        self.radius = radius\n",
    "\n",
    "    def area(self):\n",
    "        return 3.14 * self.radius * self.radius\n",
    "\n",
    "# Concrete class (Rectangle)\n",
    "\n",
    "\n",
    "class Rectangle(Shape):\n",
    "    def __init__(self, length, width):\n",
    "        self.length = length\n",
    "        self.width = width\n",
    "\n",
    "    def area(self):\n",
    "        return self.length * self.width\n",
    "\n",
    "\n",
    "# Create objects\n",
    "circle = Circle(5)\n",
    "rectangle = Rectangle(4, 6)\n",
    "\n",
    "print(f\"Area of Circle: {circle.area()}\")\n",
    "print(f\"Area of Rectangle: {rectangle.area()}\")"
   ]
  },
  {
   "cell_type": "code",
   "execution_count": 11,
   "metadata": {},
   "outputs": [
    {
     "name": "stdout",
     "output_type": "stream",
     "text": [
      "Sending Email: Hello via Email\n",
      "Sending SMS: Hello via SMS\n"
     ]
    }
   ],
   "source": [
    "from abc import ABC, abstractmethod\n",
    "\n",
    "# Abstract class\n",
    "\n",
    "\n",
    "class Notification(ABC):\n",
    "\n",
    "    @abstractmethod\n",
    "    def send(self, message):\n",
    "        pass\n",
    "\n",
    "# Concrete class (EmailNotification)\n",
    "\n",
    "\n",
    "class EmailNotification(Notification):\n",
    "    def send(self, message):\n",
    "        return f\"Sending Email: {message}\"\n",
    "\n",
    "# Concrete class (SMSNotification)\n",
    "\n",
    "\n",
    "class SMSNotification(Notification):\n",
    "    def send(self, message):\n",
    "        return f\"Sending SMS: {message}\"\n",
    "\n",
    "\n",
    "# Create objects\n",
    "email_notification = EmailNotification()\n",
    "sms_notification = SMSNotification()\n",
    "\n",
    "print(email_notification.send(\"Hello via Email\"))\n",
    "print(sms_notification.send(\"Hello via SMS\"))"
   ]
  },
  {
   "cell_type": "code",
   "execution_count": 12,
   "metadata": {},
   "outputs": [
    {
     "name": "stdout",
     "output_type": "stream",
     "text": [
      "Some implementation!\n",
      "The enrichment from AnotherSubclass\n"
     ]
    }
   ],
   "source": [
    "from abc import ABC, abstractmethod\n",
    " \n",
    "class AbstractClassExample(ABC):\n",
    "    \n",
    "    @abstractmethod\n",
    "    def do_something(self):\n",
    "        print(\"Some implementation!\")\n",
    "        \n",
    "class AnotherSubclass(AbstractClassExample):\n",
    "    def do_something(self):\n",
    "        super().do_something()\n",
    "        print(\"The enrichment from AnotherSubclass\")\n",
    "        \n",
    "x = AnotherSubclass()\n",
    "x.do_something()"
   ]
  },
  {
   "cell_type": "code",
   "execution_count": 13,
   "metadata": {},
   "outputs": [
    {
     "name": "stdout",
     "output_type": "stream",
     "text": [
      "I have 3 sides\n",
      "I have 4 sides\n",
      "I have 5 sides\n",
      "I have 6 sides\n"
     ]
    }
   ],
   "source": [
    "from abc import ABC, abstractmethod \n",
    "  \n",
    "class Polygon(ABC): \n",
    "  \n",
    "    # abstract method\n",
    "    @abstractmethod\n",
    "    def noofsides(self): \n",
    "        pass\n",
    "  \n",
    "class Triangle(Polygon): \n",
    "  \n",
    "    # overriding abstract method \n",
    "    def noofsides(self): \n",
    "        print(\"I have 3 sides\") \n",
    "  \n",
    "class Pentagon(Polygon): \n",
    "  \n",
    "    # overriding abstract method \n",
    "    def noofsides(self): \n",
    "        print(\"I have 5 sides\") \n",
    "  \n",
    "class Hexagon(Polygon): \n",
    "  \n",
    "    # overriding abstract method \n",
    "    def noofsides(self): \n",
    "        print(\"I have 6 sides\") \n",
    "  \n",
    "class Quadrilateral(Polygon): \n",
    "  \n",
    "    # overriding abstract method \n",
    "    def noofsides(self): \n",
    "        print(\"I have 4 sides\") \n",
    "  \n",
    "# Driver code \n",
    "R = Triangle() \n",
    "R.noofsides() \n",
    "  \n",
    "K = Quadrilateral() \n",
    "K.noofsides() \n",
    "  \n",
    "R = Pentagon() \n",
    "R.noofsides() \n",
    "  \n",
    "K = Hexagon() \n",
    "K.noofsides() "
   ]
  },
  {
   "cell_type": "code",
   "execution_count": null,
   "metadata": {},
   "outputs": [],
   "source": [
    "from abc import ABC, abstractmethod \n",
    "class Animal(ABC): \n",
    "  \n",
    "    def move(self): \n",
    "        pass\n",
    "  \n",
    "class Human(Animal): \n",
    "  \n",
    "    def move(self): \n",
    "        print(\"I can walk and run\") \n",
    "  \n",
    "class Snake(Animal): \n",
    "  \n",
    "    def move(self): \n",
    "        print(\"I can crawl\") \n",
    "  \n",
    "class Dog(Animal): \n",
    "  \n",
    "    def move(self): \n",
    "        print(\"I can bark\") \n",
    "  \n",
    "class Lion(Animal): \n",
    "  \n",
    "    def move(self): \n",
    "        print(\"I can roar\") \n",
    "          \n",
    "# Driver code \n",
    "R = Human() \n",
    "R.move() \n",
    "  \n",
    "K = Snake() \n",
    "K.move() \n",
    "  \n",
    "R = Dog() \n",
    "R.move() \n",
    "  \n",
    "K = Lion() \n",
    "K.move() "
   ]
  },
  {
   "cell_type": "code",
   "execution_count": null,
   "metadata": {},
   "outputs": [],
   "source": [
    "from abc import ABC, abstractmethod\n",
    "\n",
    "# Abstract class\n",
    "\n",
    "\n",
    "class Animal(ABC):\n",
    "\n",
    "    @abstractmethod\n",
    "    def sound(self):\n",
    "        pass\n",
    "\n",
    "# Concrete class (Dog)\n",
    "\n",
    "\n",
    "class Dog(Animal):\n",
    "    def sound(self):\n",
    "        return \"Bark\"\n",
    "\n",
    "# Concrete class (Cat)\n",
    "\n",
    "\n",
    "class Cat(Animal):\n",
    "    def sound(self):\n",
    "        return \"Meow\"\n",
    "\n",
    "\n",
    "# Create objects\n",
    "dog = Dog()\n",
    "cat = Cat()\n",
    "\n",
    "print(f\"Dog sound: {dog.sound()}\")\n",
    "print(f\"Cat sound: {cat.sound()}\")"
   ]
  },
  {
   "cell_type": "markdown",
   "metadata": {},
   "source": [
    "A class that is derived from an abstract class cannot\n",
    "be instantiated unless all of its abstract methods are overridden."
   ]
  },
  {
   "cell_type": "code",
   "execution_count": 14,
   "metadata": {},
   "outputs": [
    {
     "name": "stdout",
     "output_type": "stream",
     "text": [
      "Can't instantiate abstract class Circle with abstract method area\n"
     ]
    }
   ],
   "source": [
    "from abc import ABC, abstractmethod\n",
    "\n",
    "# Abstract class\n",
    "\n",
    "\n",
    "class Shape(ABC):\n",
    "\n",
    "    @abstractmethod\n",
    "    def area(self):\n",
    "        pass\n",
    "\n",
    "# Concrete class (Circle)\n",
    "\n",
    "\n",
    "class Circle(Shape):\n",
    "    def __init__(self, radius):\n",
    "        self.radius = radius\n",
    "\n",
    "    # area() method is missing here\n",
    "\n",
    "\n",
    "# Trying to create an object of Circle\n",
    "try:\n",
    "    # This will raise an error because area() is not implemented\n",
    "    circle = Circle(5)\n",
    "except TypeError as e:\n",
    "    # Outputs: Can't instantiate abstract class Circle with abstract methods area\n",
    "    print(e)"
   ]
  },
  {
   "cell_type": "code",
   "execution_count": 15,
   "metadata": {},
   "outputs": [
    {
     "name": "stdout",
     "output_type": "stream",
     "text": [
      "Area of Circle: 78.5\n"
     ]
    }
   ],
   "source": [
    "from abc import ABC, abstractmethod\n",
    "\n",
    "# Abstract class\n",
    "\n",
    "\n",
    "class Shape(ABC):\n",
    "\n",
    "    @abstractmethod\n",
    "    def area(self):\n",
    "        pass\n",
    "\n",
    "# Concrete class (Circle)\n",
    "\n",
    "\n",
    "class Circle(Shape):\n",
    "    def __init__(self, radius):\n",
    "        self.radius = radius\n",
    "\n",
    "    def area(self):\n",
    "        return 3.14 * self.radius * self.radius  # Now we implement the abstract method\n",
    "\n",
    "\n",
    "# Creating an object of Circle now works because area() is implemented\n",
    "circle = Circle(5)\n",
    "print(f\"Area of Circle: {circle.area()}\")"
   ]
  },
  {
   "cell_type": "code",
   "execution_count": 16,
   "metadata": {},
   "outputs": [
    {
     "name": "stdout",
     "output_type": "stream",
     "text": [
      "Full-time Employee Salary: $5000\n",
      "Part-time Employee Salary: $1600\n"
     ]
    }
   ],
   "source": [
    "from abc import ABC, abstractmethod\n",
    "\n",
    "# Abstract class\n",
    "\n",
    "\n",
    "class Employee(ABC):\n",
    "\n",
    "    @abstractmethod\n",
    "    def calculate_salary(self):\n",
    "        pass\n",
    "\n",
    "# Concrete class (FullTimeEmployee)\n",
    "\n",
    "\n",
    "class FullTimeEmployee(Employee):\n",
    "    def __init__(self, salary):\n",
    "        self.salary = salary\n",
    "\n",
    "    def calculate_salary(self):\n",
    "        return self.salary\n",
    "\n",
    "# Concrete class (PartTimeEmployee)\n",
    "\n",
    "\n",
    "class PartTimeEmployee(Employee):\n",
    "    def __init__(self, hourly_rate, hours_worked):\n",
    "        self.hourly_rate = hourly_rate\n",
    "        self.hours_worked = hours_worked\n",
    "\n",
    "    def calculate_salary(self):\n",
    "        return self.hourly_rate * self.hours_worked\n",
    "\n",
    "\n",
    "# Create objects\n",
    "full_time_employee = FullTimeEmployee(5000)\n",
    "part_time_employee = PartTimeEmployee(20, 80)\n",
    "\n",
    "print(f\"Full-time Employee Salary: ${full_time_employee.calculate_salary()}\")\n",
    "print(f\"Part-time Employee Salary: ${part_time_employee.calculate_salary()}\")"
   ]
  },
  {
   "cell_type": "markdown",
   "metadata": {},
   "source": [
    "An abstract method can have an implementation, although this is not very common. When an abstract method has an implementation, it is called a \"concrete\" abstract method. This allows subclasses to either use the provided implementation or override it with their own implementation.\n",
    "Even though Rectangle did not override the area() method, it was still able to be instantiated because the abstract method area() in Shape had a default implementation. Normally, an abstract method must be implemented in any concrete (non-abstract) class that inherits the abstract class. However, because the area() method in Shape already had a default implementation, it wasn't necessary for Rectangle to override it.\n",
    "\n",
    "This is an important feature of abstract methods with default implementations. In Python, when an abstract method has an implementation, the derived class does not have to override it. If the derived class doesn’t provide its own implementation, the base class's default implementation is used."
   ]
  },
  {
   "cell_type": "code",
   "execution_count": 17,
   "metadata": {},
   "outputs": [
    {
     "ename": "TypeError",
     "evalue": "Can't instantiate abstract class Rectangle with abstract method area",
     "output_type": "error",
     "traceback": [
      "\u001b[1;31m---------------------------------------------------------------------------\u001b[0m",
      "\u001b[1;31mTypeError\u001b[0m                                 Traceback (most recent call last)",
      "Cell \u001b[1;32mIn[17], line 34\u001b[0m\n\u001b[0;32m     32\u001b[0m \u001b[38;5;66;03m# Creating objects\u001b[39;00m\n\u001b[0;32m     33\u001b[0m circle \u001b[38;5;241m=\u001b[39m Circle(\u001b[38;5;241m5\u001b[39m)\n\u001b[1;32m---> 34\u001b[0m rectangle \u001b[38;5;241m=\u001b[39m \u001b[43mRectangle\u001b[49m\u001b[43m(\u001b[49m\u001b[38;5;241;43m4\u001b[39;49m\u001b[43m,\u001b[49m\u001b[43m \u001b[49m\u001b[38;5;241;43m6\u001b[39;49m\u001b[43m)\u001b[49m\n\u001b[0;32m     36\u001b[0m \u001b[38;5;66;03m# Using overridden area method in Circle\u001b[39;00m\n\u001b[0;32m     37\u001b[0m \u001b[38;5;28mprint\u001b[39m(\u001b[38;5;124mf\u001b[39m\u001b[38;5;124m\"\u001b[39m\u001b[38;5;124mArea of Circle: \u001b[39m\u001b[38;5;132;01m{\u001b[39;00mcircle\u001b[38;5;241m.\u001b[39marea()\u001b[38;5;132;01m}\u001b[39;00m\u001b[38;5;124m\"\u001b[39m)  \u001b[38;5;66;03m# Calls Circle's area method\u001b[39;00m\n",
      "\u001b[1;31mTypeError\u001b[0m: Can't instantiate abstract class Rectangle with abstract method area"
     ]
    }
   ],
   "source": [
    "from abc import ABC, abstractmethod\n",
    "\n",
    "# Abstract class with an abstract method having a default implementation\n",
    "\n",
    "\n",
    "class Shape(ABC):\n",
    "\n",
    "    @abstractmethod\n",
    "    def area(self):\n",
    "        print(\"This is a default implementation of area method\")\n",
    "        return 0\n",
    "\n",
    "# Concrete class (Circle)\n",
    "\n",
    "\n",
    "class Circle(Shape):\n",
    "    def __init__(self, radius):\n",
    "        self.radius = radius\n",
    "\n",
    "    def area(self):\n",
    "        return 3.14 * self.radius * self.radius\n",
    "\n",
    "# Concrete class (Rectangle)\n",
    "\n",
    "\n",
    "class Rectangle(Shape):\n",
    "    def __init__(self, length, width):\n",
    "        self.length = length\n",
    "        self.width = width\n",
    "\n",
    "\n",
    "# Creating objects\n",
    "circle = Circle(5)\n",
    "rectangle = Rectangle(4, 6)\n",
    "\n",
    "# Using overridden area method in Circle\n",
    "print(f\"Area of Circle: {circle.area()}\")  # Calls Circle's area method\n",
    "\n",
    "# Using default area method in Rectangle\n",
    "print(f\"Area of Rectangle: {rectangle.area()}\")  # Uses default implementation"
   ]
  },
  {
   "cell_type": "markdown",
   "metadata": {},
   "source": [
    "An abstract class in Python doesn’t need to be completely abstract. It can contain both abstract methods (which must be implemented by subclasses) and concrete methods (which already have an implementation). This allows you to define default behavior that can be used by subclasses, while still enforcing that certain methods be overridden."
   ]
  },
  {
   "cell_type": "code",
   "execution_count": null,
   "metadata": {},
   "outputs": [],
   "source": [
    "from abc import ABC, abstractmethod\n",
    "\n",
    "\n",
    "class Vehicle(ABC):\n",
    "\n",
    "    @abstractmethod\n",
    "    def start_engine(self):\n",
    "        pass\n",
    "\n",
    "    def stop_engine(self):\n",
    "        print(\"Engine stopped\")\n",
    "\n",
    "\n",
    "class Car(Vehicle):\n",
    "    def start_engine(self):\n",
    "        print(\"Car engine started\")\n",
    "\n",
    "\n",
    "class Bike(Vehicle):\n",
    "    def start_engine(self):\n",
    "        print(\"Bike engine started\")\n",
    "\n",
    "\n",
    "# Using both abstract and concrete methods\n",
    "car = Car()\n",
    "bike = Bike()\n",
    "\n",
    "car.start_engine()  # Car engine started\n",
    "bike.start_engine()  # Bike engine started\n",
    "car.stop_engine()  # Engine stopped"
   ]
  },
  {
   "cell_type": "code",
   "execution_count": 18,
   "metadata": {},
   "outputs": [
    {
     "name": "stdout",
     "output_type": "stream",
     "text": [
      "Printing document...\n",
      "Scanning document...\n"
     ]
    }
   ],
   "source": [
    "from abc import ABC, abstractmethod\n",
    "\n",
    "\n",
    "class Printer(ABC):\n",
    "\n",
    "    @abstractmethod\n",
    "    def print_document(self):\n",
    "        pass\n",
    "\n",
    "\n",
    "class Scanner(ABC):\n",
    "\n",
    "    @abstractmethod\n",
    "    def scan_document(self):\n",
    "        pass\n",
    "\n",
    "\n",
    "class MultiFunctionMachine(Printer, Scanner):\n",
    "\n",
    "    def print_document(self):\n",
    "        print(\"Printing document...\")\n",
    "\n",
    "    def scan_document(self):\n",
    "        print(\"Scanning document...\")\n",
    "\n",
    "\n",
    "# Instantiate the multi-function machine\n",
    "mfm = MultiFunctionMachine()\n",
    "mfm.print_document()  # Printing document...\n",
    "mfm.scan_document()   # Scanning document..."
   ]
  },
  {
   "cell_type": "code",
   "execution_count": null,
   "metadata": {},
   "outputs": [],
   "source": [
    "d= lambda p:p*2\n",
    "t= lambda p:p*3\n",
    "x=2\n",
    "x=d(x)\n",
    "x=t(x)\n",
    "x=d(x)\n",
    "print(x)"
   ]
  },
  {
   "cell_type": "code",
   "execution_count": null,
   "metadata": {},
   "outputs": [],
   "source": [
    "assharma_py36\n",
    "123456"
   ]
  },
  {
   "cell_type": "code",
   "execution_count": null,
   "metadata": {},
   "outputs": [],
   "source": [
    "d= {\"abc\":10,\"a\":12}\n",
    "# del (d[\"abc1\"])\n",
    "d[\"abc1\"]"
   ]
  },
  {
   "cell_type": "code",
   "execution_count": null,
   "metadata": {},
   "outputs": [],
   "source": [
    "d"
   ]
  },
  {
   "cell_type": "code",
   "execution_count": null,
   "metadata": {},
   "outputs": [],
   "source": [
    "def main():\n",
    "    try:\n",
    "        f()\n",
    "        print(10)\n",
    "    except"
   ]
  },
  {
   "cell_type": "code",
   "execution_count": 19,
   "metadata": {},
   "outputs": [
    {
     "name": "stdout",
     "output_type": "stream",
     "text": [
      "234566"
     ]
    }
   ],
   "source": [
    "mylist=[1,2,3,4,5,6]\n",
    "for i in range(1,6):\n",
    "    mylist[i-1]=mylist[i]\n",
    "\n",
    "for i in range(0,6):\n",
    "    print (mylist[i],end=\"\")"
   ]
  },
  {
   "cell_type": "code",
   "execution_count": 20,
   "metadata": {},
   "outputs": [
    {
     "data": {
      "text/plain": [
       "(4, 8)"
      ]
     },
     "execution_count": 20,
     "metadata": {},
     "output_type": "execute_result"
    }
   ],
   "source": [
    "def fun(x):\n",
    "    return x*x,x*x*x\n",
    "fun(2)"
   ]
  },
  {
   "cell_type": "code",
   "execution_count": 21,
   "metadata": {},
   "outputs": [
    {
     "data": {
      "text/plain": [
       "[100, 2]"
      ]
     },
     "execution_count": 21,
     "metadata": {},
     "output_type": "execute_result"
    }
   ],
   "source": [
    "l=[1,2]\n",
    "l1=l\n",
    "l[0]=100\n",
    "l1"
   ]
  },
  {
   "cell_type": "code",
   "execution_count": null,
   "metadata": {},
   "outputs": [],
   "source": [
    "class myerr(Exception):\n",
    "    def __init__(self,value):\n",
    "        self.value=value\n",
    "    def __str__(self):\n",
    "        return repr(self.value)\n",
    "try:\n",
    "    raise(myerr(2*2))\n",
    "except myerr as e:\n",
    "    print('My error , value', e.value)\n",
    "    "
   ]
  },
  {
   "cell_type": "code",
   "execution_count": 22,
   "metadata": {},
   "outputs": [
    {
     "data": {
      "text/plain": [
       "{1: 'c'}"
      ]
     },
     "execution_count": 22,
     "metadata": {},
     "output_type": "execute_result"
    }
   ],
   "source": [
    "v= {1:'a'}\n",
    "v[1]='c'\n",
    "v"
   ]
  },
  {
   "cell_type": "code",
   "execution_count": 23,
   "metadata": {},
   "outputs": [
    {
     "name": "stdout",
     "output_type": "stream",
     "text": [
      "1\n"
     ]
    }
   ],
   "source": [
    "class A:\n",
    "    def __init__(self):\n",
    "        self.x=1\n",
    "        self.__y=1\n",
    "    def getY(self):\n",
    "        return self.__Y\n",
    "a=A()\n",
    "print(a.x)"
   ]
  },
  {
   "cell_type": "code",
   "execution_count": 24,
   "metadata": {},
   "outputs": [
    {
     "name": "stdout",
     "output_type": "stream",
     "text": [
      "[33, 2]\n"
     ]
    }
   ],
   "source": [
    "def f(value):\n",
    "    value[0]=33\n",
    "v=[1,2]\n",
    "f(v)\n",
    "print(v)"
   ]
  },
  {
   "cell_type": "code",
   "execution_count": 25,
   "metadata": {},
   "outputs": [
    {
     "name": "stdout",
     "output_type": "stream",
     "text": [
      "3 44\n"
     ]
    }
   ],
   "source": [
    "def f(v,value):\n",
    "    v=1\n",
    "    value[0]=44\n",
    "t=3\n",
    "v=[1,2,3]\n",
    "f(t,v)\n",
    "print(t,v[0])"
   ]
  },
  {
   "cell_type": "code",
   "execution_count": null,
   "metadata": {},
   "outputs": [],
   "source": [
    "x=list(range(2,10))\n",
    "y=list(filter(isPrime,x))"
   ]
  },
  {
   "cell_type": "code",
   "execution_count": 26,
   "metadata": {},
   "outputs": [
    {
     "name": "stdout",
     "output_type": "stream",
     "text": [
      "hi\n"
     ]
    }
   ],
   "source": [
    "for var in []:\n",
    "    print (var)\n",
    "else:\n",
    "    print(\"hi\")"
   ]
  },
  {
   "cell_type": "code",
   "execution_count": 27,
   "metadata": {},
   "outputs": [
    {
     "data": {
      "text/plain": [
       "tuple"
      ]
     },
     "execution_count": 27,
     "metadata": {},
     "output_type": "execute_result"
    }
   ],
   "source": [
    "v=1,2,3,4\n",
    "type(v)"
   ]
  },
  {
   "cell_type": "code",
   "execution_count": 28,
   "metadata": {},
   "outputs": [
    {
     "data": {
      "text/plain": [
       "'a'"
      ]
     },
     "execution_count": 28,
     "metadata": {},
     "output_type": "execute_result"
    }
   ],
   "source": [
    "d={1:\"a\"}\n",
    "x=d.get(1)\n",
    "x"
   ]
  },
  {
   "cell_type": "code",
   "execution_count": 29,
   "metadata": {},
   "outputs": [
    {
     "ename": "AttributeError",
     "evalue": "'A' object has no attribute '__y'",
     "output_type": "error",
     "traceback": [
      "\u001b[1;31m---------------------------------------------------------------------------\u001b[0m",
      "\u001b[1;31mAttributeError\u001b[0m                            Traceback (most recent call last)",
      "Cell \u001b[1;32mIn[29], line 8\u001b[0m\n\u001b[0;32m      6\u001b[0m         \u001b[38;5;28;01mreturn\u001b[39;00m \u001b[38;5;28mself\u001b[39m\u001b[38;5;241m.\u001b[39m__Y\n\u001b[0;32m      7\u001b[0m a\u001b[38;5;241m=\u001b[39mA()\n\u001b[1;32m----> 8\u001b[0m \u001b[38;5;28mprint\u001b[39m(\u001b[43ma\u001b[49m\u001b[38;5;241;43m.\u001b[39;49m\u001b[43m__y\u001b[49m)\n",
      "\u001b[1;31mAttributeError\u001b[0m: 'A' object has no attribute '__y'"
     ]
    }
   ],
   "source": [
    "class A:\n",
    "    def __init__(self):\n",
    "        self.x=1\n",
    "        self.__y=1\n",
    "    def getY(self):\n",
    "        return self.__Y\n",
    "a=A()\n",
    "print(a.__y)"
   ]
  },
  {
   "cell_type": "code",
   "execution_count": 30,
   "metadata": {},
   "outputs": [
    {
     "ename": "AttributeError",
     "evalue": "'A' object has no attribute '_A__Y'",
     "output_type": "error",
     "traceback": [
      "\u001b[1;31m---------------------------------------------------------------------------\u001b[0m",
      "\u001b[1;31mAttributeError\u001b[0m                            Traceback (most recent call last)",
      "Cell \u001b[1;32mIn[30], line 9\u001b[0m\n\u001b[0;32m      7\u001b[0m a\u001b[38;5;241m=\u001b[39mA()\n\u001b[0;32m      8\u001b[0m a\u001b[38;5;241m.\u001b[39m__y\u001b[38;5;241m=\u001b[39m\u001b[38;5;241m45\u001b[39m\n\u001b[1;32m----> 9\u001b[0m \u001b[38;5;28mprint\u001b[39m(\u001b[43ma\u001b[49m\u001b[38;5;241;43m.\u001b[39;49m\u001b[43mgetY\u001b[49m\u001b[43m(\u001b[49m\u001b[43m)\u001b[49m)\n",
      "Cell \u001b[1;32mIn[30], line 6\u001b[0m, in \u001b[0;36mA.getY\u001b[1;34m(self)\u001b[0m\n\u001b[0;32m      5\u001b[0m \u001b[38;5;28;01mdef\u001b[39;00m \u001b[38;5;21mgetY\u001b[39m(\u001b[38;5;28mself\u001b[39m):\n\u001b[1;32m----> 6\u001b[0m     \u001b[38;5;28;01mreturn\u001b[39;00m \u001b[38;5;28;43mself\u001b[39;49m\u001b[38;5;241;43m.\u001b[39;49m\u001b[43m__Y\u001b[49m\n",
      "\u001b[1;31mAttributeError\u001b[0m: 'A' object has no attribute '_A__Y'"
     ]
    }
   ],
   "source": [
    "class A:\n",
    "    def __init__(self):\n",
    "        self.x=1\n",
    "        self.__y=1\n",
    "    def getY(self):\n",
    "        return self.__Y\n",
    "a=A()\n",
    "a.__y=45\n",
    "print(a.getY())"
   ]
  },
  {
   "cell_type": "code",
   "execution_count": null,
   "metadata": {},
   "outputs": [],
   "source": [
    "private variable\n",
    "__y=100"
   ]
  },
  {
   "cell_type": "code",
   "execution_count": null,
   "metadata": {},
   "outputs": [],
   "source": [
    "re.S\n",
    "re.DOTALL\n",
    "Make the '.' special character match any character at all, including a newline;"
   ]
  },
  {
   "cell_type": "code",
   "execution_count": null,
   "metadata": {},
   "outputs": [],
   "source": [
    "def main():\n",
    "    try:\n",
    "        f()\n",
    "        print(\"after fun call\")\n",
    "\n",
    "    except ZeroDivisionError:\n",
    "        print (\"zerodivision\")\n",
    "    except:\n",
    "        print(\"exception\")\n",
    "def f():\n",
    "    print(1/0)\n",
    "main()\n"
   ]
  },
  {
   "cell_type": "code",
   "execution_count": null,
   "metadata": {},
   "outputs": [],
   "source": [
    "try:\n",
    "    list=5*[0]\n",
    "    x=list[5]\n",
    "    print(\"done\")\n",
    "except IndexError:\n",
    "    print(\"error\")"
   ]
  },
  {
   "cell_type": "code",
   "execution_count": null,
   "metadata": {},
   "outputs": [],
   "source": [
    "# 2**3\n",
    "2^3"
   ]
  },
  {
   "cell_type": "code",
   "execution_count": null,
   "metadata": {},
   "outputs": [],
   "source": [
    "pow(2,3)"
   ]
  },
  {
   "cell_type": "code",
   "execution_count": 31,
   "metadata": {},
   "outputs": [
    {
     "name": "stdout",
     "output_type": "stream",
     "text": [
      "3 2\n"
     ]
    }
   ],
   "source": [
    "def f1(x=1,y=2):\n",
    "    x+=y\n",
    "    y+=1\n",
    "    print(x,y)\n",
    "f1(2,1)"
   ]
  },
  {
   "cell_type": "code",
   "execution_count": 32,
   "metadata": {},
   "outputs": [
    {
     "data": {
      "text/plain": [
       "[('abc', 40), ('def', 45)]"
      ]
     },
     "execution_count": 32,
     "metadata": {},
     "output_type": "execute_result"
    }
   ],
   "source": [
    "d={\"abc\":40,\"def\":45}\n",
    "# print(list(d.items()))\n",
    "list(d.items())"
   ]
  },
  {
   "cell_type": "code",
   "execution_count": 33,
   "metadata": {},
   "outputs": [
    {
     "ename": "SyntaxError",
     "evalue": "keyword argument repeated: a (442708485.py, line 3)",
     "output_type": "error",
     "traceback": [
      "\u001b[1;36m  Cell \u001b[1;32mIn[33], line 3\u001b[1;36m\u001b[0m\n\u001b[1;33m    foo(a=2,b=3,a=3)\u001b[0m\n\u001b[1;37m                ^\u001b[0m\n\u001b[1;31mSyntaxError\u001b[0m\u001b[1;31m:\u001b[0m keyword argument repeated: a\n"
     ]
    }
   ],
   "source": [
    "def foo(**p):\n",
    "    print(p)\n",
    "foo(a=2,b=3,a=3)"
   ]
  },
  {
   "cell_type": "code",
   "execution_count": null,
   "metadata": {},
   "outputs": [],
   "source": [
    "import re\n",
    "s=\"87 is less than 87878787\"\n",
    "re.search(r'/d+',str)\n",
    "re.findall(r'/d+',str)"
   ]
  },
  {
   "cell_type": "code",
   "execution_count": 34,
   "metadata": {},
   "outputs": [
    {
     "data": {
      "text/plain": [
       "[8, 6, 4, 2]"
      ]
     },
     "execution_count": 34,
     "metadata": {},
     "output_type": "execute_result"
    }
   ],
   "source": [
    "l=[1,2,3,4,5,6,7,8]\n",
    "l[::-2]"
   ]
  },
  {
   "cell_type": "code",
   "execution_count": 38,
   "metadata": {},
   "outputs": [
    {
     "ename": "TypeError",
     "evalue": "__init() missing 1 required positional argument: 'y'",
     "output_type": "error",
     "traceback": [
      "\u001b[1;31m---------------------------------------------------------------------------\u001b[0m",
      "\u001b[1;31mTypeError\u001b[0m                                 Traceback (most recent call last)",
      "Cell \u001b[1;32mIn[38], line 8\u001b[0m\n\u001b[0;32m      5\u001b[0m         \u001b[38;5;28mself\u001b[39m\u001b[38;5;241m.\u001b[39mx\u001b[38;5;241m=\u001b[39my       \n\u001b[0;32m      7\u001b[0m d1\u001b[38;5;241m=\u001b[39mDummy()\n\u001b[1;32m----> 8\u001b[0m \u001b[43md1\u001b[49m\u001b[38;5;241;43m.\u001b[39;49m\u001b[43m_Dummy__init\u001b[49m\u001b[43m(\u001b[49m\u001b[43m)\u001b[49m\n",
      "\u001b[1;31mTypeError\u001b[0m: __init() missing 1 required positional argument: 'y'"
     ]
    }
   ],
   "source": [
    "class Dummy:\n",
    "    def __init(self):\n",
    "        self.x=12\n",
    "    def __init(self,y):\n",
    "        self.x=y       \n",
    "        \n",
    "d1=Dummy()\n",
    "d1._Dummy__init()"
   ]
  },
  {
   "cell_type": "code",
   "execution_count": 39,
   "metadata": {},
   "outputs": [
    {
     "name": "stdout",
     "output_type": "stream",
     "text": [
      "hi\n"
     ]
    }
   ],
   "source": [
    "class Dummy:\n",
    "    def __init__(self,s=\"hi\"):\n",
    "        self.s=s\n",
    "\n",
    "    def print1(self): \n",
    "        print(self.s)\n",
    "        \n",
    "d1=Dummy()\n",
    "d1.print1()"
   ]
  },
  {
   "cell_type": "code",
   "execution_count": null,
   "metadata": {},
   "outputs": [],
   "source": [
    "class A:\n",
    "    def __init__(self,s=\"hi\"):\n",
    "        self.s=s\n",
    "\n",
    "    def print1(self): \n",
    "        print(self.s)\n",
    "        \n",
    "d1=Dummy()\n",
    "d1.print1()"
   ]
  },
  {
   "cell_type": "code",
   "execution_count": 40,
   "metadata": {},
   "outputs": [],
   "source": [
    "d={\"A\":1,\"b\":2}\n",
    "# len(d)\n",
    "d.get(\"C\")"
   ]
  },
  {
   "cell_type": "code",
   "execution_count": 41,
   "metadata": {},
   "outputs": [
    {
     "data": {
      "text/plain": [
       "11"
      ]
     },
     "execution_count": 41,
     "metadata": {},
     "output_type": "execute_result"
    }
   ],
   "source": [
    "x=10\n",
    "y=1.5\n",
    "int(x+y)"
   ]
  },
  {
   "cell_type": "code",
   "execution_count": 42,
   "metadata": {},
   "outputs": [
    {
     "name": "stdout",
     "output_type": "stream",
     "text": [
      "3 3\n"
     ]
    }
   ],
   "source": [
    "def f1(x=3,y=4):\n",
    "    x=x+y\n",
    "    y+=1\n",
    "    print(x,y)\n",
    "f1(y=2,x=1)"
   ]
  },
  {
   "cell_type": "code",
   "execution_count": 43,
   "metadata": {},
   "outputs": [
    {
     "name": "stdout",
     "output_type": "stream",
     "text": [
      "1\n"
     ]
    }
   ],
   "source": [
    "l=[1,5,5,5,5,1]\n",
    "max=l[0]\n",
    "indexofmax=0\n",
    "for i in range(1,len(l)):\n",
    "    if l[i]>max:\n",
    "        max=l[i]\n",
    "        indexofmax=i\n",
    "print(indexofmax)"
   ]
  },
  {
   "cell_type": "code",
   "execution_count": null,
   "metadata": {},
   "outputs": [],
   "source": [
    "def f(value):\n",
    "    value[0]=44\n",
    "v=[1,2,3]\n",
    "f(v)\n",
    "print(v)"
   ]
  },
  {
   "cell_type": "code",
   "execution_count": null,
   "metadata": {},
   "outputs": [],
   "source": [
    "class A:\n",
    "    def __init__(self):\n",
    "        protected self.x=1\n",
    "        self.__y=1\n",
    "\n",
    "    def print1(self): \n",
    "        return self.__y\n",
    "        \n",
    "d1=A()\n",
    "d1.x=45\n",
    "print(d1.x)"
   ]
  },
  {
   "cell_type": "code",
   "execution_count": null,
   "metadata": {},
   "outputs": [],
   "source": [
    "l=[1,2,3]\n",
    "l.pop(2)"
   ]
  },
  {
   "cell_type": "code",
   "execution_count": null,
   "metadata": {},
   "outputs": [],
   "source": [
    "def foo():\n",
    "    try:\n",
    "        print(1)\n",
    "    finally:\n",
    "        print(2)\n",
    "foo()"
   ]
  },
  {
   "cell_type": "code",
   "execution_count": null,
   "metadata": {},
   "outputs": [],
   "source": [
    "try:\n",
    "    list=10*[0]\n",
    "    x=list[9]\n",
    "    print(\"done\")\n",
    "except IndexError:\n",
    "    print(\"error\")\n",
    "else:\n",
    "    print(\"nithing\")\n",
    "finally:\n",
    "    print(\"final\")"
   ]
  },
  {
   "cell_type": "code",
   "execution_count": null,
   "metadata": {},
   "outputs": [],
   "source": []
  }
 ],
 "metadata": {
  "kernelspec": {
   "display_name": "Python 3",
   "language": "python",
   "name": "python3"
  },
  "language_info": {
   "codemirror_mode": {
    "name": "ipython",
    "version": 3
   },
   "file_extension": ".py",
   "mimetype": "text/x-python",
   "name": "python",
   "nbconvert_exporter": "python",
   "pygments_lexer": "ipython3",
   "version": "3.9.0"
  }
 },
 "nbformat": 4,
 "nbformat_minor": 2
}
