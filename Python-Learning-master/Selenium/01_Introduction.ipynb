{
 "cells": [
  {
   "cell_type": "markdown",
   "metadata": {},
   "source": [
    "## What Is Selenium?\n",
    "Selenium is an open source tool which is used for automating the tests carried out on web browsers (Web applications are tested using any web browser). \n",
    "\n",
    "Wait, before you get carried away, let me re-iterate that, only testing of web applications is possible with Selenium. We can neither test any desktop (software) application nor test any mobile application using Selenium.\n",
    "\n",
    "It’ a bummer right? I can feel your pain. But don’t worry, there are many tools for testing software and mobile applications like: IBM’s RFT, HP’s QPT, Appium and many more. But, the focus of this blog is, testing dynamic web applications and why Selenium is the best for that purpose.\n",
    "\n",
    "Since Selenium is open-source, there is no licensing cost involved, which is a major advantage over other testing tools. Other reasons behind Selenium’s ever growing popularity are:"
   ]
  },
  {
   "cell_type": "markdown",
   "metadata": {},
   "source": [
    "![Interpeter](Selenium_Architecture.png)"
   ]
  },
  {
   "cell_type": "code",
   "execution_count": 3,
   "metadata": {},
   "outputs": [
    {
     "data": {
      "text/plain": [
       "410"
      ]
     },
     "execution_count": 3,
     "metadata": {},
     "output_type": "execute_result"
    }
   ],
   "source": [
    "import requests\n",
    "r = requests.get('https://github.com/timeline.json')\n",
    "r.status_code\n",
    "\n",
    "pycharm\n",
    "sublime\n",
    "jupyter notebook"
   ]
  },
  {
   "cell_type": "code",
   "execution_count": 1,
   "metadata": {},
   "outputs": [
    {
     "ename": "SyntaxError",
     "evalue": "invalid syntax (<ipython-input-1-c5f1e00a636a>, line 1)",
     "output_type": "error",
     "traceback": [
      "\u001b[1;36m  File \u001b[1;32m\"<ipython-input-1-c5f1e00a636a>\"\u001b[1;36m, line \u001b[1;32m1\u001b[0m\n\u001b[1;33m    javascript give the instruction to web browser\u001b[0m\n\u001b[1;37m                  ^\u001b[0m\n\u001b[1;31mSyntaxError\u001b[0m\u001b[1;31m:\u001b[0m invalid syntax\n"
     ]
    }
   ],
   "source": [
    "4 Components:\n",
    "Selenium provides library ( different jar files are available) for different languages\n",
    "\n",
    "When u enter the get command---> a json payload will be created\n",
    "payload will have all information like platform and all than through json wire protocol \n",
    "\n",
    "\n",
    "javascript give the instruction to web browser\n",
    "\n",
    "\n",
    "every browser has java script engine or interpreter\n",
    "\n",
    "same origin policy\n",
    "\n",
    "prohibiths javascript\n",
    "\n",
    "security measure\n",
    "\n",
    "prevent the script develops on one site to another\n",
    "\n",
    "prohibits the javascript developed for one website to another webstie\n",
    "\n",
    "\n",
    "open google com\n",
    "\n",
    "find any script\n",
    "\n"
   ]
  },
  {
   "cell_type": "markdown",
   "metadata": {},
   "source": [
    "##  Drop down box\n",
    "## button\n",
    "## links\n",
    "image\n",
    "edit box\n",
    "Radio button\n",
    "Check box\n",
    "Drop down\n",
    "Text area\n",
    "text box"
   ]
  },
  {
   "cell_type": "markdown",
   "metadata": {},
   "source": [
    "Operations on Web page\n",
    "1. Open a browser\n",
    "2. Close a browser\n",
    "3. Refresh\n",
    "4. back\n",
    "5. forward\n",
    "6. minimzize\n",
    "7. Maxmize\n",
    "8. navigate from current page to any other page\n",
    "9. Get source code of web page"
   ]
  },
  {
   "cell_type": "markdown",
   "metadata": {},
   "source": [
    "Operation on web element\n",
    "*Edit box\n",
    "Enter the text\n",
    "read the text\n",
    "Enable\n",
    "existance\n"
   ]
  },
  {
   "cell_type": "markdown",
   "metadata": {},
   "source": [
    "# Link\n",
    "click\n",
    "enabled/disabled\n",
    "existance\n",
    "link text"
   ]
  },
  {
   "cell_type": "code",
   "execution_count": 4,
   "metadata": {},
   "outputs": [
    {
     "ename": "SyntaxError",
     "evalue": "invalid syntax (<ipython-input-4-be2cd9c19f15>, line 1)",
     "output_type": "error",
     "traceback": [
      "\u001b[1;36m  File \u001b[1;32m\"<ipython-input-4-be2cd9c19f15>\"\u001b[1;36m, line \u001b[1;32m1\u001b[0m\n\u001b[1;33m    Radio button\u001b[0m\n\u001b[1;37m               ^\u001b[0m\n\u001b[1;31mSyntaxError\u001b[0m\u001b[1;31m:\u001b[0m invalid syntax\n"
     ]
    }
   ],
   "source": [
    "Radio button\n",
    "enabled /disabled\n",
    "click\n",
    "existance"
   ]
  },
  {
   "cell_type": "code",
   "execution_count": 5,
   "metadata": {},
   "outputs": [
    {
     "ename": "SyntaxError",
     "evalue": "invalid syntax (<ipython-input-5-6c14dc2de69a>, line 1)",
     "output_type": "error",
     "traceback": [
      "\u001b[1;36m  File \u001b[1;32m\"<ipython-input-5-6c14dc2de69a>\"\u001b[1;36m, line \u001b[1;32m1\u001b[0m\n\u001b[1;33m    check box button\u001b[0m\n\u001b[1;37m            ^\u001b[0m\n\u001b[1;31mSyntaxError\u001b[0m\u001b[1;31m:\u001b[0m invalid syntax\n"
     ]
    }
   ],
   "source": [
    "check box button\n",
    "Multiple selection\n",
    "enabled\n",
    "existance\n",
    "click\n"
   ]
  },
  {
   "cell_type": "code",
   "execution_count": 6,
   "metadata": {},
   "outputs": [
    {
     "ename": "SyntaxError",
     "evalue": "invalid syntax (<ipython-input-6-408508442b8f>, line 3)",
     "output_type": "error",
     "traceback": [
      "\u001b[1;36m  File \u001b[1;32m\"<ipython-input-6-408508442b8f>\"\u001b[1;36m, line \u001b[1;32m3\u001b[0m\n\u001b[1;33m    size of image\u001b[0m\n\u001b[1;37m          ^\u001b[0m\n\u001b[1;31mSyntaxError\u001b[0m\u001b[1;31m:\u001b[0m invalid syntax\n"
     ]
    }
   ],
   "source": [
    "image\n",
    "click\n",
    "size of image\n",
    "link image\n"
   ]
  },
  {
   "cell_type": "code",
   "execution_count": null,
   "metadata": {},
   "outputs": [],
   "source": [
    "drop down box\n",
    "select \n",
    "count of elements\n",
    "add text"
   ]
  }
 ],
 "metadata": {
  "kernelspec": {
   "display_name": "Python 3",
   "language": "python",
   "name": "python3"
  },
  "language_info": {
   "codemirror_mode": {
    "name": "ipython",
    "version": 3
   },
   "file_extension": ".py",
   "mimetype": "text/x-python",
   "name": "python",
   "nbconvert_exporter": "python",
   "pygments_lexer": "ipython3",
   "version": "3.7.3"
  }
 },
 "nbformat": 4,
 "nbformat_minor": 2
}
