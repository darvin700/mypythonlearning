{
 "cells": [
  {
   "cell_type": "markdown",
   "metadata": {},
   "source": [
    "Singleton Method is a type of Creational Design pattern and is one of the simplest design pattern available to us. It is a way to provide one and only one object of a particular type. It involves only one class to create methods and specify the objects.\n",
    "Singleton Design Pattern can be understood by a very simple example of Database connectivity. When each object creates a unique Database Connection to the Database, it will highly affect the cost and expenses of the project. So, it is always better to make a single connection rather than making extra irrelevant connections which can be easily done by Singleton Design Pattern."
   ]
  },
  {
   "cell_type": "code",
   "execution_count": 1,
   "metadata": {},
   "outputs": [
    {
     "name": "stdout",
     "output_type": "stream",
     "text": [
      "Algorithms\n",
      "Algorithms\n",
      "Geeks\n",
      "Geeks\n",
      "Geeks\n"
     ]
    }
   ],
   "source": [
    "# Singleton Borg pattern \n",
    "class Borg: \n",
    "\n",
    "\t# state shared by each instance \n",
    "\t__shared_state = dict() \n",
    "\n",
    "\t# constructor method \n",
    "\tdef __init__(self): \n",
    "\n",
    "\t\tself.__dict__ = self.__shared_state \n",
    "\t\tself.state = 'Singelton'\n",
    "\n",
    "\tdef __str__(self): \n",
    "\n",
    "\t\treturn self.state \n",
    "\n",
    "# main method \n",
    "if __name__ == \"__main__\": \n",
    "\n",
    "\tperson1 = Borg() # object of class Borg \n",
    "\tperson2 = Borg() # object of class Borg \n",
    "\tperson3 = Borg() # object of class Borg \n",
    "\n",
    "\tperson1.state = 'DataStructures' # person1 changed the state \n",
    "\tperson2.state = 'Algorithms'\t # person2 changed the state \n",
    "\n",
    "\tprint(person1) # output --> Algorithms \n",
    "\tprint(person2) # output --> Algorithms \n",
    "\n",
    "\tperson3.state = 'Geeks' # person3 changed the \n",
    "\t\t\t\t\t\t# the shared state \n",
    "\n",
    "\tprint(person1) # output --> Geeks \n",
    "\tprint(person2) # output --> Geeks \n",
    "\tprint(person3) # output --> Geeks "
   ]
  },
  {
   "cell_type": "code",
   "execution_count": 2,
   "metadata": {},
   "outputs": [
    {
     "ename": "SyntaxError",
     "evalue": "Missing parentheses in call to 'print'. Did you mean print(s)? (<ipython-input-2-3aac3a9d55b1>, line 16)",
     "output_type": "error",
     "traceback": [
      "\u001b[1;36m  File \u001b[1;32m\"<ipython-input-2-3aac3a9d55b1>\"\u001b[1;36m, line \u001b[1;32m16\u001b[0m\n\u001b[1;33m    print s\u001b[0m\n\u001b[1;37m          ^\u001b[0m\n\u001b[1;31mSyntaxError\u001b[0m\u001b[1;31m:\u001b[0m Missing parentheses in call to 'print'. Did you mean print(s)?\n"
     ]
    }
   ],
   "source": [
    "class Singleton:\n",
    "   __instance = None\n",
    "   @staticmethod \n",
    "   def getInstance():\n",
    "      \"\"\" Static access method. \"\"\"\n",
    "      if Singleton.__instance == None:\n",
    "         Singleton()\n",
    "      return Singleton.__instance\n",
    "   def __init__(self):\n",
    "      \"\"\" Virtually private constructor. \"\"\"\n",
    "      if Singleton.__instance != None:\n",
    "         raise Exception(\"This class is a singleton!\")\n",
    "      else:\n",
    "         Singleton.__instance = self\n",
    "s = Singleton()\n",
    "print (s)\n",
    "\n",
    "s = Singleton.getInstance()\n",
    "print (s)\n",
    "\n",
    "s = Singleton.getInstance()\n",
    "print (s)"
   ]
  },
  {
   "cell_type": "code",
   "execution_count": null,
   "metadata": {},
   "outputs": [],
   "source": []
  }
 ],
 "metadata": {
  "kernelspec": {
   "display_name": "Python 3",
   "language": "python",
   "name": "python3"
  },
  "language_info": {
   "codemirror_mode": {
    "name": "ipython",
    "version": 3
   },
   "file_extension": ".py",
   "mimetype": "text/x-python",
   "name": "python",
   "nbconvert_exporter": "python",
   "pygments_lexer": "ipython3",
   "version": "3.7.3"
  }
 },
 "nbformat": 4,
 "nbformat_minor": 2
}
