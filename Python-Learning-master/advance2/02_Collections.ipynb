{
 "cells": [
  {
   "cell_type": "markdown",
   "metadata": {},
   "source": [
    "namedtuple()\n",
    "namedtuple() is a factory function for creating tuple subclasses with named fields. Named tuples can be used like regular tuples, but with named attributes that you can access using dot notation, making the code more readable."
   ]
  },
  {
   "cell_type": "code",
   "execution_count": null,
   "metadata": {},
   "outputs": [],
   "source": [
    "from collections import namedtuple\n",
    "\n",
    "# Define a namedtuple class\n",
    "Point = namedtuple('Point', ['x', 'y'])\n",
    "\n",
    "# Create a Point instance\n",
    "p = Point(1, 2)\n",
    "\n",
    "# Access fields using dot notation\n",
    "print(p.x)  # Output: 1\n",
    "print(p.y)  # Output: 2\n",
    "\n",
    "# Named tuples also support indexing\n",
    "print(p[0])  # Output: 1\n"
   ]
  },
  {
   "cell_type": "markdown",
   "metadata": {},
   "source": [
    "deque (pronounced \"deck\") is a double-ended queue, meaning you can add and remove elements from both ends of the queue with O(1) time complexity. It’s ideal for implementing queues and stacks."
   ]
  },
  {
   "cell_type": "code",
   "execution_count": null,
   "metadata": {},
   "outputs": [],
   "source": [
    "from collections import deque\n",
    "\n",
    "# Create a deque\n",
    "d = deque([1, 2, 3])\n",
    "\n",
    "# Append items to both ends\n",
    "d.append(4)          # Adds 4 to the right\n",
    "d.appendleft(0)      # Adds 0 to the left\n",
    "\n",
    "print(d)  # Output: deque([0, 1, 2, 3, 4])\n",
    "\n",
    "# Pop items from both ends\n",
    "d.pop()         # Removes 4 from the right\n",
    "d.popleft()     # Removes 0 from the left\n",
    "\n",
    "print(d)  # Output: deque([1, 2, 3])"
   ]
  },
  {
   "cell_type": "markdown",
   "metadata": {},
   "source": [
    "Counter is a dictionary subclass that helps count the occurrences of elements in an iterable. It makes it easy to count occurrences of items and perform common tasks like sorting or filtering.\n",
    "\n"
   ]
  },
  {
   "cell_type": "code",
   "execution_count": 1,
   "metadata": {},
   "outputs": [
    {
     "name": "stdout",
     "output_type": "stream",
     "text": [
      "Counter({4: 4, 3: 3, 2: 2, 1: 1})\n",
      "3\n",
      "[(4, 4), (3, 3)]\n"
     ]
    }
   ],
   "source": [
    "from collections import Counter\n",
    "\n",
    "# Count occurrences of elements in a list\n",
    "c = Counter([1, 2, 2, 3, 3, 3, 4, 4, 4, 4])\n",
    "\n",
    "print(c)  # Output: Counter({4: 4, 3: 3, 2: 2, 1: 1})\n",
    "\n",
    "# Access count of a specific element\n",
    "print(c[3])  # Output: 3\n",
    "\n",
    "# Most common elements\n",
    "print(c.most_common(2))  # Output: [(4, 4), (3, 3)]"
   ]
  },
  {
   "cell_type": "markdown",
   "metadata": {},
   "source": [
    "defaultdict is a subclass of the built-in dict that provides a default value for non-existent keys. You can specify a default factory function that returns a default value when a key is accessed that does not exist in the dictionary."
   ]
  },
  {
   "cell_type": "code",
   "execution_count": 2,
   "metadata": {},
   "outputs": [
    {
     "name": "stdout",
     "output_type": "stream",
     "text": [
      "defaultdict(<class 'int'>, {'a': 1, 'b': 2})\n",
      "0\n"
     ]
    }
   ],
   "source": [
    "from collections import defaultdict\n",
    "\n",
    "# Create a defaultdict with int as the default factory\n",
    "d = defaultdict(int)\n",
    "\n",
    "# Assign values to keys\n",
    "d['a'] += 1\n",
    "d['b'] += 2\n",
    "\n",
    "print(d)  # Output: defaultdict(<class 'int'>, {'a': 1, 'b': 2})\n",
    "\n",
    "# Accessing a non-existing key returns the default value (0 in this case)\n",
    "print(d['c'])  # Output: 0"
   ]
  },
  {
   "cell_type": "markdown",
   "metadata": {},
   "source": [
    "\n",
    "ChainMap groups multiple dictionaries or mappings together to create a single, updated view. This allows you to work with several dictionaries at once without having to merge them manually.\n",
    "\n",
    "\n"
   ]
  },
  {
   "cell_type": "code",
   "execution_count": null,
   "metadata": {},
   "outputs": [],
   "source": [
    "from collections import ChainMap\n",
    "\n",
    "# Create two dictionaries\n",
    "dict1 = {'a': 1, 'b': 2}\n",
    "dict2 = {'b': 3, 'c': 4}\n",
    "\n",
    "# Chain them together\n",
    "chain = ChainMap(dict1, dict2)\n",
    "\n",
    "print(chain)  # Output: ChainMap({'a': 1, 'b': 2}, {'b': 3, 'c': 4})\n",
    "\n",
    "# Access values in the combined map\n",
    "print(chain['b'])  # Output: 2 (from dict1, as it comes first in the ChainMap)\n",
    "print(chain['c'])  # Output: 4 (from dict2)"
   ]
  }
 ],
 "metadata": {
  "kernelspec": {
   "display_name": "Python 3",
   "language": "python",
   "name": "python3"
  },
  "language_info": {
   "codemirror_mode": {
    "name": "ipython",
    "version": 3
   },
   "file_extension": ".py",
   "mimetype": "text/x-python",
   "name": "python",
   "nbconvert_exporter": "python",
   "pygments_lexer": "ipython3",
   "version": "3.9.0"
  }
 },
 "nbformat": 4,
 "nbformat_minor": 4
}
