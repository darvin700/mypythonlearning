{
 "cells": [
  {
   "cell_type": "code",
   "execution_count": null,
   "metadata": {},
   "outputs": [],
   "source": [
    "\n",
    "\n",
    "from selenium import webdriver\n",
    "from time import sleep\n",
    "from selenium.webdriver.common.keys import Keys\n",
    "from selenium.webdriver.support.ui import WebDriverWait\n",
    "from selenium.webdriver.support.ui import Select\n",
    "\n",
    "driver = webdriver.Chrome()\n",
    "driver.maximize_window()\n",
    "driver.get(\"https://jqueryui.com/datepicker/\")\n",
    "frame=driver.find_element_by_tag_name(\"iframe\")\n",
    "driver.switch_to_frame(frame)\n",
    "datepicker=driver.find_element_by_id(\"datepicker\")\n",
    "datepicker.click()\n",
    "sleep(3)\n",
    "day=driver.find_element_by_xpath(\"//table/tbody/tr/td/a[text()='13']\")\n",
    "day.click()\n",
    "sleep(3)\n",
    "datepicker=driver.find_element_by_id(\"datepicker\")\n",
    "print \"date is \" , datepicker.get_attribute('value')\n",
    "driver.switch_to_default_content()\n",
    "driver.quit()\n",
    "# //*[@id=\"ui-datepicker-div\"]/table/tbody/tr[4]/td[2]/a"
   ]
  }
 ],
 "metadata": {
  "kernelspec": {
   "display_name": "Python 3",
   "language": "python",
   "name": "python3"
  },
  "language_info": {
   "codemirror_mode": {
    "name": "ipython",
    "version": 3
   },
   "file_extension": ".py",
   "mimetype": "text/x-python",
   "name": "python",
   "nbconvert_exporter": "python",
   "pygments_lexer": "ipython3",
   "version": "3.6.4"
  }
 },
 "nbformat": 4,
 "nbformat_minor": 2
}
