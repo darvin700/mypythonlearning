{
 "cells": [
  {
   "cell_type": "markdown",
   "metadata": {},
   "source": [
    "Cookie is a piece of information from website and saved by your web browser\n",
    "Cookies are a way of remembering users and their interaction with the site by storing information in the cookie file as key value pairs.\n",
    "It stores the login information like user name / email and password\n",
    "HTTP cookie is also known as a web cookie, a browser cookie or Internet cookie.\n",
    "One website cannot access the cookies set by other websites"
   ]
  },
  {
   "cell_type": "code",
   "execution_count": 2,
   "metadata": {},
   "outputs": [
    {
     "name": "stdout",
     "output_type": "stream",
     "text": [
      "[{'domain': '.jqueryui.com', 'expiry': 1571404768.655145, 'httpOnly': True, 'name': '__cfduid', 'path': '/', 'secure': False, 'value': 'db92c23c17537545f909b0b56494d84a01539868768'}, {'domain': '.jqueryui.com', 'expiry': 1602940771, 'httpOnly': False, 'name': '__utma', 'path': '/', 'secure': False, 'value': '77982607.1504485918.1539868771.1539868771.1539868771.1'}, {'domain': '.jqueryui.com', 'httpOnly': False, 'name': '__utmc', 'path': '/', 'secure': False, 'value': '77982607'}, {'domain': '.jqueryui.com', 'expiry': 1539870571, 'httpOnly': False, 'name': '__utmb', 'path': '/', 'secure': False, 'value': '77982607.1.10.1539868771'}, {'domain': '.jqueryui.com', 'expiry': 1555636771, 'httpOnly': False, 'name': '__utmz', 'path': '/', 'secure': False, 'value': '77982607.1539868771.1.1.utmcsr=(direct)|utmccn=(direct)|utmcmd=(none)'}, {'domain': '.jqueryui.com', 'expiry': 1539869371, 'httpOnly': False, 'name': '__utmt', 'path': '/', 'secure': False, 'value': '1'}]\n"
     ]
    }
   ],
   "source": [
    "from selenium import webdriver\n",
    "from time import sleep\n",
    "driver = webdriver.Chrome()\n",
    "driver.maximize_window()\n",
    "driver.get(\"https://jqueryui.com/autocomplete\")\n",
    "print(driver.get_cookies())\n",
    "driver.quit()"
   ]
  }
 ],
 "metadata": {
  "kernelspec": {
   "display_name": "Python 3",
   "language": "python",
   "name": "python3"
  },
  "language_info": {
   "codemirror_mode": {
    "name": "ipython",
    "version": 3
   },
   "file_extension": ".py",
   "mimetype": "text/x-python",
   "name": "python",
   "nbconvert_exporter": "python",
   "pygments_lexer": "ipython3",
   "version": "3.6.4"
  }
 },
 "nbformat": 4,
 "nbformat_minor": 2
}
